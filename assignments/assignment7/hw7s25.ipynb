{
 "cells": [
  {
   "cell_type": "markdown",
   "id": "dffc0740-ed97-457b-934a-bcf019a789a7",
   "metadata": {},
   "source": [
    "# HW7: Z-test, T-test, and Sample mean difference test.\n",
    "\n",
    "Total : 50 pts This is an individual assignment.\n",
    "\n",
    "this is a programming assignment. "
   ]
  },
  {
   "cell_type": "markdown",
   "id": "a81d67ca-262a-432b-b028-6cfa73143d03",
   "metadata": {},
   "source": [
    "## Problem 1\n",
    "\n",
    "(10 pt)\n",
    "A nutritionist claims that the average sugar content in a certain brand of energy drink is 27 grams. A sample of 50 drinks has an average sugar content of 28.2 grams with a standard deviation of 3.5 grams.\n",
    "\n",
    "- At α = 0.02, test whether the nutritionist’s claim is correct.\n"
   ]
  },
  {
   "cell_type": "code",
   "execution_count": null,
   "id": "9aa92eae-437f-4629-b39f-50f731b1543d",
   "metadata": {},
   "outputs": [],
   "source": []
  },
  {
   "cell_type": "markdown",
   "id": "e0c38f4a-9109-4bc6-adef-ac8adc4b6d26",
   "metadata": {},
   "source": [
    "## Problem 2\n",
    "\n",
    "(15 pt)\n",
    "Consider the dataset “nba_player_stats.csv”, which contains season-by-season statistics for NBA players from 1950 to 2023, including points scored.\n",
    "1. (2 pt) Plot the year versus the points scored (PTS) for all players in each season.\n",
    "2. (3 points) Create two groups of average player PTS:\n",
    "\n",
    "- Group 1: Players from seasons 1950 to 1985\n",
    "    \n",
    "- Group 2: Players from seasons 1986 to 2023\n",
    "\n",
    "plot the histogram of the player's PTS for these two groups.\n",
    "\n",
    "3.(10 pt) Based on the observation, analyze whether scoring trends have changed over time. Does the data suggest that NBA players score less points per game in modern basketball (group 2)? at $\\alpha =0.05$,  test whether there is a significant difference in mean scores between the two groups."
   ]
  },
  {
   "cell_type": "markdown",
   "id": "b6d8f419-a320-42e0-a771-007868e20cbb",
   "metadata": {},
   "source": [
    " "
   ]
  },
  {
   "cell_type": "markdown",
   "id": "95ef04f3-292f-4ca0-8371-eb2ee679518f",
   "metadata": {},
   "source": [
    "## Problem 3\n",
    "\n",
    "(15 pt)\n",
    "Conduct an **analytical** hypothesis test on whether urban and rural populations have the **same** firearms mortality rates **distribution**.\n",
    "\n",
    "Recall the data \"firearms-urban.csv\" where the columns of interest for this investigation are:\n",
    "\n",
    "* **RATE-2014**: The firearms mortality rate by state from 2014. \n",
    "\n",
    "* **Percent Urban**: The percentage of the total population in urban areas, from https://www.icip.iastate.edu/tables/population/urban-pct-states. Although this data is 2010, it should be sufficiently accurate for our purposes.\n",
    "\n",
    " "
   ]
  },
  {
   "cell_type": "code",
   "execution_count": null,
   "id": "d404b14e-d28e-4635-b857-9cc82c4fe4d2",
   "metadata": {},
   "outputs": [],
   "source": []
  },
  {
   "cell_type": "markdown",
   "id": "41d830d3-ac93-40bb-8e18-d56c9ba91dad",
   "metadata": {},
   "source": [
    "## Problem 4\n",
    "(10 pt)\n",
    "A researcher wants to compare the  exam scores of students who studied online vs. in-person. A random sample of students is selected:\n",
    "\n",
    "| Group     | Sample Size (n) | Mean Score | Std Dev (s) |\n",
    "|----------|----------------|------------|-------------|\n",
    "| Online   | 30             | 78         | 6           |\n",
    "| In-Person | 30            | 82         | 5           |\n",
    "\n",
    "- At **α = 0.05**, test whether there is a significant difference in mean scores between the two groups.\n",
    "\n",
    "here the Std Dev is the estimated(unbiased) std. dev. from the samples\n"
   ]
  },
  {
   "cell_type": "code",
   "execution_count": null,
   "id": "dbcee59b-ff49-455d-972b-66d77ded7311",
   "metadata": {},
   "outputs": [],
   "source": []
  }
 ],
 "metadata": {
  "kernelspec": {
   "display_name": "Python 3 (ipykernel)",
   "language": "python",
   "name": "python3"
  },
  "language_info": {
   "codemirror_mode": {
    "name": "ipython",
    "version": 3
   },
   "file_extension": ".py",
   "mimetype": "text/x-python",
   "name": "python",
   "nbconvert_exporter": "python",
   "pygments_lexer": "ipython3",
   "version": "3.9.13"
  }
 },
 "nbformat": 4,
 "nbformat_minor": 5
}
