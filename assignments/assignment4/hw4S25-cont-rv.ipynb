{
 "cells": [
  {
   "cell_type": "markdown",
   "id": "da558c6f-fbd8-415d-8b73-4578b6f7af78",
   "metadata": {},
   "source": [
    "# HOMEWORK 4\n",
    "\n",
    "- This homework assignment have **only one part**. However, some problems require both solutions using handwritten and using python stats. When it is asked, you will compare the two solutions to see if the answers are consistent.\n",
    "\n",
    "- Submit both the handwritten part of the solution and the python Jupyternotebook for the programming part (in printout pdf) seperately."
   ]
  },
  {
   "cell_type": "code",
   "execution_count": 2,
   "id": "7dcede1a-b32c-4785-91fd-355de9ae3341",
   "metadata": {},
   "outputs": [],
   "source": [
    "\n",
    "import numpy as np\n",
    "import numpy.random as npr\n",
    "import random\n",
    "import itertools\n",
    "\n",
    "import pandas as pd\n",
    "\n",
    "import matplotlib.pyplot as plt\n",
    "%matplotlib inline\n",
    "# plt.style.use('ggplot')\n",
    "\n",
    "import scipy.stats as stats"
   ]
  },
  {
   "cell_type": "markdown",
   "id": "a4b6be2c",
   "metadata": {},
   "source": [
    "# Problem 1\n",
    "(15pt)\n",
    "\n",
    "[require both handwritten and coding solutions]\n",
    "\n",
    "Let $X$ be uniformly distriubuted in $-5\\le x\\le 5$.\n",
    "\n",
    "Find the probability of\n",
    "\n",
    "(a) $P(X<1)$;\n",
    "\n",
    "(b) $P(|X-1|\\ge 1)$;"
   ]
  },
  {
   "cell_type": "code",
   "execution_count": 5,
   "id": "7c9bcefe-7d6f-41fa-a154-ba1d238cd095",
   "metadata": {},
   "outputs": [
    {
     "name": "stdout",
     "output_type": "stream",
     "text": [
      " P(X < 1): 0.6\n",
      " P(|X - 1| >= 1): 0.8\n"
     ]
    }
   ],
   "source": [
    "X = stats.uniform(loc=-5, scale=10) # scale = high - low\n",
    "# (a) P(X < 1)\n",
    "prob_X_less_than_1 = X.cdf(1)\n",
    "# (b) P(|X - 1| >= 1)\n",
    "prob_abs_X_minus_1_ge_1 = 1 - (X.cdf(2) - X.cdf(0)) # using 1- P(-1<X-1<1) = 1- P(0<X<2)\n",
    "print(\" P(X < 1):\", prob_X_less_than_1)\n",
    "print(\" P(|X - 1| >= 1):\", prob_abs_X_minus_1_ge_1)"
   ]
  },
  {
   "cell_type": "markdown",
   "id": "015e9a8e",
   "metadata": {},
   "source": [
    "# Problem 2\n",
    "\n",
    "(10pt)\n",
    "[require both handwritten and coding solutions]\n",
    "\n",
    "\n",
    "Suppose the mean lifetime of a certain type of electronic component is 5 years, modelled as an exponential random variable. What is the probability that a component lasts more than $8$ years, given that it has already lasted $3$ years?\n",
    "\n",
    "hint: use conditional probability axiom. see also the additional exercise. If you can prove the memoryless property in the additional exercise, then feel free to use that result as well (and include your proof).\n",
    "\n",
    " \n"
   ]
  },
  {
   "cell_type": "code",
   "execution_count": 10,
   "id": "53af4fdc-c47e-42dc-ae67-e2aebd3a13f2",
   "metadata": {},
   "outputs": [
    {
     "name": "stdout",
     "output_type": "stream",
     "text": [
      " P(X > 8 | X > 3) = 0.3678794411714422\n",
      "P(X>5) 0.36787944117144233\n"
     ]
    }
   ],
   "source": [
    "mean_lifetime = 5.0 # mean = 5 years\n",
    "# Generate samples from Exponential(mean=5)\n",
    "E = stats.expon(scale=mean_lifetime) # scale = 1/lambda = mean\n",
    "\n",
    "prob_gt_3 = E.sf(3)\n",
    "prob_gt_8 = E.sf(8)\n",
    "# Conditional probability:\n",
    "prob_cond = prob_gt_8 / prob_gt_3\n",
    "print(\" P(X > 8 | X > 3) =\", prob_cond)\n",
    "\n",
    "print(\"P(X>5)\", E.sf(5)) # validating memoryless property. P(X> 8|X>3) = P(X>5)"
   ]
  },
  {
   "cell_type": "markdown",
   "id": "3c88d725",
   "metadata": {},
   "source": [
    "# Problem 3\n",
    "(10pt)\n",
    "[only coding solution for this problem]\n",
    "\n",
    "\n",
    " The patient recovery time from a particular surgical procedure is normally distributed with a mean of 5.3 days and a standard deviation of 2.1 days. What is the probability that the patient recovery time is greater than 8 days?\n",
    "\n"
   ]
  },
  {
   "cell_type": "code",
   "execution_count": 12,
   "id": "379b1c9b-ffd5-4525-8614-151a7a5cc2c1",
   "metadata": {},
   "outputs": [
    {
     "name": "stdout",
     "output_type": "stream",
     "text": [
      "Probability (analytic) that recovery time > 8 days = 0.09927139684333097\n"
     ]
    }
   ],
   "source": [
    "mu = 5.3 # mean\n",
    "sigma = 2.1 # standard deviation\n",
    "# 1) Analytical approach using scipy.stats.norm\n",
    "3\n",
    "# Probability that X > 8:\n",
    "G = stats.norm(loc =mu, scale = 2.1)\n",
    "p_gt_8 = G.sf(8)\n",
    "print(\"Probability (analytic) that recovery time > 8 days =\", p_gt_8)"
   ]
  },
  {
   "cell_type": "markdown",
   "id": "418b435a",
   "metadata": {},
   "source": [
    "# Problem 4\n",
    "(15pt, 4.1,4.2,4.3 each 3 points and the last question 4.4 is 6 points )\n",
    "\n",
    "For 4.1, 4.2, 4.3, use coding solution. \n",
    "\n",
    "For 4.4, in your code solution, clarify the distribution of the random variable $Y$\n",
    " \n",
    "Let a Gaussian RV $X\\sim N(\\mu=2, \\sigma^2=16)$ \n",
    "\n",
    "1. Find the probability that $X$ is greater than 5.\n",
    "\n",
    "2. Find the probability that $X$ is less than 1.25\n",
    "\n",
    "3. Find the constant $c$ such that $P(X<c)=0.6$.\n",
    "\n",
    "4. Let $Y = 0.5 X + 10$, find the probability that $Y$ is greater than 12.\n"
   ]
  },
  {
   "cell_type": "code",
   "execution_count": 14,
   "id": "4c93a210-0fab-4c65-93fa-79461bd3809e",
   "metadata": {},
   "outputs": [
    {
     "name": "stdout",
     "output_type": "stream",
     "text": [
      "4.1) P(X > 5) = 0.2266273523768682\n",
      "4.2) P(X < 1.25) = 0.4256343118441028\n",
      "4.3) c such that P(X < c) = 0.6 => c = 0.9866115874568011\n",
      "4.4) P(Y > 12), where Y ~ Normal(11, 4) = 0.3085375387259869\n"
     ]
    }
   ],
   "source": [
    "from scipy.stats import norm\n",
    "# Given parameters for X ~ Normal(mu=2, sigma^2=16)\n",
    "mu = 2\n",
    "sigma = 4 # Standard deviation (sigma = sqrt(variance))\n",
    "# 4.1) Probability that X > 5\n",
    "G0 = stats.norm(loc=mu, scale=sigma)\n",
    "p_X_greater_5 = G0.sf(5)\n",
    "print(\"4.1) P(X > 5) =\", p_X_greater_5)\n",
    "# 4.2) Probability that X < 1.25\n",
    "p_X_less_1_25 = G0.cdf(1.25)\n",
    "print(\"4.2) P(X < 1.25) =\", p_X_less_1_25)\n",
    "# 4.3) Find c such that P(X < c) = 0.6\n",
    "c = G0.isf(0.6)\n",
    "print(\"4.3) c such that P(X < c) = 0.6 => c =\", c)\n",
    "# 4.4) Let Y = 0.5 * X + 10.\n",
    "# If X ~ Normal(mu, sigma^2), then Y = aX + b ~ Normal(a*mu + b, (a*sigma)^2).\n",
    "# Here, a = 0.5, b = 10:\n",
    "# E[Y] = 0.5 * mu + 10 = 11\n",
    "# Var(Y) = (0.5 * sigma)^2 = (0.5 * 4)^2 = 4\n",
    "# So Y ~ Normal(11, 2^2).\n",
    "# Probability that Y > 12:\n",
    "Y =stats.norm(loc=11, scale=2)\n",
    "p_Y_greater_12 = Y.sf(12)\n",
    "print(\"4.4) P(Y > 12), where Y ~ Normal(11, 4) =\", p_Y_greater_12)"
   ]
  },
  {
   "cell_type": "markdown",
   "id": "52719d45",
   "metadata": {},
   "source": [
    "# Additional exercises (not graded) "
   ]
  },
  {
   "cell_type": "markdown",
   "id": "db75ceb6",
   "metadata": {},
   "source": [
    "# Problem 6\n",
    "\n",
    "Memoryless property of exponential RV: **Lemma:** Let $X$ be a exponential RV. Show that $P(X>s+t|X>s) = P(X>t) $ for any $s, t>0$."
   ]
  },
  {
   "cell_type": "code",
   "execution_count": null,
   "id": "602426d0-841d-423e-8ccf-3290c35bac8f",
   "metadata": {},
   "outputs": [],
   "source": []
  },
  {
   "cell_type": "markdown",
   "id": "abf6c4d6-2c53-4795-9aa7-f57cdee53cec",
   "metadata": {},
   "source": [
    "If $Y$ is a uniform RV, does $Y$ satisfy the memoryless property? $P(X>s+t|X>s) = P(X>t) $ for any $s, t>0$.\n",
    "\n",
    "If not, can you give a counter example?"
   ]
  },
  {
   "cell_type": "code",
   "execution_count": null,
   "id": "a8519e88-7a21-4d8b-a40a-8b0feeae353e",
   "metadata": {},
   "outputs": [],
   "source": []
  },
  {
   "cell_type": "markdown",
   "id": "67646a4c-3df7-47c4-b284-4023d8a31c0f",
   "metadata": {},
   "source": []
  }
 ],
 "metadata": {
  "kernelspec": {
   "display_name": "Python 3 (ipykernel)",
   "language": "python",
   "name": "python3"
  },
  "language_info": {
   "codemirror_mode": {
    "name": "ipython",
    "version": 3
   },
   "file_extension": ".py",
   "mimetype": "text/x-python",
   "name": "python",
   "nbconvert_exporter": "python",
   "pygments_lexer": "ipython3",
   "version": "3.9.13"
  }
 },
 "nbformat": 4,
 "nbformat_minor": 5
}
