{
 "cells": [
  {
   "cell_type": "markdown",
   "id": "dffc0740-ed97-457b-934a-bcf019a789a7",
   "metadata": {},
   "source": [
    "# HW8: Vector, matrix, covariance, and correlation coefficient\n",
    "\n",
    "Total : 50 pts This is an individual assignment.\n",
    "\n",
    "The first **three** problems are analytical and must be solved by hand. \n",
    "\n",
    "The last problem is python programming. **Submit your solution in both handwritten part and jupyter notebook and pdf print of the jupyter notebook.**"
   ]
  },
  {
   "cell_type": "code",
   "execution_count": null,
   "id": "51acf855-afc3-4d1f-8b3e-6aa19a264a3a",
   "metadata": {},
   "outputs": [],
   "source": []
  },
  {
   "cell_type": "markdown",
   "id": "ea0727b9-2c94-4a41-baee-234963167f0e",
   "metadata": {
    "tags": []
   },
   "source": [
    "# Problem 1 - Vector Projections\n",
    "(15 pt)\n",
    "Answer the following problems: \n",
    "\n",
    "1. (5 pt) Compute the cosine similarity between these two vectors $\\mathbf{b}=\\left[\\begin{matrix}1\\\\1\\\\1\\end{matrix}\\right]$ and $\\mathbf{a}=\\left[\\begin{matrix}1\\\\2\\\\2\\end{matrix}\\right]$. "
   ]
  },
  {
   "cell_type": "markdown",
   "id": "a584cde6-074e-47c0-ae58-304e16768d44",
   "metadata": {},
   "source": [
    "2. (5 pt)Project the vector $\\mathbf{b}$ onto $\\mathbf{a}$. Check that $\\mathbf{e}$ is perpendicular to $\\mathbf{a}$, that is the angle between $\\mathbf{e}$ and $\\mathbf{a}$ is $\\pm \\pi/2$.\n",
    "\n",
    "    1. \\begin{align*}\\mathbf{b}=\\left[\\begin{matrix}1\\\\2\\\\2\\end{matrix}\\right]~~~~~~\\text{and }~~~~~~~\\mathbf{a}=\\left[\\begin{matrix}1\\\\1\\\\1\\end{matrix}\\right]\\end{align*}\n",
    "    2. \\begin{align*}\\mathbf{b}=\\left[\\begin{matrix}1\\\\3\\\\1\\end{matrix}\\right]~~~~~~\\text{and }~~~~~~~\\mathbf{a}=\\left[\\begin{matrix}-1\\\\-3\\\\-1\\end{matrix}\\right]\\end{align*}\n",
    "    "
   ]
  },
  {
   "cell_type": "markdown",
   "id": "f4284b93-395a-4942-a0ba-9751675553ef",
   "metadata": {},
   "source": [
    "3. (5 pt) Draw the projection of $\\mathbf{b}$ onto $\\mathbf{a}$ and also compute the projection vector:\n",
    "    1. \\begin{align*}\\mathbf{b}=\\left[\\begin{matrix}\\cos\\theta\\\\\\sin\\theta\\end{matrix}\\right]~~~~~~\\text{and }~~~~~~~\\mathbf{a}=\\left[\\begin{matrix}1\\\\0\\end{matrix}\\right]\\end{align*}\n",
    "    \n",
    "    hint: $\\theta$ is a variable. your answer will be a function of $\\theta$\n",
    "    \n",
    "    2. \\begin{align*}\n",
    "\\mathbf{b}=\\left[\\begin{matrix}1\\\\1\\end{matrix}\\right] ~~~~~~\\text{and }~~~~~~~\n",
    "\\mathbf{a}=\\left[\\begin{matrix}1\\\\-1\\end{matrix}\\right]\n",
    "\\end{align*}"
   ]
  },
  {
   "cell_type": "markdown",
   "id": "2c964c96-e364-45a7-8ef4-d954b9ec5760",
   "metadata": {
    "tags": []
   },
   "source": [
    "# Problem 2\n",
    "\n",
    "(each 2pt, total 10pt)\n",
    "Let $\\mathbf{A}$ be an $n\\times m$ matrix, $\\mathbf{x}$ be an $m\\times 1$ vector, and $\\mathbf{B}$ be an $n \\times n$ matrix.\n",
    "\n",
    "For the following operations, state where the operation is valid and, if it is, report the size of the output:\n",
    "\n",
    "a) $\\mathbf{A}^T\\mathbf{x}$"
   ]
  },
  {
   "cell_type": "markdown",
   "id": "05d7f4cc-5e3e-471d-a53b-5ce32cf5b739",
   "metadata": {},
   "source": [
    "b) $\\mathbf{A}\\mathbf{x}$"
   ]
  },
  {
   "cell_type": "markdown",
   "id": "4456507b-d0d7-4918-a3a7-b97f91e5e368",
   "metadata": {},
   "source": [
    "c) $\\mathbf{B}^T\\mathbf{A}\\mathbf{x}$"
   ]
  },
  {
   "cell_type": "markdown",
   "id": "c549f60e-075a-4a44-801f-7ac1e01ffb9f",
   "metadata": {},
   "source": [
    "d) $\\mathbf{A}\\mathbf{B}^T\\mathbf{x}$"
   ]
  },
  {
   "cell_type": "markdown",
   "id": "1f5e755f-b432-47ac-a916-b6a980119944",
   "metadata": {},
   "source": [
    "e) $\\mathbf{A}\\mathbf{x} + \\mathbf{A}\\mathbf{B}\\mathbf{x}$"
   ]
  },
  {
   "cell_type": "markdown",
   "id": "73e0fa13-4a4f-489c-9417-0ba29132d875",
   "metadata": {
    "tags": []
   },
   "source": [
    "# Problem 3\n",
    "(10pt)\n",
    "\n",
    "Multiply these matrices:\n",
    "\n",
    "1. \\begin{align*}\n",
    "\\left[\\begin{matrix}0&0&1\\\\0&1&0\\\\1&0&0\\end{matrix}\\right]\\left[\\begin{matrix}1&2&3\\\\4&5&6\\\\7&8&9\\end{matrix}\\right]\\left[\\begin{matrix}0&0&1\\\\0&1&0\\\\1&0&0\\end{matrix}\\right]\n",
    "\\end{align*}\n",
    "multiply the first two and then use the answer to multiple with the last matrix.\n",
    "\n",
    "2. \\begin{align*}\n",
    "\\left[\\begin{matrix}1&0&0\\\\-1&1&0\\\\-1&0&1\\end{matrix}\\right]\\left[\\begin{matrix}1&2&3\\\\1&3&1\\\\1&4&0\\end{matrix}\\right]\n",
    "\\end{align*}"
   ]
  },
  {
   "cell_type": "markdown",
   "id": "1a803574-ea4c-4f11-be55-a7d6f0133d1b",
   "metadata": {},
   "source": [
    "# Problem 4\n",
    "\n",
    "(15pt)"
   ]
  },
  {
   "cell_type": "markdown",
   "id": "34f4b368-e664-40aa-b96f-1f6c18fe1700",
   "metadata": {},
   "source": [
    "This following dataset contains information about individuals’ medical insurance charges along with attributes such as age, sex, body mass index (BMI), number of children, smoking status, and region.\n",
    "\n",
    "https://www.kaggle.com/datasets/mirichoi0218/insurance\n",
    "\n",
    "\n",
    "we are interested in exploring how these different attributes correlate with medical insurance charges of the individual. "
   ]
  },
  {
   "cell_type": "markdown",
   "id": "cc030231-2119-4b5b-9307-296db64b7d91",
   "metadata": {},
   "source": [
    "1. (5pt) consider the individual living in northwest region who does not have kids, which features among bmi, sex, smoker, regions are highly correlated with the insurance cost? \n",
    "\n",
    "(note the smoker and sex are not real valued. You can covert them to real valued entries using Boolean, for example, True for male and False for female, True for smoker and False for nonsmoker)\n",
    "Without the conversion, these data entry will be ignored in dataframe cov and corr functions.\n"
   ]
  },
  {
   "cell_type": "code",
   "execution_count": null,
   "id": "29e5e3ce-c7dc-4d17-9c86-e98b11cd01f5",
   "metadata": {},
   "outputs": [],
   "source": []
  },
  {
   "cell_type": "markdown",
   "id": "c5a85eae-f03d-43cb-af93-d14fffaed49a",
   "metadata": {},
   "source": [
    "2. (5pt) From your analysis, which variables have negative correlation to the charges in the northwest region?     Explain what  these negative correlations imply with your own understanding.\n"
   ]
  },
  {
   "cell_type": "code",
   "execution_count": null,
   "id": "2bf1c6c1-049f-47c9-8eec-f05f8f530455",
   "metadata": {},
   "outputs": [],
   "source": []
  },
  {
   "cell_type": "markdown",
   "id": "bd38c879-1120-498b-b20c-2e7dc0e8e76f",
   "metadata": {},
   "source": [
    "3. (5 pt) Now let's convert the regions to real numbers: 0: northwest, 1: northeast, 2: southwest, 3: southeast. Perform the correlation analysis and explain if the charges are correlated with the region?"
   ]
  },
  {
   "cell_type": "code",
   "execution_count": null,
   "id": "5cedb707-63cb-480d-ac85-021eea0969cc",
   "metadata": {},
   "outputs": [],
   "source": [
    "df= pd.read_csv( 'insurance.csv' )\n",
    "region_mapping = {\n",
    "    'northwest': 0,\n",
    "    'northeast': 1,\n",
    "    'southwest': 2,\n",
    "    'southeast': 3\n",
    "}\n",
    "\n",
    "df['region_num'] = df['region'].map(region_mapping)"
   ]
  },
  {
   "cell_type": "code",
   "execution_count": null,
   "id": "552d052e-96f8-4b33-b6f1-eb5181423d44",
   "metadata": {},
   "outputs": [],
   "source": []
  }
 ],
 "metadata": {
  "kernelspec": {
   "display_name": "Python 3 (ipykernel)",
   "language": "python",
   "name": "python3"
  },
  "language_info": {
   "codemirror_mode": {
    "name": "ipython",
    "version": 3
   },
   "file_extension": ".py",
   "mimetype": "text/x-python",
   "name": "python",
   "nbconvert_exporter": "python",
   "pygments_lexer": "ipython3",
   "version": "3.9.13"
  }
 },
 "nbformat": 4,
 "nbformat_minor": 5
}
