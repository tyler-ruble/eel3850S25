{
  "cells": [
    {
      "cell_type": "code",
      "execution_count": 1,
      "id": "5bb43e04-9f5f-45a5-9113-302514c36726",
      "metadata": {
        "id": "5bb43e04-9f5f-45a5-9113-302514c36726"
      },
      "outputs": [],
      "source": [
        "import numpy as np\n",
        "import matplotlib.pyplot as plt\n",
        "from scipy.stats import poisson\n",
        "from tqdm import tqdm"
      ]
    },
    {
      "cell_type": "markdown",
      "id": "7186ebed-d218-4e12-b1e4-4631c73cb8b0",
      "metadata": {
        "id": "7186ebed-d218-4e12-b1e4-4631c73cb8b0"
      },
      "source": [
        "# Homework 3\n",
        "\n",
        "(Total: 50pt)\n",
        "\n",
        "This is an individual assignment."
      ]
    },
    {
      "cell_type": "markdown",
      "id": "73b89072-5471-4370-b09b-a487f1c71905",
      "metadata": {
        "id": "73b89072-5471-4370-b09b-a487f1c71905"
      },
      "source": [
        "## Problem 1 (20pt)\n",
        "\n",
        "For the digital communication system in part 1, problem 1.\n",
        "\n",
        "1. Implement both MAP and MLE rule as two functions. (10pt)\n",
        "2. Plot the probability of error given  $P(A_0)$ range from [0,1] under MAP and MLE rules, using different colors. (10pt)"
      ]
    },
    {
      "cell_type": "code",
      "execution_count": 2,
      "id": "95daaa14-e258-4e88-b40f-752a2f57c9b1",
      "metadata": {
        "id": "95daaa14-e258-4e88-b40f-752a2f57c9b1"
      },
      "outputs": [],
      "source": [
        "# Given transition probabilities P(Bj | Ai)\n",
        "P = np.array([\n",
        "    [0.5, 0.25, 0.25],  # P(Bj | A0)\n",
        "    [0.1, 0.3, 0.6]     # P(Bj | A1)\n",
        "])\n",
        "\n",
        "def sim2to3(decision_rule, P, PA0, num_sims=10_000, verbose=False):\n",
        "    # Create all the input events at the same time:\n",
        "    inputs = np.random.choice([0, 1], num_sims, p=[PA0, 1-PA0])\n",
        "\n",
        "    # Create an array to determine the channel outputs\n",
        "    obs = np.zeros(num_sims)\n",
        "    # Create an array to store the decisions\n",
        "    decisions = np.zeros(num_sims)\n",
        "    # There are more efficient ways of doing this using NumPy, but\n",
        "    # individually determining each output for each input should make\n",
        "    # this easier to understand for most learners\n",
        "    for sim in range(num_sims):\n",
        "        # Choose observation according to transition probabilities for given input bit:\n",
        "        input_bit = inputs[sim]\n",
        "        observation = np.random.choice([0, 1, 2], p = P[input_bit])\n",
        "        obs[sim]= observation\n",
        "\n",
        "        # Now pass this observation to the decision_rule function:\n",
        "        decisions[sim] = decision_rule(observation, P, PA0)\n",
        "\n",
        "    # Finally, calculate the error probability. An error occurs\n",
        "    # whenever the decision is not equal to the true input\n",
        "    errors = np.sum(inputs!=decisions)\n",
        "    error_prob = errors/num_sims\n",
        "    if verbose:\n",
        "        print( f'The error probability is approximately {error_prob:.2f}')\n",
        "    return error_prob\n",
        "\n",
        "# MLE function\n",
        "def MLE (observation, P, PA0):\n",
        "    return np.argmax(P[:, observation]) # select the column corresponding to P(B_j|A_i), i=0,1\n",
        "\n",
        "# MAP function\n",
        "def MAP(observation, P, PA0):\n",
        "    # Take the jth column and multiply it elementwise by the\n",
        "    # a priori probability vector\n",
        "    scaled_apps = P[:, observation]*np.array([PA0, 1-PA0])\n",
        "    return np.argmax(scaled_apps)"
      ]
    },
    {
      "cell_type": "code",
      "source": [
        "sim2to3(MLE, P, 0.6, verbose=True)\n",
        "sim2to3(MAP, P, 0.6, verbose=True)"
      ],
      "metadata": {
        "colab": {
          "base_uri": "https://localhost:8080/"
        },
        "id": "DqFl_3XDLB9z",
        "outputId": "693cc47d-c46d-4e06-d258-185ca234f9c9"
      },
      "id": "DqFl_3XDLB9z",
      "execution_count": 3,
      "outputs": [
        {
          "output_type": "stream",
          "name": "stdout",
          "text": [
            "The error probability is approximately 0.35\n",
            "The error probability is approximately 0.31\n"
          ]
        },
        {
          "output_type": "execute_result",
          "data": {
            "text/plain": [
              "0.3128"
            ]
          },
          "metadata": {},
          "execution_count": 3
        }
      ]
    },
    {
      "cell_type": "code",
      "source": [
        "input_probs = np.linspace(0,1,21)\n",
        "\n",
        "pe_MLE = []\n",
        "pe_MAP = []\n",
        "\n",
        "for PA0 in tqdm(input_probs):\n",
        "    pe_MLE += [sim2to3(MLE, P, PA0)]\n",
        "    pe_MAP += [sim2to3(MAP, P, PA0)]\n",
        "\n",
        "plt.plot(input_probs, pe_MLE, 'b', label=\"MLE\")\n",
        "plt.plot(input_probs, pe_MAP, 'r--', label=\"MAP\")\n",
        "\n",
        "plt.legend()\n",
        "plt.xlabel('$P(A_0)$')\n",
        "plt.ylabel('Error probability');"
      ],
      "metadata": {
        "colab": {
          "base_uri": "https://localhost:8080/",
          "height": 471
        },
        "id": "3Xqijm5w3Z0c",
        "outputId": "c5a4cac7-9a4d-4c59-f2a0-fb37166516e4"
      },
      "id": "3Xqijm5w3Z0c",
      "execution_count": 9,
      "outputs": [
        {
          "output_type": "stream",
          "name": "stderr",
          "text": [
            "100%|██████████| 21/21 [00:14<00:00,  1.41it/s]\n"
          ]
        },
        {
          "output_type": "display_data",
          "data": {
            "text/plain": [
              "<Figure size 640x480 with 1 Axes>"
            ],
            "image/png": "[encoded data removed]"
          },
          "metadata": {}
        }
      ]
    },
    {
      "cell_type": "markdown",
      "id": "9450e8c5-2cb7-4b99-a544-a0e8e75537ec",
      "metadata": {
        "id": "9450e8c5-2cb7-4b99-a544-a0e8e75537ec"
      },
      "source": [
        "## problem 2 (10pt)\n",
        "\n",
        "A pharmaceutical company is testing a new vaccine against a virus. Based on previous studies, the vaccine is known to be 70% effective, meaning that each vaccinated person has a 70% chance of developing immunity.\n",
        "\n",
        "In a trial, 50 people receive the vaccine.\n",
        "\n",
        "Simulate the experiment by generating 1,000 random trials and estimate the probability of at least 35 people developing immunity."
      ]
    },
    {
      "cell_type": "code",
      "execution_count": 6,
      "id": "9a66daf3-6351-4294-9135-aaa4f7c0f1e3",
      "metadata": {
        "colab": {
          "base_uri": "https://localhost:8080/"
        },
        "id": "9a66daf3-6351-4294-9135-aaa4f7c0f1e3",
        "outputId": "cd6ac7e9-26da-43c1-9b32-24b7419e8aff"
      },
      "outputs": [
        {
          "output_type": "stream",
          "name": "stdout",
          "text": [
            "0.571\n"
          ]
        }
      ],
      "source": [
        "num_trials = 1000\n",
        "num_people = 50\n",
        "vaccine_effectiveness = 0.7\n",
        "\n",
        "# Simulate the experiment 1000 times\n",
        "immune_counts = np.random.binomial(num_people, vaccine_effectiveness, num_trials)\n",
        "\n",
        "prob_at_least_35 = np.mean(immune_counts >= 35)\n",
        "\n",
        "print(prob_at_least_35)"
      ]
    },
    {
      "cell_type": "markdown",
      "id": "f0aa793c-887c-4f21-b0c0-117f749d180b",
      "metadata": {
        "tags": [],
        "id": "f0aa793c-887c-4f21-b0c0-117f749d180b"
      },
      "source": [
        "## Problem 3 (20pt)\n",
        "\n",
        "A small coffee shop tracks the number of customers arriving per hour. Based on past data, they believe the arrival rate  \\lambda  follows one of two possible values:\n",
        "* Hypothesis 0 ( $H_0$ ): The arrival rate is 5 customers per hour ( $\\lambda_0 = 5$ ).\n",
        "* Hypothesis 1 ( $H_1$): The arrival rate is 10 customers per hour ( $\\lambda_1 = 10$ ).\n",
        "\n",
        "Before observing any data, the shop owner believes that both hypotheses are equally likely:\n",
        "\n",
        "$P(H_1) = P(H_0) = 0.5$\n",
        "\n",
        "\n",
        "Given an observed customer count  X = k  in one hour, use MAP estimation to determine which hypothesis is more probable.\n",
        "\n",
        "- Implement a python code to decide, given any k, output the decided hypothesis"
      ]
    },
    {
      "cell_type": "code",
      "execution_count": 7,
      "id": "de0ea170-9f55-459e-8f21-337a6331e110",
      "metadata": {
        "colab": {
          "base_uri": "https://localhost:8080/"
        },
        "id": "de0ea170-9f55-459e-8f21-337a6331e110",
        "outputId": "820a0750-843a-499c-a024-9b152cc7d6ee"
      },
      "outputs": [
        {
          "output_type": "stream",
          "name": "stdout",
          "text": [
            "{3: 'H0 (λ=5)', 5: 'H0 (λ=5)', 7: 'H0 (λ=5)', 10: 'H1 (λ=10)', 12: 'H1 (λ=10)', 15: 'H1 (λ=10)'}\n"
          ]
        }
      ],
      "source": [
        "lambda_0 = 5\n",
        "lambda_1 = 10\n",
        "P_H0 = 0.5\n",
        "P_H1 = 0.5\n",
        "\n",
        "def MAP_decision(k):\n",
        "    # Compute likelihoods P(X=k | Hi) using Poisson distribution\n",
        "    P_k_given_H0 = poisson.pmf(k, lambda_0)\n",
        "    P_k_given_H1 = poisson.pmf(k, lambda_1)\n",
        "\n",
        "    # Compute posteriors using Bayes' rule (P_k are the same)\n",
        "    if P_k_given_H1 * P_H1 > P_k_given_H0 * P_H0:\n",
        "        return \"H1 (λ=10)\"\n",
        "    else:\n",
        "        return \"H0 (λ=5)\"\n",
        "\n",
        "# Example\n",
        "test_values = [3, 5, 7, 10, 12, 15]\n",
        "decision_results = {k: MAP_decision(k) for k in test_values}\n",
        "print(decision_results)"
      ]
    }
  ],
  "metadata": {
    "kernelspec": {
      "display_name": "Python 3 (ipykernel)",
      "language": "python",
      "name": "python3"
    },
    "language_info": {
      "codemirror_mode": {
        "name": "ipython",
        "version": 3
      },
      "file_extension": ".py",
      "mimetype": "text/x-python",
      "name": "python",
      "nbconvert_exporter": "python",
      "pygments_lexer": "ipython3",
      "version": "3.9.19"
    },
    "colab": {
      "provenance": []
    }
  },
  "nbformat": 4,
  "nbformat_minor": 5
}