{
 "cells": [
  {
   "cell_type": "code",
   "execution_count": null,
   "id": "5bb43e04-9f5f-45a5-9113-302514c36726",
   "metadata": {},
   "outputs": [],
   "source": [
    "# import all libraries as needed"
   ]
  },
  {
   "cell_type": "markdown",
   "id": "7186ebed-d218-4e12-b1e4-4631c73cb8b0",
   "metadata": {},
   "source": [
    "# Homework 3\n",
    "\n",
    "(Total: 50pt)\n",
    "\n",
    "This is an individual assignment."
   ]
  },
  {
   "cell_type": "markdown",
   "id": "73b89072-5471-4370-b09b-a487f1c71905",
   "metadata": {},
   "source": [
    "## Problem 1 (20pt)\n",
    "\n",
    "For the digital communication system in part 1, problem 1.\n",
    "\n",
    "1. Implement both MAP and MLE rule as two functions. (10pt)\n",
    "2. Plot the probability of error given  $P(A_0)$ range from [0,1] under MAP and MLE rules, using different colors. (10pt)"
   ]
  },
  {
   "cell_type": "code",
   "execution_count": null,
   "id": "95daaa14-e258-4e88-b40f-752a2f57c9b1",
   "metadata": {},
   "outputs": [],
   "source": []
  },
  {
   "cell_type": "markdown",
   "id": "9450e8c5-2cb7-4b99-a544-a0e8e75537ec",
   "metadata": {},
   "source": [
    "## problem 2 (10pt)\n",
    "\n",
    "A pharmaceutical company is testing a new vaccine against a virus. Based on previous studies, the vaccine is known to be 70% effective, meaning that each vaccinated person has a 70% chance of developing immunity.\n",
    "\n",
    "In a trial, 50 people receive the vaccine.\n",
    "\n",
    "Simulate the experiment by generating 1,000 random trials and estimate the probability of at least 35 people developing immunity."
   ]
  },
  {
   "cell_type": "code",
   "execution_count": null,
   "id": "9a66daf3-6351-4294-9135-aaa4f7c0f1e3",
   "metadata": {},
   "outputs": [],
   "source": []
  },
  {
   "cell_type": "markdown",
   "id": "f0aa793c-887c-4f21-b0c0-117f749d180b",
   "metadata": {
    "tags": []
   },
   "source": [
    "## Problem 3 (20pt)\n",
    "\n",
    "A small coffee shop tracks the number of customers arriving per hour. Based on past data, they believe the arrival rate  \\lambda  follows one of two possible values:\n",
    "* Hypothesis 0 ( $H_0$ ): The arrival rate is 5 customers per hour ( $\\lambda_0 = 5$ ).\n",
    "* Hypothesis 1 ( $H_1$): The arrival rate is 10 customers per hour ( $\\lambda_1 = 10$ ).\n",
    "\n",
    "Before observing any data, the shop owner believes that both hypotheses are equally likely:\n",
    "\n",
    "$P(H_1) = P(H_0) = 0.5$\n",
    "\n",
    "\n",
    "Given an observed customer count  X = k  in one hour, use MAP estimation to determine which hypothesis is more probable. \n",
    "\n",
    "- Implement a python code to decide, given any k, output the decided hypothesis"
   ]
  },
  {
   "cell_type": "code",
   "execution_count": null,
   "id": "de0ea170-9f55-459e-8f21-337a6331e110",
   "metadata": {},
   "outputs": [],
   "source": []
  }
 ],
 "metadata": {
  "kernelspec": {
   "display_name": "Python 3 (ipykernel)",
   "language": "python",
   "name": "python3"
  },
  "language_info": {
   "codemirror_mode": {
    "name": "ipython",
    "version": 3
   },
   "file_extension": ".py",
   "mimetype": "text/x-python",
   "name": "python",
   "nbconvert_exporter": "python",
   "pygments_lexer": "ipython3",
   "version": "3.9.13"
  }
 },
 "nbformat": 4,
 "nbformat_minor": 5
}
