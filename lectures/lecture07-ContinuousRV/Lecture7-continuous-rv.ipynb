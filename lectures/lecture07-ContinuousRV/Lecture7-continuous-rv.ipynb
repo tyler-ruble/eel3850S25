{
 "cells": [
  {
   "cell_type": "markdown",
   "metadata": {},
   "source": [
    "# Lecture 7\n",
    "- Continuous Random Variables"
   ]
  },
  {
   "cell_type": "markdown",
   "metadata": {},
   "source": [
    "## Midterm course evaluations by logging into the below listed website (not Canvas):\n",
    "\n",
    " \n",
    "\n",
    "https://ufl.bluera.com/ufl/\n",
    "\n",
    "\n",
    "\n",
    "- Please complete as soon as possible\n",
    "- Gives me an opportunity to incorporate valuable feedback before the end of the semester!\n"
   ]
  },
  {
   "cell_type": "code",
   "execution_count": 1,
   "metadata": {
    "tags": []
   },
   "outputs": [],
   "source": [
    "import numpy as np\n",
    "import numpy.random as npr\n",
    "import random\n",
    "import itertools\n",
    "\n",
    "import pandas as pd\n",
    "\n",
    "import matplotlib.pyplot as plt\n",
    "%matplotlib inline\n",
    "# plt.style.use('ggplot')\n",
    "\n",
    "import scipy.stats as stats"
   ]
  },
  {
   "cell_type": "markdown",
   "metadata": {},
   "source": [
    "# Introduction to Continuous RVs"
   ]
  },
  {
   "cell_type": "markdown",
   "metadata": {},
   "source": [
    "## Uniform Continuous RVs\n",
    "\n",
    "* A Uniform RV models continuous-valued instances that are equally likely to occur in a given interval $[a,b]$.\n",
    "\n",
    "$$X \\sim \\text{Uniform}(a,b) \\text{ or }$$\n",
    "\n",
    "For short, \n",
    "\n",
    "$$X \\sim U(a,b) $$\n",
    "\n",
    "* The **probability density function (PDF)** of the Uniform random variable is:\n",
    "\n",
    "$$f_X(x) = \\begin{cases}\\frac{1}{b-a} & x\\in [a,b]\\\\ 0 & \\text{o.w.}\\end{cases}$$\n",
    "\n",
    "* The **cumulative distribution function (CDF)** of this Uniform random variable is:\n",
    "\n",
    "$$F_X(x) = \\begin{cases} 0 & x<a \\\\ \\frac{x-a}{b-a} & x\\in [a,b]\\\\ 1 & x>b \\end{cases}$$"
   ]
  },
  {
   "cell_type": "markdown",
   "metadata": {},
   "source": [
    "Previously, we introduced a way to choose random values from the interval $[0,1)$:"
   ]
  },
  {
   "cell_type": "code",
   "execution_count": null,
   "metadata": {},
   "outputs": [],
   "source": []
  },
  {
   "cell_type": "markdown",
   "metadata": {},
   "source": [
    "We could also use scipy.stats for this:"
   ]
  },
  {
   "cell_type": "markdown",
   "metadata": {},
   "source": [
    "\n",
    "In the standard form, the distribution is uniform on ``[0, 1]``. Using\n",
    "the parameters ``loc`` and ``scale``, one obtains the uniform distribution\n",
    "on ``[loc, loc + scale]``.\n"
   ]
  },
  {
   "cell_type": "code",
   "execution_count": null,
   "metadata": {},
   "outputs": [],
   "source": []
  },
  {
   "cell_type": "code",
   "execution_count": null,
   "metadata": {},
   "outputs": [],
   "source": []
  },
  {
   "cell_type": "markdown",
   "metadata": {},
   "source": [
    "* Let's find $F_U(0.2)=P(U \\le u)$ for $u=0.2$:"
   ]
  },
  {
   "cell_type": "code",
   "execution_count": null,
   "metadata": {},
   "outputs": [],
   "source": [
    "u = 0.2\n",
    " "
   ]
  },
  {
   "cell_type": "markdown",
   "metadata": {},
   "source": [
    "* Let's find $P(0.25 < U \\le 0.75)$:"
   ]
  },
  {
   "cell_type": "code",
   "execution_count": null,
   "metadata": {},
   "outputs": [],
   "source": []
  },
  {
   "cell_type": "markdown",
   "metadata": {
    "slideshow": {
     "slide_type": "subslide"
    }
   },
   "source": [
    "* Let's find $P(0.45 < U \\le 0.55)$:"
   ]
  },
  {
   "cell_type": "code",
   "execution_count": null,
   "metadata": {},
   "outputs": [],
   "source": []
  },
  {
   "cell_type": "markdown",
   "metadata": {},
   "source": [
    "Note that since $F_U(u)=u$, then $F_U(b)-F_U(a)=b-a$."
   ]
  },
  {
   "cell_type": "markdown",
   "metadata": {},
   "source": [
    "**This random variable has no probability at any of the values it takes on! So, the PMF is *meaningless* for continuous RVs. **\n",
    "\n",
    "* This video from 3Blue1Brown provides another view of this: [\"Why *probability of 0* does not mean *impossible*\"](https://www.youtube.com/watch?v=ZA4JkHKZM50)"
   ]
  },
  {
   "cell_type": "markdown",
   "metadata": {},
   "source": [
    "___"
   ]
  },
  {
   "cell_type": "markdown",
   "metadata": {},
   "source": [
    "## Exponential RV"
   ]
  },
  {
   "cell_type": "markdown",
   "metadata": {},
   "source": [
    "**Used to model:** Lifetime of an electrical device, service time or time between arrivals in a queue, distance between mutations on a DNA strand, monthly and annual maximum values of daily rainfall."
   ]
  },
  {
   "cell_type": "markdown",
   "metadata": {},
   "source": [
    "* Obtainable as a limit of Geometric random variables."
   ]
  },
  {
   "cell_type": "markdown",
   "metadata": {},
   "source": [
    "* $X$ is an exponential RV and write it as: \n",
    "\n",
    "$$X\\sim \\text{Exponential}(\\lambda )$$"
   ]
  },
  {
   "cell_type": "markdown",
   "metadata": {},
   "source": [
    "* The **probability density function (PDF)** is given as:\n",
    "\n",
    "$$ f_X(x) = \\begin{cases} \\lambda e^{-\\lambda x}, & x \\ge 0 \\\\ 0, & x < 0  \\end{cases} $$\n",
    "\n",
    "or, using the $\\mu=1/\\lambda$ notation,\n",
    "\n",
    "$$ f_X(x) = \\begin{cases} \\frac{1}{\\mu} e^{-x/\\mu}, & x \\ge 0 \\\\ 0, & x < 0  \\end{cases} $$\n",
    "\n",
    "We will use the first form because it is more common and simpler."
   ]
  },
  {
   "cell_type": "markdown",
   "metadata": {},
   "source": [
    "* The CDF is given as:\n",
    "\n",
    "\\begin{align*}\n",
    "F_X(x) &= \\int_{-\\infty}^{x} f_X(u) du\\\\ \n",
    "&= \\begin{cases}\\int_0^{x} \\lambda e^{-\\lambda u}du & x\\geq 0 \\\\ 0 & x<0 \\end{cases}\\\\\n",
    "&= \\begin{cases} 1-e^{-\\lambda x} & x\\geq 0 \\\\ 0 & x<0 \\end{cases}\\\\\n",
    "\\end{align*}"
   ]
  },
  {
   "cell_type": "code",
   "execution_count": null,
   "metadata": {},
   "outputs": [],
   "source": []
  },
  {
   "cell_type": "code",
   "execution_count": null,
   "metadata": {},
   "outputs": [],
   "source": [
    "## Note that lambda is a keyword (private) in Python, so we should not\n",
    "# use it as a variable name\n",
    "\n",
    "z = np.linspace(-1,4,1001)\n",
    "\n",
    "for lam in [0.5,1,4]:\n",
    "    \n"
   ]
  },
  {
   "cell_type": "markdown",
   "metadata": {},
   "source": [
    "___"
   ]
  },
  {
   "cell_type": "markdown",
   "metadata": {},
   "source": [
    "# Gaussian Random Variable\n"
   ]
  },
  {
   "cell_type": "markdown",
   "metadata": {},
   "source": [
    "The density function for a Gaussian random variable has a somewhat complicated form:\n",
    "\n",
    "$$f_X(x) = \\frac{1}{\\sqrt{2 \\pi \\sigma^2}}\\exp \\left\\{ - \\frac{(x-\\mu)^2}{2\\sigma^2} \\right\\},$$\n",
    "\n",
    "with parameters $\\mu$ and $\\sigma^2 \\ge 0$. \n",
    "\n",
    "* The parameter $\\mu$ is called the **mean** of the Gaussian distribution.\n",
    "* The parameter $\\sigma^2$ is called the **variance** of the Gaussian distribution.\n",
    "* The parameter $\\sigma$ is called the **standard deviation** of the Gaussian distribution.\n",
    "\n",
    "* We say that $X$ is a Gaussian RV and write it as: \n",
    "\n",
    "$$X\\sim \\mathcal{N}(\\mu,\\sigma^2)$$\n",
    "\n",
    "The CDF of a Gaussian RV is given by\n",
    "\n",
    "\\begin{align*}\n",
    "F_X(x) &= P(X \\leq x) \\\\\n",
    "&= \\int_{-\\infty}^x \\frac{1}{\\sqrt{2\\pi\\sigma^2}}\\exp{\\left\\{-\\frac{(t-\\mu)^2}{2\\sigma^2}\\right\\}} dt\n",
    "\\end{align*}\n",
    "\n",
    "which **cannot be evaluated in closed form**, use numerical method to evaluate."
   ]
  },
  {
   "cell_type": "code",
   "execution_count": null,
   "metadata": {},
   "outputs": [],
   "source": [
    "?stats.norm"
   ]
  },
  {
   "cell_type": "code",
   "execution_count": null,
   "metadata": {},
   "outputs": [],
   "source": [
    "# Normal aka G(0,1)\n",
    " \n",
    "# Gaussian(10,variance=3)\n",
    " \n",
    "# Gaussian(-5,0.3)\n",
    " "
   ]
  },
  {
   "cell_type": "code",
   "execution_count": null,
   "metadata": {
    "tags": []
   },
   "outputs": [],
   "source": [
    "plt.figure(figsize=(8,5))\n",
    "x = np.linspace(-8,18,100)\n",
    "# plt.plot(x,  ,label='N(0,1)')\n",
    "# plt.plot(x,  ,label='N(10,3)')\n",
    "# plt.plot(x,  ,label='N(-5,0.3)')\n",
    "plt.legend()\n",
    "plt.xlabel('$x$', size = 15)\n",
    "plt.ylabel('pdf of $f_X(x)$', size = 15);\n"
   ]
  },
  {
   "cell_type": "code",
   "execution_count": null,
   "metadata": {},
   "outputs": [],
   "source": []
  },
  {
   "cell_type": "code",
   "execution_count": null,
   "metadata": {
    "scrolled": true
   },
   "outputs": [],
   "source": [
    "plt.figure(figsize=(8,5))\n",
    "x = np.linspace(-8,18,1000)\n",
    "#plt.plot(x,  ,label='N(0,1)')\n",
    "#plt.plot(x,  ,label='N(10,3)')\n",
    "#plt.plot(x,  ,label='N(-5,0.3)')\n",
    "plt.legend()\n",
    "plt.xlabel('$x$', size = 15)\n",
    "plt.ylabel('cdf of $F_X(x)$', size = 15);\n"
   ]
  },
  {
   "cell_type": "markdown",
   "metadata": {},
   "source": [
    "# Properties of Gaussian RV. "
   ]
  },
  {
   "cell_type": "markdown",
   "metadata": {},
   "source": [
    "## 1. Additivity of Gaussians\n",
    "\n",
    "If  $X \\sim N(\\mu_1, \\sigma_1^2)$  and $ Y \\sim N(\\mu_2, \\sigma_2^2)$  are independent, then:\n",
    "\n",
    "$$X + Y \\sim N(\\mu_1 + \\mu_2, \\sigma_1^2 + \\sigma_2^2)$$\n",
    "\n"
   ]
  },
  {
   "cell_type": "markdown",
   "metadata": {},
   "source": [
    "## 2. Affine Transformations\n",
    "\n",
    "If  $X \\sim N(\\mu, \\sigma^2)$ , then for any **constants**  $a$  and $ b$ :\n",
    "\n",
    "$$Y = aX + b \\sim N(a\\mu + b, a^2\\sigma^2)$$\n"
   ]
  },
  {
   "cell_type": "markdown",
   "metadata": {},
   "source": [
    "Generalization,  $X \\sim N(\\mu_1, \\sigma_1^2)$  and $ Y \\sim N(\\mu_2, \\sigma_2^2)$  are independent, then given two constants $a$ and $b$\n",
    "\n",
    "$$a X + b Y \\sim $$"
   ]
  },
  {
   "cell_type": "markdown",
   "metadata": {},
   "source": [
    "## Normalization\n",
    "\n",
    "A Gaussian RV $X \\sim N (\\mu, \\sigma^2)$ can be normalized to \n",
    "\n",
    "$$\n",
    "Y = \\frac{X - \\mu}{\\sigma}\n",
    "$$\n",
    "\n",
    "\n",
    "it can be shown that $Y \\sim N(0,1)$ --- A **STANDARD** normal RV."
   ]
  },
  {
   "cell_type": "markdown",
   "metadata": {},
   "source": [
    "## 68-95-99.7 rule.\n",
    "\n",
    "One-standard deviation from the mean:  A range of data where   68\\% of the data fall into.\n",
    "\n",
    "Two-standard deviation from the mean:  A range of data where   95\\% of the data fall into.\n",
    "\n",
    "Three-standard deviation from the mean:  A range of data where   99.7 \\% of the data fall into."
   ]
  },
  {
   "cell_type": "markdown",
   "metadata": {},
   "source": [
    "# Example with Gaussian RV. "
   ]
  },
  {
   "cell_type": "markdown",
   "metadata": {},
   "source": [
    "Two swimmers, A and B, have their past performances evaluated based on their scores for 100 breaststroke, which are found to follow Gaussian distributions:\n",
    "\n",
    "- Player A’s scores follow  $X_A \\sim N(\\mu_A, \\sigma_A^2)$ with $\\mu_A =59.8 $, and $\\sigma_A = 1$.\n",
    "- Player B’s scores follow  $X_B \\sim N(\\mu_B, \\sigma_B^2)$  with $\\mu_B=57.2 $ and $\\sigma_B =3$. "
   ]
  },
  {
   "cell_type": "markdown",
   "metadata": {},
   "source": [
    "1. What is the probability that player A scores higher than player B in one race?\n"
   ]
  },
  {
   "cell_type": "code",
   "execution_count": null,
   "metadata": {},
   "outputs": [],
   "source": []
  },
  {
   "cell_type": "markdown",
   "metadata": {},
   "source": [
    "2. If the two players, each swim three times, a player is the winner if his/her sum of scores is strictly greater than the other players. What is the probability that player A is the winner?  "
   ]
  },
  {
   "cell_type": "code",
   "execution_count": null,
   "metadata": {},
   "outputs": [],
   "source": []
  },
  {
   "cell_type": "markdown",
   "metadata": {},
   "source": [
    "2. If the two players, each swim 10 times, a player is the winner if his/her sum of scores is strictly greater than the other players. What is the probability that player A is the winner? "
   ]
  },
  {
   "cell_type": "code",
   "execution_count": null,
   "metadata": {},
   "outputs": [],
   "source": []
  },
  {
   "cell_type": "markdown",
   "metadata": {},
   "source": [
    "## Additional reading: truncated Gaussian\n",
    "\n",
    "A truncated Gaussian distribution is a normal distribution that is restricted to a finite range $[a, b]$. Instead of allowing values from $-\\infty$ to $+\\infty$, the distribution is truncated at specific bounds.\n",
    "\n",
    "If a normal random variable  $X \\sim N(\\mu, \\sigma^2)$  is truncated to the interval  $[a, b]$ , then its probability density function (PDF) is given by:\n",
    "\n",
    "\n",
    "$$f(x) = \\frac{\\frac{1}{\\sigma} \\phi\\left(\\frac{x - \\mu}{\\sigma}\\right)}{\\Phi\\left(\\frac{b - \\mu}{\\sigma}\\right) - \\Phi\\left(\\frac{a - \\mu}{\\sigma}\\right)}\n",
    "$$\n",
    "\n",
    "where:\n",
    "* $\\phi(x) $  is the standard normal PDF:\n",
    "\n",
    "$$\\phi(x) = \\frac{1}{\\sqrt{2\\pi}} e^{-x^2/2}$$\n",
    "\n",
    "* $\\Phi(x)$  is the standard normal CDF:\n",
    "\n",
    "$$\\Phi(x) = \\int_{-\\infty}^{x} \\phi(t) dt$$\n",
    "\n",
    " The denominator ensures the total probability sums to 1 (since part of the Gaussian is removed)."
   ]
  }
 ],
 "metadata": {
  "kernelspec": {
   "display_name": "Python 3 (ipykernel)",
   "language": "python",
   "name": "python3"
  },
  "language_info": {
   "codemirror_mode": {
    "name": "ipython",
    "version": 3
   },
   "file_extension": ".py",
   "mimetype": "text/x-python",
   "name": "python",
   "nbconvert_exporter": "python",
   "pygments_lexer": "ipython3",
   "version": "3.9.13"
  },
  "latex_envs": {
   "LaTeX_envs_menu_present": true,
   "autoclose": false,
   "autocomplete": true,
   "bibliofile": "biblio.bib",
   "cite_by": "apalike",
   "current_citInitial": 1,
   "eqLabelWithNumbers": true,
   "eqNumInitial": 1,
   "hotkeys": {
    "equation": "Ctrl-E",
    "itemize": "Ctrl-I"
   },
   "labels_anchors": false,
   "latex_user_defs": false,
   "report_style_numbering": false,
   "user_envs_cfg": false
  },
  "varInspector": {
   "cols": {
    "lenName": 16,
    "lenType": 16,
    "lenVar": 40
   },
   "kernels_config": {
    "python": {
     "delete_cmd_postfix": "",
     "delete_cmd_prefix": "del ",
     "library": "var_list.py",
     "varRefreshCmd": "print(var_dic_list())"
    },
    "r": {
     "delete_cmd_postfix": ") ",
     "delete_cmd_prefix": "rm(",
     "library": "var_list.r",
     "varRefreshCmd": "cat(var_dic_list()) "
    }
   },
   "types_to_exclude": [
    "module",
    "function",
    "builtin_function_or_method",
    "instance",
    "_Feature"
   ],
   "window_display": false
  }
 },
 "nbformat": 4,
 "nbformat_minor": 4
}
