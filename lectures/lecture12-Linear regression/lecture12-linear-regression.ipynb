{
 "cells": [
  {
   "cell_type": "markdown",
   "id": "bc094505-bcbd-4f34-976d-63736fc19f5a",
   "metadata": {},
   "source": [
    "# Lecture 12: Linear regression"
   ]
  },
  {
   "cell_type": "code",
   "execution_count": 1,
   "id": "3c95bdfa-e794-492f-8aa6-227aa97f1583",
   "metadata": {},
   "outputs": [],
   "source": [
    "import numpy as np\n",
    "import matplotlib.pyplot as plt\n",
    "from sklearn.preprocessing import PolynomialFeatures\n",
    "from sklearn.linear_model import LinearRegression\n",
    "import pandas as pd\n",
    "from sklearn.model_selection import train_test_split\n",
    "from sklearn.metrics import mean_squared_error, r2_score\n",
    "\n"
   ]
  },
  {
   "cell_type": "code",
   "execution_count": null,
   "id": "160121d4-fa4f-4c7c-8e00-43f9a0c6269d",
   "metadata": {},
   "outputs": [],
   "source": [
    "# linear regression"
   ]
  },
  {
   "cell_type": "code",
   "execution_count": null,
   "id": "b962c5ca-5c54-4580-a635-3f9712d0717d",
   "metadata": {},
   "outputs": [],
   "source": []
  },
  {
   "cell_type": "markdown",
   "id": "3db2dd5b-9814-4256-a8dc-302ed3d9ec82",
   "metadata": {
    "tags": []
   },
   "source": [
    "## Prediction\n",
    "\n",
    "\"The Behavioral Risk Factor Surveillance System (BRFSS) is the nation’s premier system of health-related telephone surveys that collect state data about U.S. residents regarding their health-related risk behaviors, chronic health conditions, and use of preventive services.\": https://www.cdc.gov/brfss/index.html."
   ]
  },
  {
   "cell_type": "markdown",
   "id": "0672facd-872b-4bbf-bd52-50f8b79202f7",
   "metadata": {},
   "source": [
    "The BRFSS 2021 survey contains over 400,000 records and over 300 variables.\n",
    "\n",
    "It takes a long time to load and work with the full set of survey results, so I have extracted data for two variables:\n",
    "\n",
    "* **HTIN4**: A computed variable that lists height in inches. Invalid responses (\"Don't know/Not sure\", \"Refused\", or \"Not asked or Missing\") have been dropped.\n",
    "\n",
    "* **WEIGHT2**: The reported weight in pounds. Again, I have dropped invalid responses, as above.\n",
    "\n",
    "Let's load the resulting data:"
   ]
  },
  {
   "cell_type": "code",
   "execution_count": null,
   "id": "51b923a4-600c-4fc3-8f4b-7309afe4574d",
   "metadata": {},
   "outputs": [],
   "source": [
    "brfss = pd.read_csv('https://www.fdsp.net/data/brfss21-hw.csv')\n",
    "brfss.head()"
   ]
  },
  {
   "cell_type": "markdown",
   "id": "b22b6a81-8722-4e1b-9320-25bba87bea22",
   "metadata": {},
   "source": [
    "Let's start by plotting our data. For this data, I am interested in the dependence between height and weight, so I plot the weights as a function of the heights using a scatter plot:"
   ]
  },
  {
   "cell_type": "code",
   "execution_count": null,
   "id": "446545c0-3686-4460-96fe-6077d415d7d2",
   "metadata": {},
   "outputs": [],
   "source": [
    "plt.scatter(brfss['HTIN4'][::10], brfss['WEIGHT2'][::10], 2, alpha=0.6)\n",
    "plt.xlabel('Height (in)')\n",
    "plt.ylabel('Weight (lbs)')\n",
    "plt.title('BRFSS 2017 Data on US Residents\\' Heights and Weights');"
   ]
  },
  {
   "cell_type": "code",
   "execution_count": null,
   "id": "c7dd3736-5f2c-4231-a853-f9e36e34669e",
   "metadata": {},
   "outputs": [],
   "source": []
  },
  {
   "cell_type": "markdown",
   "id": "999299d4-8be0-4e47-a87d-c7a036674e90",
   "metadata": {},
   "source": [
    "Let's use these equations to calculate the regression line for our height and weight data.  As a reminder, we are taking $h$ as the explanatory variable and $w$ as the response variable. We can get the value of $m$ from the covariances between $\\mathbf{h}$ and $\\mathbf{w}$, which we can get from NumPy as follows:"
   ]
  },
  {
   "cell_type": "code",
   "execution_count": null,
   "id": "2940b858-f44e-4aa3-a816-11863454fd07",
   "metadata": {},
   "outputs": [],
   "source": [
    "w = brfss['WEIGHT2'].to_numpy()\n",
    "h = brfss['HTIN4'].to_numpy() "
   ]
  },
  {
   "cell_type": "markdown",
   "id": "4956635d-0167-44ce-87b3-30623de9943c",
   "metadata": {},
   "source": [
    "Then the slope $m$ is"
   ]
  },
  {
   "cell_type": "code",
   "execution_count": null,
   "id": "f2407683-1ecf-46fc-b340-3b30ae8b3a95",
   "metadata": {},
   "outputs": [],
   "source": []
  },
  {
   "cell_type": "markdown",
   "id": "89f2c1fe-f6de-4069-9d9c-d7532651032f",
   "metadata": {},
   "source": [
    "The value of $b$ is then easily calculated from $m$ and the means of $\\mathbf{h}$ and $\\mathbf{w}$:"
   ]
  },
  {
   "cell_type": "code",
   "execution_count": null,
   "id": "80bddd2b-b286-43c9-830f-b86a3617dc43",
   "metadata": {},
   "outputs": [],
   "source": []
  },
  {
   "cell_type": "markdown",
   "id": "184be359-77a7-4672-b0d4-69af5b98843e",
   "metadata": {},
   "source": [
    "In practice, we can use  `stats.linregress()`:"
   ]
  },
  {
   "cell_type": "code",
   "execution_count": null,
   "id": "482624bd-6b78-4cc6-b3ac-d81a9f886cae",
   "metadata": {},
   "outputs": [],
   "source": []
  },
  {
   "cell_type": "markdown",
   "id": "487ec2bc-f6ae-4ec0-a1f0-4d54cd51a3e1",
   "metadata": {},
   "source": [
    "The output is an object called a `LinregressResult` that has six attributes.\n",
    "\n",
    "| Attribute           | Description                                                                 |\n",
    "|---------------------|-----------------------------------------------------------------------------|\n",
    "| **slope**           | The slope of the regression line.                                           |\n",
    "| **intercept**       | The y-intercept of the regression line.                                     |\n",
    "| **rvalue**          | The correlation coefficient (can be squared to get \\( R^2 \\)).              |\n",
    "| **pvalue**          | Two-sided p-value for testing if the slope is significantly different from 0. |\n",
    "| **stderr**          | Standard error of the estimated slope.                                      |\n",
    "| **intercept_stderr**| Standard error of the intercept.                                            |\n",
    "\n",
    "It should be clear that the `slope` and `intercept` are equivalent to the values $a$ and $b$ that we found using the formulas derived from calculus. "
   ]
  },
  {
   "cell_type": "code",
   "execution_count": null,
   "id": "b4bed9a9-7bd5-4743-ad4b-f5b4dc4744d6",
   "metadata": {},
   "outputs": [],
   "source": []
  },
  {
   "cell_type": "code",
   "execution_count": null,
   "id": "88d87f7c-b86a-4537-b3b8-4e1ca149bdb6",
   "metadata": {},
   "outputs": [],
   "source": []
  },
  {
   "cell_type": "code",
   "execution_count": null,
   "id": "63a0575a-29c1-4ecb-bdbb-359bcf3dddbb",
   "metadata": {},
   "outputs": [],
   "source": [
    "# plot the data\n",
    "\n",
    "w_pred =  # todo\n",
    "\n",
    "# Plot original data\n",
    "plt.scatter(h, w_pred,  color='blue', label='Original Data')\n",
    "\n",
    "# Plot regression line\n",
    "plt.plot(h, w,  color='red', linewidth=2, label='Regression Line')\n",
    "\n",
    "# Labels and legend\n",
    "plt.xlabel('X')\n",
    "plt.ylabel('y')\n",
    "plt.title('Linear Regression Fit')\n",
    "plt.legend()\n",
    "plt.grid(True)\n",
    "plt.show()"
   ]
  },
  {
   "cell_type": "markdown",
   "id": "90a2d890-de6e-488e-b1ff-3cd0c8e1e113",
   "metadata": {},
   "source": [
    "# Multiple linear regression"
   ]
  },
  {
   "cell_type": "markdown",
   "id": "ca82c932-a160-4264-bd5b-d8fd314d4ce7",
   "metadata": {},
   "source": [
    "California Housing Dataset:\n",
    " \n",
    " "
   ]
  },
  {
   "cell_type": "code",
   "execution_count": 1,
   "id": "cc4d9270-f58a-4aed-825c-35e26fb3bdf5",
   "metadata": {},
   "outputs": [],
   "source": [
    "from sklearn.datasets import fetch_california_housing\n",
    "california = fetch_california_housing(as_frame=True)\n",
    "df = california.frame\n"
   ]
  },
  {
   "cell_type": "code",
   "execution_count": 2,
   "id": "2df39f37-527f-4383-909e-6694e5f2de58",
   "metadata": {},
   "outputs": [
    {
     "data": {
      "text/html": [
       "<div>\n",
       "<style scoped>\n",
       "    .dataframe tbody tr th:only-of-type {\n",
       "        vertical-align: middle;\n",
       "    }\n",
       "\n",
       "    .dataframe tbody tr th {\n",
       "        vertical-align: top;\n",
       "    }\n",
       "\n",
       "    .dataframe thead th {\n",
       "        text-align: right;\n",
       "    }\n",
       "</style>\n",
       "<table border=\"1\" class=\"dataframe\">\n",
       "  <thead>\n",
       "    <tr style=\"text-align: right;\">\n",
       "      <th></th>\n",
       "      <th>MedInc</th>\n",
       "      <th>HouseAge</th>\n",
       "      <th>AveRooms</th>\n",
       "      <th>AveBedrms</th>\n",
       "      <th>Population</th>\n",
       "      <th>AveOccup</th>\n",
       "      <th>Latitude</th>\n",
       "      <th>Longitude</th>\n",
       "      <th>MedHouseVal</th>\n",
       "    </tr>\n",
       "  </thead>\n",
       "  <tbody>\n",
       "    <tr>\n",
       "      <th>0</th>\n",
       "      <td>8.3252</td>\n",
       "      <td>41.0</td>\n",
       "      <td>6.984127</td>\n",
       "      <td>1.023810</td>\n",
       "      <td>322.0</td>\n",
       "      <td>2.555556</td>\n",
       "      <td>37.88</td>\n",
       "      <td>-122.23</td>\n",
       "      <td>4.526</td>\n",
       "    </tr>\n",
       "    <tr>\n",
       "      <th>1</th>\n",
       "      <td>8.3014</td>\n",
       "      <td>21.0</td>\n",
       "      <td>6.238137</td>\n",
       "      <td>0.971880</td>\n",
       "      <td>2401.0</td>\n",
       "      <td>2.109842</td>\n",
       "      <td>37.86</td>\n",
       "      <td>-122.22</td>\n",
       "      <td>3.585</td>\n",
       "    </tr>\n",
       "    <tr>\n",
       "      <th>2</th>\n",
       "      <td>7.2574</td>\n",
       "      <td>52.0</td>\n",
       "      <td>8.288136</td>\n",
       "      <td>1.073446</td>\n",
       "      <td>496.0</td>\n",
       "      <td>2.802260</td>\n",
       "      <td>37.85</td>\n",
       "      <td>-122.24</td>\n",
       "      <td>3.521</td>\n",
       "    </tr>\n",
       "    <tr>\n",
       "      <th>3</th>\n",
       "      <td>5.6431</td>\n",
       "      <td>52.0</td>\n",
       "      <td>5.817352</td>\n",
       "      <td>1.073059</td>\n",
       "      <td>558.0</td>\n",
       "      <td>2.547945</td>\n",
       "      <td>37.85</td>\n",
       "      <td>-122.25</td>\n",
       "      <td>3.413</td>\n",
       "    </tr>\n",
       "    <tr>\n",
       "      <th>4</th>\n",
       "      <td>3.8462</td>\n",
       "      <td>52.0</td>\n",
       "      <td>6.281853</td>\n",
       "      <td>1.081081</td>\n",
       "      <td>565.0</td>\n",
       "      <td>2.181467</td>\n",
       "      <td>37.85</td>\n",
       "      <td>-122.25</td>\n",
       "      <td>3.422</td>\n",
       "    </tr>\n",
       "  </tbody>\n",
       "</table>\n",
       "</div>"
      ],
      "text/plain": [
       "   MedInc  HouseAge  AveRooms  AveBedrms  Population  AveOccup  Latitude  \\\n",
       "0  8.3252      41.0  6.984127   1.023810       322.0  2.555556     37.88   \n",
       "1  8.3014      21.0  6.238137   0.971880      2401.0  2.109842     37.86   \n",
       "2  7.2574      52.0  8.288136   1.073446       496.0  2.802260     37.85   \n",
       "3  5.6431      52.0  5.817352   1.073059       558.0  2.547945     37.85   \n",
       "4  3.8462      52.0  6.281853   1.081081       565.0  2.181467     37.85   \n",
       "\n",
       "   Longitude  MedHouseVal  \n",
       "0    -122.23        4.526  \n",
       "1    -122.22        3.585  \n",
       "2    -122.24        3.521  \n",
       "3    -122.25        3.413  \n",
       "4    -122.25        3.422  "
      ]
     },
     "execution_count": 2,
     "metadata": {},
     "output_type": "execute_result"
    }
   ],
   "source": [
    "df.head()"
   ]
  },
  {
   "cell_type": "markdown",
   "id": "651e2742-a03d-4282-85be-35090acd3575",
   "metadata": {},
   "source": [
    "- MedInc = median income in the block group\n",
    "- AveRooms = average number of rooms per household\n",
    "- HouseAge = median house age\n",
    "- AveOccup = average occupancy per household\n",
    "- MedHouseVal = median house value (target)"
   ]
  },
  {
   "cell_type": "markdown",
   "id": "d06acacf-70da-4d8a-bb76-7889c4eda549",
   "metadata": {},
   "source": [
    "1.  let's select a set of features:"
   ]
  },
  {
   "cell_type": "code",
   "execution_count": null,
   "id": "144925df-98f2-474f-996a-bb74ff71201d",
   "metadata": {},
   "outputs": [],
   "source": [
    "\n",
    "X = df[[#todo]]  # select a few features\n",
    "y = df['MedHouseVal']"
   ]
  },
  {
   "cell_type": "markdown",
   "id": "a657367e-b4b0-470d-9efe-a7ffee3ced5d",
   "metadata": {},
   "source": [
    "2. We will use some data with trainning data and some with testing data:\n",
    "This can be done using train_test_split function\n",
    "\n",
    "https://scikit-learn.org/stable/modules/generated/sklearn.model_selection.train_test_split.html\n"
   ]
  },
  {
   "cell_type": "code",
   "execution_count": 3,
   "id": "4ed79103-3217-4745-bb09-370286ab116b",
   "metadata": {},
   "outputs": [],
   "source": [
    "from sklearn.model_selection import train_test_split\n"
   ]
  },
  {
   "cell_type": "code",
   "execution_count": null,
   "id": "a9854632-8786-40f3-98ad-fbc1745eea9e",
   "metadata": {},
   "outputs": [],
   "source": [
    "X_train, X_test, y_train, y_test = train_test_split(X, y, test_size=0.2, random_state=42) # "
   ]
  },
  {
   "cell_type": "code",
   "execution_count": null,
   "id": "0c9cdcb2-840d-47a4-92ba-ee75a7dfdaf2",
   "metadata": {},
   "outputs": [],
   "source": []
  },
  {
   "cell_type": "markdown",
   "id": "de563b82-e9a4-4ebc-9e76-962cbeb5c38b",
   "metadata": {},
   "source": [
    "3. perform linear regression and analysis the mean squared error."
   ]
  },
  {
   "cell_type": "code",
   "execution_count": null,
   "id": "889e447c-eaa6-4772-9f44-3227b1c4ccad",
   "metadata": {},
   "outputs": [],
   "source": []
  },
  {
   "cell_type": "markdown",
   "id": "b1827faf-e746-415c-a5a0-55663c326b5d",
   "metadata": {},
   "source": [
    "4. plot the fig"
   ]
  },
  {
   "cell_type": "code",
   "execution_count": null,
   "id": "58499a28-40d8-4d75-8beb-16db6a70f336",
   "metadata": {},
   "outputs": [],
   "source": [
    "\n",
    "y_pred = # todo\n",
    "\n",
    "# Plot original data\n",
    "plt.scatter(#todo, #todo,  color='blue', label='Original Data')\n",
    "\n",
    "# Plot regression line\n",
    "plt.plot(#todo, #todo,  color='red', linewidth=2, label='Regression Line')\n",
    "\n",
    "# Labels and legend\n",
    "plt.xlabel('X')\n",
    "plt.ylabel('y')\n",
    "plt.title('Linear Regression Fit')\n",
    "plt.legend()\n",
    "plt.grid(True)\n",
    "plt.show()"
   ]
  },
  {
   "cell_type": "markdown",
   "id": "90030ea2-ac70-45c1-ad89-62f3f5332304",
   "metadata": {},
   "source": [
    "# Nonlinear data set"
   ]
  },
  {
   "cell_type": "markdown",
   "id": "b6b370be-1fcd-4264-8b38-48c24a3dab3e",
   "metadata": {},
   "source": [
    "Consider the following data set, can you use linear regression to generator a predictor of y given x?"
   ]
  },
  {
   "cell_type": "code",
   "execution_count": 6,
   "id": "8c586d80-96f6-4ff2-a087-598d56a455b4",
   "metadata": {},
   "outputs": [
    {
     "data": {
      "image/png": "[encoded data removed]",
      "text/plain": [
       "<Figure size 640x480 with 1 Axes>"
      ]
     },
     "metadata": {},
     "output_type": "display_data"
    }
   ],
   "source": [
    "\n",
    "x = np.array([1, 2, 3, 4, 5, 6, 7, 8, 9, 10]).reshape(-1, 1)\n",
    "y = np.array([2.1, 5.8, 10.2, 17.5, 27.1, 38.9, 53.3, 70.2, 89.6, 111.5])\n",
    "\n",
    "f = plt.figure()\n",
    "\n",
    "plt.plot(x,y)\n",
    "plt.show()\n",
    "\n",
    "f.savefig(\"foo.pdf\", bbox_inches='tight')"
   ]
  },
  {
   "cell_type": "code",
   "execution_count": null,
   "id": "bd7c2f74-64f9-4fb8-91d0-dde780561af6",
   "metadata": {},
   "outputs": [],
   "source": []
  },
  {
   "cell_type": "code",
   "execution_count": null,
   "id": "804a97d0-80cd-423f-8137-92e9502eef26",
   "metadata": {},
   "outputs": [],
   "source": []
  },
  {
   "cell_type": "code",
   "execution_count": null,
   "id": "614d1501-9eaf-4b8c-8c19-fd7ee2af244e",
   "metadata": {},
   "outputs": [],
   "source": [
    "\n",
    "y_pred = # todo\n",
    "\n",
    "# Plot original data\n",
    "plt.scatter(#todo, #todo,  color='blue', label='Original Data')\n",
    "\n",
    "# Plot regression line\n",
    "plt.plot(#todo, #todo,  color='red', linewidth=2, label='Regression Line')\n",
    "\n",
    "# Labels and legend\n",
    "plt.xlabel('X')\n",
    "plt.ylabel('y')\n",
    "plt.title('Linear Regression Fit')\n",
    "plt.legend()\n",
    "plt.grid(True)\n",
    "plt.show()"
   ]
  }
 ],
 "metadata": {
  "kernelspec": {
   "display_name": "Python 3 (ipykernel)",
   "language": "python",
   "name": "python3"
  },
  "language_info": {
   "codemirror_mode": {
    "name": "ipython",
    "version": 3
   },
   "file_extension": ".py",
   "mimetype": "text/x-python",
   "name": "python",
   "nbconvert_exporter": "python",
   "pygments_lexer": "ipython3",
   "version": "3.9.13"
  }
 },
 "nbformat": 4,
 "nbformat_minor": 5
}
