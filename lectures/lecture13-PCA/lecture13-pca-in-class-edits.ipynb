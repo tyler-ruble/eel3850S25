{
 "cells": [
  {
   "cell_type": "markdown",
   "id": "d20253d6-ced5-4415-9258-24142a40ad7d",
   "metadata": {},
   "source": [
    "# Lecture 13: PCA"
   ]
  },
  {
   "cell_type": "code",
   "execution_count": null,
   "id": "4fe0a320-4fe8-49c6-b88d-ac96f9708a2c",
   "metadata": {},
   "outputs": [],
   "source": [
    "import numpy as np\n",
    "import numpy.linalg as la\n",
    "import scipy.stats as stats\n",
    "import sympy as sp\n",
    "from sympy import Matrix\n",
    "\n",
    "import matplotlib.pyplot as plt\n",
    "from matplotlib import cm\n",
    "from matplotlib.ticker import LinearLocator, FixedLocator\n",
    "from matplotlib.markers import MarkerStyle\n",
    "from matplotlib import colormaps\n",
    "\n",
    "from plotvec import plotvec, plotvecR\n",
    "\n",
    "import pandas as pd"
   ]
  },
  {
   "cell_type": "markdown",
   "id": "4ccc0e8e-0781-4dd0-bdf0-d808ca4c10fd",
   "metadata": {},
   "source": [
    "# PCA Example: Simple illustrative example"
   ]
  },
  {
   "cell_type": "markdown",
   "id": "d6c94e9f-9a81-4b19-9bbf-f7e7cc464b44",
   "metadata": {},
   "source": [
    "The example from our lecture"
   ]
  },
  {
   "cell_type": "code",
   "execution_count": null,
   "id": "0611e2f1-5eec-4497-88f2-769db6dbdaf4",
   "metadata": {},
   "outputs": [],
   "source": [
    "import matplotlib.pyplot as plt\n",
    "from mpl_toolkits.mplot3d import Axes3D\n",
    "import numpy as np\n",
    "\n",
    "# Example data (5 points in 3D)\n",
    "x = np.array([2, 4, 4, 0, 1])\n",
    "y = np.array([3, 2, 4, 6, 7])\n",
    "z = np.array([1, 4,3, 7, 8])\n",
    "\n",
    "\n",
    "# Create a figure and 3D axis\n",
    "fig = plt.figure(figsize=(8, 6))\n",
    "ax = fig.add_subplot(111, projection='3d')\n",
    "\n",
    "# Plot the 3D scatter\n",
    "ax.scatter(x, y, z, color='b', marker='o')\n",
    "\n",
    "# Label axes\n",
    "ax.set_xlabel('Feature 1')\n",
    "ax.set_ylabel('Feature 2')\n",
    "ax.set_zlabel('Feature 3')\n",
    "\n",
    "# Set the title\n",
    "ax.set_title('3D Scatter Plot')\n",
    "# Show the plot\n",
    "plt.show()"
   ]
  },
  {
   "cell_type": "markdown",
   "id": "da16e041-38f4-45a1-a336-6ee56c4f5df6",
   "metadata": {},
   "source": [
    "1. compute the centered data matrix"
   ]
  },
  {
   "cell_type": "code",
   "execution_count": null,
   "id": "8d250b1a-5605-48d4-9b75-8468063c7711",
   "metadata": {},
   "outputs": [],
   "source": [
    "M =  # todo. stack all vectors into matrix\n",
    "x_mean, y_mean, z_mean = x.mean(), y.mean(), z.mean()\n",
    "M_c =  # centered data set\n"
   ]
  },
  {
   "cell_type": "code",
   "execution_count": null,
   "id": "833dd86c-66a4-456b-8a6a-ad526381890c",
   "metadata": {},
   "outputs": [],
   "source": [
    "# plot the centered data\n",
    "# Create a figure and 3D axis\n",
    "fig = plt.figure(figsize=(8, 6))\n",
    "ax = fig.add_subplot(111, projection='3d')\n",
    "\n",
    "# Plot the 3D scatter\n",
    "ax.scatter(#todo,  color='b', marker='o')\n",
    "\n",
    "# Label axes\n",
    "ax.set_xlabel('Feature 1')\n",
    "ax.set_ylabel('Feature 2')\n",
    "ax.set_zlabel('Feature 3')\n",
    "\n",
    "# Set the title\n",
    "ax.set_title('3D Scatter Plot')\n",
    "plt.savefig('3d.png')\n",
    "# Show the plot\n",
    "plt.show()"
   ]
  },
  {
   "cell_type": "markdown",
   "id": "fa26ad03-6a49-4ecf-96d9-21b926abbdbc",
   "metadata": {},
   "source": [
    "2. Compute the covariance matrix of the centered data"
   ]
  },
  {
   "cell_type": "code",
   "execution_count": null,
   "id": "9c6ae234-be15-4198-81b0-5fc729d12e65",
   "metadata": {},
   "outputs": [],
   "source": [
    "K=  #todo\n",
    "K"
   ]
  },
  {
   "cell_type": "markdown",
   "id": "161ec14e-5b5c-4338-90db-072693111eb9",
   "metadata": {},
   "source": [
    "3. Perform eigendecomposition of the covariance matrix"
   ]
  },
  {
   "cell_type": "code",
   "execution_count": null,
   "id": "a078a1c6-4921-45bd-bf5f-51b6e41d0f86",
   "metadata": {},
   "outputs": [],
   "source": [
    "from numpy import linalg as LA"
   ]
  },
  {
   "cell_type": "code",
   "execution_count": null,
   "id": "336c57c4-c1bc-429c-81fc-cf5a55e855be",
   "metadata": {},
   "outputs": [],
   "source": [
    "eigenvalues, eigenvectors = # todo\n"
   ]
  },
  {
   "cell_type": "code",
   "execution_count": null,
   "id": "b7abef5c-df8e-4a56-885e-38ac38cfb0a4",
   "metadata": {},
   "outputs": [],
   "source": [
    "eigenvalues"
   ]
  },
  {
   "cell_type": "code",
   "execution_count": null,
   "id": "67033d0e-aec5-4e45-a850-6696ed33736a",
   "metadata": {},
   "outputs": [],
   "source": [
    "eigenvectors"
   ]
  },
  {
   "cell_type": "code",
   "execution_count": null,
   "id": "3d67c696-b7cd-4297-9787-02c3758754a9",
   "metadata": {},
   "outputs": [],
   "source": [
    "# additionally, we can sort the eigenvalues and eigenvectors in descending order\n",
    "sorted_indices = np.argsort(eigenvalues)[::-1]  # Indices of eigenvalues in descending order\n",
    "eigenvectors_sorted = # todo "
   ]
  },
  {
   "cell_type": "code",
   "execution_count": null,
   "id": "a72d2ed5-0755-46b4-98ba-cd2bdbd64623",
   "metadata": {},
   "outputs": [],
   "source": [
    "sorted_indices"
   ]
  },
  {
   "cell_type": "code",
   "execution_count": null,
   "id": "cb9cd872-ab94-49a9-a908-dbfdd80a0678",
   "metadata": {},
   "outputs": [],
   "source": [
    "eigenvectors_sorted"
   ]
  },
  {
   "cell_type": "code",
   "execution_count": null,
   "id": "33991871-1ae8-40d3-a80a-fdc8d77bfbed",
   "metadata": {},
   "outputs": [],
   "source": []
  },
  {
   "cell_type": "markdown",
   "id": "93364499-58f3-4c7a-b7cb-5f35c72825da",
   "metadata": {},
   "source": [
    "4. Project the centered data point to the first K PCs"
   ]
  },
  {
   "cell_type": "code",
   "execution_count": null,
   "id": "b841bd6f-6574-4796-bdd8-2e8a46025efc",
   "metadata": {},
   "outputs": [],
   "source": [
    "k=1"
   ]
  },
  {
   "cell_type": "code",
   "execution_count": null,
   "id": "2e3b725d-660e-449b-99a4-39f3b67a8c54",
   "metadata": {},
   "outputs": [],
   "source": [
    "M_projected1 = # todo\n",
    "M_projected1"
   ]
  },
  {
   "cell_type": "code",
   "execution_count": null,
   "id": "8a46fea9-6e37-4ae0-a992-05616c572bd7",
   "metadata": {},
   "outputs": [],
   "source": [
    "k=2\n",
    "M_projected2  = # todo\n",
    "M_projected2 "
   ]
  },
  {
   "cell_type": "markdown",
   "id": "392451c6-3984-447a-ad61-b29c3bd5e15a",
   "metadata": {},
   "source": [
    "5. Plot the data after projection\n"
   ]
  },
  {
   "cell_type": "code",
   "execution_count": null,
   "id": "0b444d22-06e6-4efe-8d99-25a7b7f57769",
   "metadata": {},
   "outputs": [],
   "source": [
    "plt.scatter( ,  , color='blue', label='Projected Data')\n",
    "plt.xlabel('Principal Component 1')\n",
    "plt.ylabel('Principal Component 2')\n",
    "plt.title('Data Projected onto the Top 2 Eigenvectors')\n",
    "plt.grid(True)\n",
    "plt.show()"
   ]
  },
  {
   "cell_type": "markdown",
   "id": "09594158-633a-42d5-b785-8bd4574390b6",
   "metadata": {},
   "source": [
    "Example 2: Friend food choice\n"
   ]
  },
  {
   "cell_type": "code",
   "execution_count": null,
   "id": "2140d0fa-59a8-4fae-8d55-6379e3b6695e",
   "metadata": {},
   "outputs": [],
   "source": [
    "F = np.array([[10 ,1, 2,7] ,[ 7,2, 1,10],[2, 9, 7, 3],[ 3,6, 10,2]])\n",
    "F"
   ]
  },
  {
   "cell_type": "code",
   "execution_count": null,
   "id": "49c065bf-ce7c-4b65-b08f-bb6d3d938ddf",
   "metadata": {},
   "outputs": [],
   "source": [
    "#1. center the data:\n",
    "\n",
    "Fc =  # todo\n",
    "Fc"
   ]
  },
  {
   "cell_type": "code",
   "execution_count": null,
   "id": "f301eeda-67fd-41b8-a855-c67fb540cab7",
   "metadata": {},
   "outputs": [],
   "source": [
    "#2. compute the covariance\n",
    "KFood =  # todo\n",
    "KFood"
   ]
  },
  {
   "cell_type": "code",
   "execution_count": null,
   "id": "a37580fe-925d-4b7f-a6e4-8c465bc9b351",
   "metadata": {},
   "outputs": [],
   "source": [
    "#3. perform eigendecomponsition\n",
    "eigenvalues_f, eigenvectors_f = # todo\n",
    "eigenvalues_f\n"
   ]
  },
  {
   "cell_type": "code",
   "execution_count": null,
   "id": "2ed6a28d-3902-420d-b9a4-25a5a124ed16",
   "metadata": {},
   "outputs": [],
   "source": [
    "eigenvectors_f"
   ]
  },
  {
   "cell_type": "code",
   "execution_count": null,
   "id": "3630d0c9-41cf-4279-ac8f-2ee407df10e4",
   "metadata": {},
   "outputs": [],
   "source": []
  },
  {
   "cell_type": "code",
   "execution_count": null,
   "id": "c38994f2-978a-49c5-9c8b-68d74b99f9a4",
   "metadata": {},
   "outputs": [],
   "source": [
    "sorted_indices_food = np.argsort(eigenvalues_f)[::-1]  # Indices of eigenvalues in descending order\n",
    "eigenvectors_sorted_food = eigenvectors_f[:, sorted_indices]\n",
    "eigenvectors_sorted_food"
   ]
  },
  {
   "cell_type": "code",
   "execution_count": null,
   "id": "e845a201-430f-4f6a-bac7-4d0d09ba505b",
   "metadata": {},
   "outputs": [],
   "source": [
    "#4. project to top k PC\n",
    "\n",
    "F_projected  =  # todo\n",
    "F_projected"
   ]
  },
  {
   "cell_type": "code",
   "execution_count": null,
   "id": "2f446545-b7ad-42b1-8651-2008eb95bbef",
   "metadata": {},
   "outputs": [],
   "source": [
    "plt.scatter( ,  , color='blue', label='Projected Data')\n",
    "names = ['Alice', 'Bob', 'Carolyn', 'Dave']\n",
    "# Annotate each point with its index\n",
    "for i, (x, y) in enumerate(F_projected):\n",
    "    plt.text(x + 0.1, y + 0.1, names[i], fontsize=9, color='red')\n",
    "plt.xlabel('Principal Component 1')\n",
    "plt.ylabel('Principal Component 2')\n",
    "plt.title('Data Projected onto the Top 2 Eigenvectors')\n",
    "plt.grid(True)\n",
    "plt.show()"
   ]
  },
  {
   "cell_type": "markdown",
   "id": "b7f9243f-4c2d-44b1-87c3-795a8f1802cd",
   "metadata": {
    "tags": []
   },
   "source": [
    "## PCA Example: Feature Extraction for Handwriting Recognition\n",
    "\n",
    "In this section, we will use PCA to perform dimensionality reduction on a common database of handwritten digits. \n",
    "\n",
    "We will use the UCI MNIST database, which is commonly used in the study of machine learning and is included in the `scikit-learn` library. \n",
    "* MNIST stands for \"Modified National Institute of Standards and Technology.\"\n",
    "* The full MNIST database consists of 70,000 images  of handwritten digits from 0 to 9.\n",
    "* Each image is normalized to fit in a $28 \\times 28$ pixel bounding box and anti-aliased. \n",
    "* The UCI MNIST database provided by `scikit-learn` consists of 1797 data points, each of which is a processed version of the original MNIST image.\n",
    "* The data in UCI MNIST are images of dimension $8 \\times 8$. \n",
    "\n",
    "Because I want to show you visually how the bases create features that differentiate among the digits, we will  only use the \n",
    "537 entries that correspond to digits 0, 1, and 2. We can load the data for these classes as follows:"
   ]
  },
  {
   "cell_type": "code",
   "execution_count": null,
   "id": "afc5a996-1302-44cd-b11e-ea112e059d0c",
   "metadata": {},
   "outputs": [],
   "source": [
    "k=2"
   ]
  },
  {
   "cell_type": "code",
   "execution_count": null,
   "id": "436a5d5c-58d6-4b26-9965-f92d5279721d",
   "metadata": {
    "tags": []
   },
   "outputs": [],
   "source": [
    "from sklearn import datasets"
   ]
  },
  {
   "cell_type": "code",
   "execution_count": null,
   "id": "052dd8ce-e2aa-468a-978a-4cc9955b1fdc",
   "metadata": {
    "tags": []
   },
   "outputs": [],
   "source": [
    "digits = datasets.load_digits(n_class=3)\n",
    "\n",
    "digits.keys()"
   ]
  },
  {
   "attachments": {
    "4018bf84-a2c7-4b34-8a29-db73dc60ea3a.png": {
     "image/png": "[encoded data removed]"
    }
   },
   "cell_type": "markdown",
   "id": "de859735-1f1f-43c9-a733-7537e010dab7",
   "metadata": {},
   "source": [
    "Examples from the database for each of these digits are shown in the\n",
    "figure below:\n",
    "\n",
    "![image.png](attachment:4018bf84-a2c7-4b34-8a29-db73dc60ea3a.png)"
   ]
  },
  {
   "cell_type": "markdown",
   "id": "fc50689a-43c2-4f58-97c0-a3207f41fdb1",
   "metadata": {},
   "source": [
    "These images have overall dimension $8 \\times 8 = 64$, which is much lower than the original MNIST data.\n",
    "\n",
    "However, it is still much larger than most  of the datasets we have encountered so far, and we may be able to reduce the dimensionality while preserving the most-important information. \n",
    "\n",
    "To perform PCA, we need the data in the form of vectors instead of two-dimensional images (or corresponding matrix representations). \n",
    "\n",
    "The `digits` object has a `digits.data` attribute that contains \"flattened\" versions of the images, in which the 8 different rows of data representing an image are concatenated to form a single length-64 vector.\n",
    "\n",
    "As is usual for `scikit-learn` data sets, each row of `digits.data` corresponds to a data point (i.e., one MNIST handwriting sample), so the resulting shape of the `digits.data` array is:"
   ]
  },
  {
   "cell_type": "code",
   "execution_count": null,
   "id": "7c3aefa2-3b66-4a2c-9553-bddeb5b0b786",
   "metadata": {
    "tags": []
   },
   "outputs": [],
   "source": [
    "digits.data.shape"
   ]
  },
  {
   "cell_type": "markdown",
   "id": "0edbd7d6-e6e4-4455-ad87-ef1b7bff9021",
   "metadata": {},
   "source": [
    "We will store the data for use with NumPy's methods:"
   ]
  },
  {
   "cell_type": "code",
   "execution_count": null,
   "id": "c1121770-85e0-44e2-94e6-3da3addc799c",
   "metadata": {
    "tags": []
   },
   "outputs": [],
   "source": [
    "mnist= digits.data"
   ]
  },
  {
   "cell_type": "markdown",
   "id": "fa1ad50a-2248-494c-b09d-917d3616ff98",
   "metadata": {},
   "source": [
    "At this point, we would compute the centered data sets.\n",
    "\n",
    "However, for the UCI MNIST data set, every variable represents the same thing: a value from 0 to 16 that represents a downsampled version of the original MNIST data.\n",
    "\n",
    "Because each variable represents the same type of information with the same range, no need to center it."
   ]
  },
  {
   "cell_type": "markdown",
   "id": "7e33870d-85c7-4c13-8cb5-674a2b6732c0",
   "metadata": {},
   "source": [
    "Now we can calculate the sample covariance matrix for the length-64 data.\n",
    "\n",
    "Because it is hard to extract meaning from looking at a $64 \\times 64$ covariance matrix, \n",
    "we use a *heatmap* to visualize it:\n",
    "\n",
    "**heatmap**\n",
    ">  A plot that maps each value in a matrix to a corresponding color. The different matrix values are then shown together by plotting the associated colors as rectangles in an image grid."
   ]
  },
  {
   "cell_type": "code",
   "execution_count": null,
   "id": "305ef03e-6519-4840-a903-518048bd9b92",
   "metadata": {
    "tags": []
   },
   "outputs": [],
   "source": [
    "Kmnist= \n",
    "plt.imshow( # todo )\n",
    "plt.colorbar()"
   ]
  },
  {
   "cell_type": "markdown",
   "id": "c35b7b3a-5b55-44bc-b932-c2af18505ade",
   "metadata": {},
   "source": [
    "The blocking effect comes from the fact that the data represents $8 \\times 8$ images that have been \"flattened\" into length-64 vectors.  \n",
    "\n",
    "Each line of 8 pixels that starts on a boundary $8k$ represents one line in the original image. "
   ]
  },
  {
   "cell_type": "code",
   "execution_count": null,
   "id": "4e31c5c4-45f8-479b-a194-8f4e75854c6f",
   "metadata": {
    "tags": [
     "remove-input"
    ]
   },
   "outputs": [],
   "source": [
    "plt.imshow(Kmnist[24:32,32:40], cmap=cm.coolwarm)\n",
    "plt.colorbar()"
   ]
  },
  {
   "cell_type": "markdown",
   "id": "ba93d910-67e3-4a2a-872b-46cb8f1e30eb",
   "metadata": {},
   "source": [
    "The highest correlations are among those lines of the image that are close to the center. \n",
    "\n",
    "Let's find the eigendecomposition of `Kmnist` and sort the eigenvalue-eigenvector pairs in decreasing order of the eigenvalue:\n",
    "\n",
    "\n",
    "In addition, we will sort the eigenvalue-eigenvector pairs in decreasing order of the eigenvalues.\n",
    "\n",
    "The function `np.argsort()` returns the indexes required to sort the values in increasing order.\n",
    "* We will use the index `[::-1]` to reverse that order.\n",
    "\n",
    "Finally, fancy indexing is used to sort the eigenvalues and eigenvectors to create new sorted variables `lam_mnist` and `U_mnist`:"
   ]
  },
  {
   "cell_type": "code",
   "execution_count": null,
   "id": "12715269-0832-4c13-aa7c-97d92f54a045",
   "metadata": {
    "tags": []
   },
   "outputs": [],
   "source": [
    "# Do the eigenecomposition\n",
    "la, U =  # todo\n",
    "la"
   ]
  },
  {
   "cell_type": "code",
   "execution_count": null,
   "id": "cffa72f9-fc1a-43f9-81df-35631dafe790",
   "metadata": {
    "tags": []
   },
   "outputs": [],
   "source": [
    "# Get the ordering\n",
    "la_sorted_indices = np.argsort(la)[::-1]  # Indices of eigenvalues in descending order\n",
    "la_sorted_indices"
   ]
  },
  {
   "cell_type": "code",
   "execution_count": null,
   "id": "11ff9f76-66f5-49be-916a-fa2112b61549",
   "metadata": {
    "tags": []
   },
   "outputs": [],
   "source": [
    "# Now sort the lambdas and the columns of U\n",
    "la_mnist = la[la_sorted_indices]\n",
    "la_mnist"
   ]
  },
  {
   "cell_type": "code",
   "execution_count": null,
   "id": "7e021dcb-af6b-4040-a90a-b6851982275d",
   "metadata": {},
   "outputs": [],
   "source": [
    "U_mnist = #  \n"
   ]
  },
  {
   "cell_type": "markdown",
   "id": "f30bcca7-e5fb-46c5-aea9-3cafd10c2d7c",
   "metadata": {},
   "source": [
    "The eigenvalues decrease quickly as we proceed through the sorted array."
   ]
  },
  {
   "cell_type": "code",
   "execution_count": null,
   "id": "e6db7f67-5427-41b2-85c3-f2fc0ce757b5",
   "metadata": {
    "tags": []
   },
   "outputs": [],
   "source": []
  },
  {
   "cell_type": "markdown",
   "id": "b4204089-84ef-424f-badb-34334ace2edb",
   "metadata": {},
   "source": [
    "A useful tool in dimensionality reduction is to visualize the relation among the eigenvalues. A typical way to do that is a *scree plot*:\n",
    "\n",
    "**scree plot**\n",
    ">  In PCA, a *scree plot* is a line plot that illustrates the eigenvalues of the covariance matrix of a multidimensional data set.\n"
   ]
  },
  {
   "cell_type": "code",
   "execution_count": null,
   "id": "eebb92c3-41a4-4a03-ac9b-7c7a1524dce6",
   "metadata": {
    "tags": []
   },
   "outputs": [],
   "source": [
    "plt.plot(la_mnist)\n",
    "plt.xlabel('Component #')\n",
    "plt.ylabel('Eigenvalue');"
   ]
  },
  {
   "cell_type": "markdown",
   "id": "9e7b678c-0c0f-4f0e-968f-69bdd832543f",
   "metadata": {},
   "source": [
    "Note that the eigenvalues decrease quickly with the component number. \n",
    "\n",
    "This is the case for most data sets, and it means that most of the variation in the data can be captured using a much smaller\n",
    "number of features than is present in the full data set.\n",
    "\n",
    "Since the features at the output of PCA are decorrelated, the total variance of the data set is equal to the\n",
    "sum of the eigenvalues:\n"
   ]
  },
  {
   "cell_type": "code",
   "execution_count": null,
   "id": "8b2de000-7b4e-4421-b823-e4c56b294e9a",
   "metadata": {
    "tags": []
   },
   "outputs": [],
   "source": []
  },
  {
   "cell_type": "markdown",
   "id": "07cac955-9461-478e-a026-aec138f481f2",
   "metadata": {},
   "source": [
    "To perform dimensionality reduction, we will utilize some $K<64$ features with the highest eigenvalues.\n",
    "\n",
    "We can assess the impact of this dimensionality reduction in terms of the *explained variance*:\n",
    "\n",
    "**explained variance (dimensionality reduction)**\n",
    "> In dimensionality reduction, the *explained variance* is the ratio of the total variance after dimensionality reduction to the total variance of the original data set."
   ]
  },
  {
   "cell_type": "markdown",
   "id": "cb3dc842-80bd-4178-b796-5abcb8389d7a",
   "metadata": {},
   "source": [
    "Using PCA, the total variance after reduction to $K$ features is equal to the sum of the $K$ largest eigenvalues. \n",
    "\n",
    "We can find the total variance after dimensionality reduction for every $K$ by applying `np.cumsum()` to find the cumulative sums of the eigenvalues:"
   ]
  },
  {
   "cell_type": "code",
   "execution_count": null,
   "id": "a29af77e-0079-4cdb-8f07-67042fa059c0",
   "metadata": {
    "tags": []
   },
   "outputs": [],
   "source": [
    "total_variance_cumsum= "
   ]
  },
  {
   "cell_type": "code",
   "execution_count": null,
   "id": "b4ea9cb3-1241-4fba-8f3c-e2633cf1dbd9",
   "metadata": {},
   "outputs": [],
   "source": []
  },
  {
   "cell_type": "markdown",
   "id": "766d9aa1-bdab-4112-ad98-ec4a38bbbf42",
   "metadata": {},
   "source": [
    "Then a plot of the explained variance can be generated by dividing the total variances after dimensionality reduction by the total variance of the input data set:"
   ]
  },
  {
   "cell_type": "code",
   "execution_count": null,
   "id": "4f2e8ade-3637-4431-b4eb-97910a68a092",
   "metadata": {
    "tags": []
   },
   "outputs": [],
   "source": [
    "total_variance_all = np.sum(la_mnist)\n",
    "plt.plot(#todo)\n",
    "plt.xlabel('No. of preserved features')\n",
    "plt.ylabel('Explained variance')\n",
    "plt.title('Effect of dimensionality reduction on the MNIST data set');"
   ]
  },
  {
   "cell_type": "code",
   "execution_count": null,
   "id": "4cb2167a-0b0a-4bcd-9e8e-472155728293",
   "metadata": {},
   "outputs": [],
   "source": []
  },
  {
   "cell_type": "markdown",
   "id": "d1dd960f-3de0-43b6-81d4-7905e4156e30",
   "metadata": {},
   "source": [
    "If we only use two features, the fraction of explained variance is"
   ]
  },
  {
   "cell_type": "code",
   "execution_count": null,
   "id": "d9dc3160-2ad3-4145-be45-ab7dbb5f9a37",
   "metadata": {
    "tags": []
   },
   "outputs": [],
   "source": []
  },
  {
   "cell_type": "code",
   "execution_count": null,
   "id": "1a944f6e-a7e1-437a-97cb-803daf5e0174",
   "metadata": {},
   "outputs": [],
   "source": []
  },
  {
   "cell_type": "markdown",
   "id": "00fe3aba-0872-4051-b13d-bb18feb82e37",
   "metadata": {},
   "source": [
    "Using two features also has the advantage that we can visualize the data using\n",
    "a scatter plot. "
   ]
  },
  {
   "cell_type": "code",
   "execution_count": null,
   "id": "90f21098-f0d4-4998-a307-30a9bf19754d",
   "metadata": {
    "tags": []
   },
   "outputs": [],
   "source": [
    "# projection into the top two eigenvector\n",
    "mnist_projected = # todo\n",
    "mnist_projected"
   ]
  },
  {
   "cell_type": "code",
   "execution_count": null,
   "id": "454bfac6-ac50-4df8-bdc3-df734c82e714",
   "metadata": {},
   "outputs": [],
   "source": []
  },
  {
   "cell_type": "code",
   "execution_count": null,
   "id": "39f0a75d-8737-495a-9208-c79b7f9512b5",
   "metadata": {},
   "outputs": [],
   "source": [
    " "
   ]
  },
  {
   "cell_type": "markdown",
   "id": "cb68c796-c59d-45f1-b74c-75861399bb92",
   "metadata": {},
   "source": [
    "Let's find the covariance matrix of the output data to confirm that the data is decorrelated and the variances match the first two eigenvalues:"
   ]
  },
  {
   "cell_type": "code",
   "execution_count": null,
   "id": "ae22b06c-7e3f-442d-a9f6-601fcb402062",
   "metadata": {
    "tags": []
   },
   "outputs": [],
   "source": [
    "K_projected =  \n",
    "K_projected"
   ]
  },
  {
   "cell_type": "code",
   "execution_count": null,
   "id": "f3e289b1-d7da-4173-b5c1-62dde24c93a5",
   "metadata": {},
   "outputs": [],
   "source": [
    "digits.target"
   ]
  },
  {
   "cell_type": "markdown",
   "id": "c375fee6-a440-425e-b113-8c497f898ae4",
   "metadata": {},
   "source": [
    "Now let's visualize the data using a scatter plot on the 2-D data from PCA."
   ]
  },
  {
   "cell_type": "code",
   "execution_count": null,
   "id": "1964e1bb-d5e0-42bf-8163-b14537ebc6cd",
   "metadata": {
    "tags": []
   },
   "outputs": [],
   "source": [
    "markers = ['o', 'x', '^']\n",
    "for digit_value in range(3):\n",
    "    targets = np.where(digits.target == digit_value)\n",
    "    plt.scatter( ,  ,\n",
    "              c='C'+str(digit_value), marker=markers[digit_value], \n",
    "              label= f'Digit {digit_value}')\n",
    "plt.xlabel('Output feature 1')\n",
    "plt.ylabel('Output feature 2')\n",
    "plt.title('MNIST data reduced to 2 dimensions via PCA');\n",
    "plt.legend();"
   ]
  },
  {
   "cell_type": "code",
   "execution_count": null,
   "id": "f9e7e853-c891-41a0-876f-60b848bdd56e",
   "metadata": {},
   "outputs": [],
   "source": []
  },
  {
   "cell_type": "markdown",
   "id": "d2c2b349-b297-4e92-baf2-7080a2b2a43e",
   "metadata": {},
   "source": [
    "Two features are sufficient to create almost completely distinct clusters among these three data classes. \n",
    "\n",
    "They cannot be separated using just lines, but more advanced machine learning algorithms can be used to\n",
    "easily create a classifier using just these two features."
   ]
  },
  {
   "cell_type": "code",
   "execution_count": null,
   "id": "9ed90ad1-2bdd-4041-9333-bb584d22b884",
   "metadata": {},
   "outputs": [],
   "source": [
    "# Time permitting, using k-means cluster"
   ]
  },
  {
   "cell_type": "code",
   "execution_count": null,
   "id": "98149fb4-09a3-4d31-b560-5f62defc75b5",
   "metadata": {},
   "outputs": [],
   "source": [
    "from sklearn.cluster import KMeans\n",
    "from sklearn.datasets import make_blobs\n"
   ]
  },
  {
   "cell_type": "code",
   "execution_count": null,
   "id": "1681ae9d-e8a0-4bd5-a63a-272eba8a04b6",
   "metadata": {},
   "outputs": [],
   "source": [
    "kmeans = KMeans(n_clusters=3, random_state=0)\n",
    "kmeans.fit()\n",
    "labels=  # todo\n",
    "centers =  # todo"
   ]
  },
  {
   "cell_type": "code",
   "execution_count": null,
   "id": "06d63329-9c18-4b77-9b5e-a79f830817e3",
   "metadata": {},
   "outputs": [],
   "source": [
    "# Step 3: Plot the clusters\n",
    "plt.figure(figsize=(8, 6))\n",
    "plt.scatter(#todo, #todo, c= #todo, cmap='viridis', s=50, label='Data points')\n",
    "plt.scatter(#todo, #todo, c='red', s=200, marker='X', label='Centroids') # plot the centroids\n",
    "plt.title('K-Means Clustering')\n",
    "plt.xlabel('Feature 1')\n",
    "plt.ylabel('Feature 2')\n",
    "plt.legend()\n",
    "plt.grid(True)\n",
    "plt.show()"
   ]
  },
  {
   "attachments": {
    "f6e9b365-6bca-43d1-b8eb-9f61b13a2e9d.png": {
     "image/png": "[encoded data removed]"
    }
   },
   "cell_type": "markdown",
   "id": "2f5102f1-d8f4-4490-b481-6668bb16cfa0",
   "metadata": {},
   "source": [
    "### A confusion matrix is a table used to evaluate the performance of a classification model, displaying the counts of true positives, true negatives, false positives, and false negatives. \n",
    "\n",
    "Confusion matrix whose i-th row and j-th column entry indicates the number of samples with true label being i-th class and predicted label being j-th class.\n",
    "\n",
    "![image.png](attachment:f6e9b365-6bca-43d1-b8eb-9f61b13a2e9d.png)"
   ]
  },
  {
   "cell_type": "code",
   "execution_count": null,
   "id": "fb9ffeec-73d0-4bcb-91a9-61a7df1005af",
   "metadata": {},
   "outputs": [],
   "source": [
    "from sklearn.metrics import confusion_matrix\n"
   ]
  },
  {
   "cell_type": "code",
   "execution_count": null,
   "id": "eefe3924-ff53-4bff-aaf3-763660afb5c2",
   "metadata": {},
   "outputs": [],
   "source": [
    "y_pred = labels\n",
    "cm = confusion_matrix(digits.target, y_pred)\n",
    "cm"
   ]
  },
  {
   "cell_type": "code",
   "execution_count": null,
   "id": "dbb107b8-5617-4f3a-a604-d9bb9ad0181d",
   "metadata": {},
   "outputs": [],
   "source": [
    "# e.g. the true label is 0 but the predicted value is 1 has 178.\n",
    "# the true label being 1 but predicted to be 0 has 34.\n",
    "# the true labeling being 2 but predicted to be 0 has 159"
   ]
  },
  {
   "cell_type": "code",
   "execution_count": null,
   "id": "609ba01b-fd6f-4c92-88c9-4c68426923cc",
   "metadata": {},
   "outputs": [],
   "source": []
  }
 ],
 "metadata": {
  "kernelspec": {
   "display_name": "Python 3 (ipykernel)",
   "language": "python",
   "name": "python3"
  },
  "language_info": {
   "codemirror_mode": {
    "name": "ipython",
    "version": 3
   },
   "file_extension": ".py",
   "mimetype": "text/x-python",
   "name": "python",
   "nbconvert_exporter": "python",
   "pygments_lexer": "ipython3",
   "version": "3.9.13"
  }
 },
 "nbformat": 4,
 "nbformat_minor": 5
}
