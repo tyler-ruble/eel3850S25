{
 "cells": [
  {
   "cell_type": "markdown",
   "id": "12a0e837-bfba-49df-820e-e2d443c7223a",
   "metadata": {},
   "source": [
    "# Lecture 10: Hypothesis testing using CLT"
   ]
  },
  {
   "cell_type": "code",
   "execution_count": null,
   "id": "871239b9-e72e-4c15-a4f0-a8378873dfb1",
   "metadata": {},
   "outputs": [],
   "source": [
    "import random\n",
    "import numpy as np\n",
    "import numpy.random as npr\n",
    "import matplotlib.pyplot as plt\n",
    "%matplotlib inline\n",
    "plt.style.use('bmh')\n",
    "import scipy.stats as stats\n",
    "import math\n",
    "import pandas as pd"
   ]
  },
  {
   "cell_type": "markdown",
   "id": "5fafa028-08ad-431f-ab0b-5fed76f40fa2",
   "metadata": {},
   "source": [
    "## Z-test"
   ]
  },
  {
   "cell_type": "markdown",
   "id": "ca888d90-7527-4558-b702-c5f83c56ea34",
   "metadata": {},
   "source": []
  },
  {
   "cell_type": "markdown",
   "id": "3029a2aa-98b9-4a0f-97cd-89ed690730e6",
   "metadata": {},
   "source": [
    "Example: A battery manufacturer claims that the average lifespan of their batteries is 1000 hours and standard deviation of 50 hours. A consumer protection agency takes a random sample of 50 batteries and finds the life span test results below\n"
   ]
  },
  {
   "cell_type": "code",
   "execution_count": null,
   "id": "161f90cc-332a-4753-a9b4-507e111e5250",
   "metadata": {},
   "outputs": [],
   "source": [
    "## G= stats.norm(loc=990, scale =50)  this is the distribution that generates the sample\n",
    "num= \n",
    "pop_mean = \n",
    "pop_std = "
   ]
  },
  {
   "cell_type": "code",
   "execution_count": null,
   "id": "da245baf-8b4a-4ddc-972c-412fe0444c35",
   "metadata": {},
   "outputs": [],
   "source": [
    "samples =np.round(np.array([ 959.83036412, 1073.83591095,  947.11012542,  974.08301781,\n",
    "        970.76972989, 1075.34125545, 1007.71100707, 1048.17795209,\n",
    "       1026.24217782,  993.06561007, 1016.42107326, 1034.61053146,\n",
    "        973.58145713,  953.27290812,  986.49478201,  936.93182532,\n",
    "       1001.51603418,  928.18025325,  988.87028315, 1010.44888354,\n",
    "       1037.46726405,  974.13880069,  964.17121648, 1005.18555016,\n",
    "        985.18793067, 1001.67274953, 1033.16035678, 1084.73118984,\n",
    "        925.1548894 , 1013.17562785,  880.5910912 ,  985.87930874,\n",
    "        950.74404353, 1002.79128662,  973.42630802,  994.11854132,\n",
    "       1022.66071242,  991.31296348,  945.01966102,  880.65847317,\n",
    "        919.39898568,  994.69965916, 1055.07843794,  996.31685035,\n",
    "        965.46705285, 1001.02371721, 1096.61723664, 1015.13765773,\n",
    "        952.55010887, 1042.15670143]))"
   ]
  },
  {
   "cell_type": "code",
   "execution_count": null,
   "id": "69a4eb14-8e0c-4b5c-ac38-e4e986d751a4",
   "metadata": {},
   "outputs": [],
   "source": [
    "# first, define the distribution of a standard normal variable.\n",
    "G0=  \n"
   ]
  },
  {
   "cell_type": "code",
   "execution_count": null,
   "id": "bbfb7447-9c87-418f-b914-4bad450336ff",
   "metadata": {},
   "outputs": [],
   "source": [
    "# second, calculate the test statistics.\n",
    "z_score = "
   ]
  },
  {
   "cell_type": "code",
   "execution_count": null,
   "id": "aad04134-3d83-401e-882e-895efee70e64",
   "metadata": {},
   "outputs": [],
   "source": [
    "# The probability of observed sample mean, given the manufacture state the truth\n",
    "p_obs = \n",
    "p_obs"
   ]
  },
  {
   "cell_type": "code",
   "execution_count": null,
   "id": "470b337f-e506-441e-81d7-8908b1811eb0",
   "metadata": {},
   "outputs": [],
   "source": [
    "alpha= 0.05\n",
    "if p_obs # todo :\n",
    "    print(\"cannot reject the null hypothesis\")\n",
    "else:\n",
    "    print(\"reject the null hypothesis\")\n",
    "  "
   ]
  },
  {
   "cell_type": "code",
   "execution_count": null,
   "id": "ab8ce254-b087-4b12-84c9-cbe1307138e5",
   "metadata": {},
   "outputs": [],
   "source": [
    "# Let's write a function to do Z-test\n",
    "def myZtest(sample_mean, num,  pop_mean,pop_std, alpha, aux  = 'left-tail'):\n",
    "    G0 = stats.norm()\n",
    "    z_score =  \n",
    "    print(\"z-score is\", z_score)\n",
    "    if aux == 'left-tail':\n",
    "        p_value =  \n",
    "    if aux == 'right-tail':\n",
    "        p_value =  \n",
    "    # initialize the decision\n",
    "    answer =0 \n",
    "    print(\"p_value:\", p_value)\n",
    "    if p_value  : # todo\n",
    "        print(\"cannot reject the null hypothesis\")\n",
    "        answer = 0\n",
    "    else:\n",
    "        print(\"reject the null hypothesis\")\n",
    "        answer = 1\n",
    "    return answer"
   ]
  },
  {
   "cell_type": "code",
   "execution_count": null,
   "id": "cd990920-83ab-4f04-ba89-e2a727d12324",
   "metadata": {},
   "outputs": [],
   "source": [
    "answer =  "
   ]
  },
  {
   "cell_type": "code",
   "execution_count": null,
   "id": "2032bbaa-5391-4cd3-ba94-f8b1c563582a",
   "metadata": {},
   "outputs": [],
   "source": [
    "# Two-sided Z-test\n",
    "\n",
    "def myZtest2sided(sample_mean, num,    pop_mean, pop_std, alpha):\n",
    "    G0=stats.norm()\n",
    "    z_score = \n",
    "    p_value =  \n",
    "    print(\"z-score is\", z_score)\n",
    "    answer =0 \n",
    "    print(\"p_value:\", p_value)\n",
    "    if p_value  : # todo\n",
    "        print(\"cannot reject the null hypothesis\")\n",
    "        answer = 0\n",
    "    else:\n",
    "        print(\"reject the null hypothesis\")\n",
    "        answer = 1\n",
    "    return answer"
   ]
  },
  {
   "cell_type": "code",
   "execution_count": null,
   "id": "2478ac3a-0f7e-4985-8d00-d60a952725d0",
   "metadata": {},
   "outputs": [],
   "source": [
    "answer2 =  "
   ]
  },
  {
   "cell_type": "code",
   "execution_count": null,
   "id": "d77c8b1f-d58c-4fc9-96e0-f4cd81ecdfde",
   "metadata": {},
   "outputs": [],
   "source": []
  },
  {
   "cell_type": "markdown",
   "id": "7f262fe5-4c8b-48e4-a8d0-4f17369c2957",
   "metadata": {},
   "source": [
    "**<font color=blue>Example 2</font> The city of Gainesville claims the mean commute time on SW 24th Ave from I-75 to UF is 23 minutes with a variance of 50. You traveled that route 10 times over the last two weeks and had an average commute time of 27 minutes. Conduct a hypothesis test to determine whether the City of Gainesville’s model is reasonable. Reject the null hypothesis if $p < 0.01$.**\n",
    "\n",
    "1. What is the null hypothesis? Define the density under $H_0$.\n",
    "\n",
    "<!-- Null Hypothesis: city's model is correct.\n",
    "\n",
    "\\begin{align*}\n",
    "X_i \\sim \\text{Gaussian}(23, \\sigma_X^2 = 50)\n",
    "\\end{align*} -->"
   ]
  },
  {
   "cell_type": "markdown",
   "id": "8667b003-5978-413c-a312-a7c9852e8417",
   "metadata": {},
   "source": [
    "2. Compute the sample mean. Compute the bias and variance of the estimator."
   ]
  },
  {
   "cell_type": "markdown",
   "id": "57441562-88b1-4c75-b596-b0fd0d753f91",
   "metadata": {},
   "source": [
    "3. What is the probability that observe a result this extreme?\n",
    "<!-- One-sided hypothesis test:\n",
    "\n",
    "\\begin{align*}\n",
    "P(\\hat{\\mu} \\geq 27) = P\\left(\\frac{\\hat{\\mu} - 23}{\\sigma_{\\mu_X}} \\geq \\frac{27 - 23}{\\sigma_{\\mu_X}}\\right) = P\\left( Z \\geq \\frac{27-23}{\\sqrt{5}} \\right) = Q\\left(\\frac{27-23}{\\sqrt{5}}\\right) = Q\\left(\\frac{4}{\\sqrt{5}}\\right)\n",
    "\\end{align*}\n",
    "\n",
    "Two-sided hypothesis test:\n",
    "\n",
    "\\begin{align*}\n",
    "P(|\\hat{\\mu}| \\geq 27) = 2Q\\left(\\frac{4}{\\sqrt{5}}\\right)\n",
    "\\end{align*} -->"
   ]
  },
  {
   "cell_type": "code",
   "execution_count": null,
   "id": "5f931700-bf67-47f7-8c48-5a99066ea5c1",
   "metadata": {},
   "outputs": [],
   "source": [
    "sample_mean = \n",
    "num_trip =  "
   ]
  },
  {
   "cell_type": "markdown",
   "id": "51bc0cbe-eb02-4a56-a8b9-599560156338",
   "metadata": {},
   "source": [
    "--interested to know, under the null hypothesis, what is the probability of average travel time of 10 trips >27\n",
    "\n",
    "P(sample_mean > 27)? "
   ]
  },
  {
   "cell_type": "code",
   "execution_count": null,
   "id": "0b3a4359-d67f-45e7-b24d-00d62c5872f7",
   "metadata": {},
   "outputs": [],
   "source": [
    "z_score_trip =  "
   ]
  },
  {
   "cell_type": "code",
   "execution_count": null,
   "id": "65b59013-6f7c-4336-9c46-64b4e911657a",
   "metadata": {},
   "outputs": [],
   "source": [
    "# P(sample_mean > 27)? \n",
    " "
   ]
  },
  {
   "cell_type": "code",
   "execution_count": null,
   "id": "b9e59430-5d10-417c-8640-b84848f294d8",
   "metadata": {},
   "outputs": [],
   "source": [
    "myZtest(27, num_trip,  23, np.sqrt(50), 0.01, aux  = 'right-tail')"
   ]
  },
  {
   "cell_type": "markdown",
   "id": "fbc329d6-5d68-441c-b112-40ba2966d3f7",
   "metadata": {},
   "source": [
    "## two-sided Z-test\n",
    "\n",
    "Evaluating the effect of a curriculum re-design on student performance.\n",
    "1. The previous average score (\\mu_0) was 75.\n",
    "2. We collect a sample of 100 students who followed the new curriculum, and their average score is 78.\n",
    "3. The population standard deviation is known to be 10.\n",
    "\n"
   ]
  },
  {
   "cell_type": "code",
   "execution_count": null,
   "id": "e2ca5a08-0778-48dc-a2b5-6af091ba8adc",
   "metadata": {},
   "outputs": [],
   "source": [
    "alpha2= 0.05\n",
    "\n",
    "# todo"
   ]
  },
  {
   "cell_type": "markdown",
   "id": "db3579cf-2d61-49fd-a067-bc3c34f81622",
   "metadata": {},
   "source": [
    "## T-test: Unknown variance and small sample size!\n"
   ]
  },
  {
   "cell_type": "markdown",
   "id": "bf15a183-62c4-45ef-8631-038782996a53",
   "metadata": {},
   "source": [
    "If we use our *unbiased* estimator for the variance, then the distribution of\n",
    "\n",
    "\\begin{align*}\n",
    "\\frac{\\hat{\\mu}-\\mu}{S_{N-1}/\\sqrt{N}}\n",
    "\\end{align*}\n",
    "where $S_{N-1}$ is the   standard error of the mean (SEM)\n",
    "\n",
    "has a **Student’s $t$-distribution with $N-1$ degrees of freedom (dof)**.\n",
    "\n",
    "* The density and distribution functions for the **Student's $t$-distribution** are shown on its [Wikipedia page](https://en.wikipedia.org/wiki/Student's_t-distribution).\n"
   ]
  },
  {
   "cell_type": "markdown",
   "id": "9ade3d34-3d0a-4ea0-9ea8-10d861b5cc17",
   "metadata": {},
   "source": [
    "\n",
    "\n",
    "- When the sample size is large (>30), the student t-distribution using estimated variance is very close to Standard normal distribution --- so we can also use the Z-test."
   ]
  },
  {
   "cell_type": "markdown",
   "id": "1cf5d2b1-b7cc-4185-9393-c90bac227b86",
   "metadata": {},
   "source": [
    "Example: A battery manufacturer claims that the average lifespan of their batteries is 1000 hours. A consumer protection agency takes a random sample of 50 batteries with the battery life test results below: \n",
    "\n",
    "Based on the observation, shall we reject the null hypothesis that the average life space is 1000 hours?"
   ]
  },
  {
   "cell_type": "code",
   "execution_count": null,
   "id": "91d05f02-ff9e-45d3-975c-77d5a929f664",
   "metadata": {},
   "outputs": [],
   "source": [
    "samples = np.round(np.array([ 959.83036412, 1073.83591095,  947.11012542,  974.08301781,\n",
    "        970.76972989, 1075.34125545, 1007.71100707, 1048.17795209,\n",
    "       1026.24217782,  993.06561007, 1016.42107326, 1034.61053146,\n",
    "        973.58145713,  953.27290812,  986.49478201,  936.93182532,\n",
    "       1001.51603418,  928.18025325,  988.87028315, 1010.44888354,\n",
    "       1037.46726405,  974.13880069,  964.17121648, 1005.18555016,\n",
    "        985.18793067, 1001.67274953, 1033.16035678, 1084.73118984,\n",
    "        925.1548894 , 1013.17562785,  880.5910912 ,  985.87930874,\n",
    "        950.74404353, 1002.79128662,  973.42630802,  994.11854132,\n",
    "       1022.66071242,  991.31296348,  945.01966102,  880.65847317,\n",
    "        919.39898568,  994.69965916, 1055.07843794,  996.31685035,\n",
    "        965.46705285, 1001.02371721, 1096.61723664, 1015.13765773,\n",
    "        952.55010887, 1042.15670143]))"
   ]
  },
  {
   "cell_type": "code",
   "execution_count": null,
   "id": "30210628-cfd1-45a2-86dc-bda796a4dd66",
   "metadata": {},
   "outputs": [],
   "source": [
    "pop_mean =1000"
   ]
  },
  {
   "cell_type": "code",
   "execution_count": null,
   "id": "72e49746-d7d2-4fd8-be77-680d2d689561",
   "metadata": {},
   "outputs": [],
   "source": [
    "n=  \n",
    "T0 = \n",
    "est_std = "
   ]
  },
  {
   "cell_type": "code",
   "execution_count": null,
   "id": "43a0501b-7bb8-4fd2-8b86-c0713b682cdf",
   "metadata": {},
   "outputs": [],
   "source": [
    "t_score =  "
   ]
  },
  {
   "cell_type": "markdown",
   "id": "5f31d218-9144-408e-9af8-03928dcf2732",
   "metadata": {},
   "source": [
    "## implementing one-sided test, and two-sided T-test."
   ]
  },
  {
   "cell_type": "code",
   "execution_count": null,
   "id": "22c5cded-f674-45e9-85e3-193e623e522b",
   "metadata": {},
   "outputs": [],
   "source": [
    "\n",
    "def myTtest(samples, pop_mean,alpha, aux  = 'left-tail'):\n",
    "    num =  \n",
    "    T0=  # use student t-distribution\n",
    "    est_std =   # only need this change\n",
    "    print(\"The estimated standard deviation:\" , est_std)\n",
    "    t_score =   # and this\n",
    "    if aux == 'left-tail':\n",
    "        p_value =  \n",
    "    if aux == 'right-tail':\n",
    "        p_value = \n",
    "    answer =0 \n",
    "    print(\"p_value:\", p_value)\n",
    "    if p_value  #todo:\n",
    "        print(\"cannot reject the null hypothesis\")\n",
    "        answer = 0\n",
    "    else:\n",
    "        print(\"reject the null hypothesis\")\n",
    "        answer = 1\n",
    "    return answer"
   ]
  },
  {
   "cell_type": "code",
   "execution_count": null,
   "id": "ba81c4e7-7fac-4176-855a-651164abb713",
   "metadata": {},
   "outputs": [],
   "source": [
    "alpha = 0.05"
   ]
  },
  {
   "cell_type": "code",
   "execution_count": null,
   "id": "491066bc-d100-47e5-9da6-92b523ef7cfb",
   "metadata": {},
   "outputs": [],
   "source": []
  },
  {
   "cell_type": "code",
   "execution_count": null,
   "id": "31e474e6-f23c-405d-9ba2-84b75eed4a9a",
   "metadata": {},
   "outputs": [],
   "source": [
    "answerT =  "
   ]
  },
  {
   "cell_type": "code",
   "execution_count": null,
   "id": "a739fe3f-7a21-4712-a711-154b6bf3638c",
   "metadata": {},
   "outputs": [],
   "source": []
  },
  {
   "cell_type": "code",
   "execution_count": null,
   "id": "3bbb5ab5-faac-490b-8b1a-a5c648916152",
   "metadata": {},
   "outputs": [],
   "source": [
    "## two-sided T-test"
   ]
  },
  {
   "cell_type": "code",
   "execution_count": null,
   "id": "aac50a04-f329-4efc-bdf2-c466cc0f2d63",
   "metadata": {},
   "outputs": [],
   "source": [
    "\n",
    "def myTtest2sided(samples, pop_mean,alpha):\n",
    "    num = len(samples)\n",
    "    T0=stats.t(df=num-1 ) # use student t-distribution\n",
    "    est_std = stats.sem(samples)  # only need this change\n",
    "    print(\"The estimated standard deviation:\" , est_std)\n",
    "    t_score =  # and this\n",
    "    p_value =  \n",
    "    answer =0 \n",
    "    print(\"p_value:\", p_value)\n",
    "    if p_value : #todo\n",
    "        print(\"cannot reject the null hypothesis\")\n",
    "        answer = 0\n",
    "    else:\n",
    "        print(\"reject the null hypothesis\")\n",
    "        answer = 1\n",
    "    return answer"
   ]
  },
  {
   "cell_type": "code",
   "execution_count": null,
   "id": "aee99e26-e4ee-47ce-99c3-21a7ae127c08",
   "metadata": {},
   "outputs": [],
   "source": [
    "answerT2 = \n",
    "answerT2"
   ]
  },
  {
   "cell_type": "markdown",
   "id": "15955b3f-6082-4385-b994-27bc3380b260",
   "metadata": {},
   "source": [
    "## Test of difference in the mean\n",
    "\n",
    "To test for a difference between two population means, you can use a t-test or a z-test, depending on whether the population standard deviation is known or unknown and if the sample size is large enough. "
   ]
  },
  {
   "cell_type": "code",
   "execution_count": null,
   "id": "3b8ea408-9208-475f-b951-e10880a1778c",
   "metadata": {},
   "outputs": [],
   "source": []
  },
  {
   "cell_type": "markdown",
   "id": "7d9786f5-3d98-4051-ac1c-00831d91e97f",
   "metadata": {},
   "source": [
    "**<font color=blue>Example 1</font> Analytical Test on Difference of Means (T-Test)**\n",
    "\n",
    "Conduct an **analytical** binary hypothesis test on whether urban and rural populations have different firearms mortality rates."
   ]
  },
  {
   "cell_type": "code",
   "execution_count": null,
   "id": "0abbf3d5-bfce-495f-8c30-fad1190e4c2b",
   "metadata": {
    "scrolled": true
   },
   "outputs": [],
   "source": []
  },
  {
   "cell_type": "markdown",
   "id": "6ee526cf-770d-49ed-bc75-c358f2f565d4",
   "metadata": {},
   "source": [
    "Recall the data \"firearms-urban.csv\" where the columns of interest for this investigation are:\n",
    "\n",
    "* **RATE-2014**: The firearms mortality rate by state from 2014. \n",
    "\n",
    "* **Percent Urban**: The percentage of the total population in urban areas, from https://www.icip.iastate.edu/tables/population/urban-pct-states. Although this data is 2010, it should be sufficiently accurate for our purposes."
   ]
  },
  {
   "cell_type": "code",
   "execution_count": null,
   "id": "6782f49b-2dc1-4f23-b3a8-795edf37b69a",
   "metadata": {
    "scrolled": true
   },
   "outputs": [],
   "source": [
    "# Use the STATE column as the index\n",
    "\n"
   ]
  },
  {
   "cell_type": "code",
   "execution_count": null,
   "id": "37b12021-9199-415f-87d6-087e2b4ffd9a",
   "metadata": {},
   "outputs": [],
   "source": []
  },
  {
   "cell_type": "code",
   "execution_count": null,
   "id": "3ee94d07-6e9a-41e5-8ca4-ee9c5164eb3e",
   "metadata": {},
   "outputs": [],
   "source": [
    "# Plot the data\n",
    "# Highlight the point for Florida\n",
    "\n",
    "plt.scatter(df['Percent Urban'],df['RATE-2014'])\n",
    "plt.scatter(df.loc['FL']['Percent Urban'],df.loc['FL']['RATE-2014'],marker='*',c='r')\n",
    "plt.xlabel('Percent of population in urban areas',size=15)\n",
    "plt.ylabel('Firearms mortality rate',size=15);"
   ]
  },
  {
   "cell_type": "code",
   "execution_count": null,
   "id": "0df31478-3946-401c-b720-370734669433",
   "metadata": {},
   "outputs": [],
   "source": [
    "# Let's consider:\n",
    "# Urban - states with \"Percent Urban\">=80%\n",
    "# Rural - states with \"Percent Urban\"<80%\n",
    "\n",
    "plt.figure(figsize=(8,5))\n",
    "\n",
    "\n",
    "\n",
    "plt.xlabel('Percent of population in urban areas',size=15)\n",
    "plt.ylabel('Firearms mortality rate',size=15);"
   ]
  },
  {
   "cell_type": "code",
   "execution_count": null,
   "id": "5c717d8c-1fb2-439f-a348-d6999f2e7827",
   "metadata": {},
   "outputs": [],
   "source": [
    "# Let's the firearm mortality rate for 2014 where:\n",
    "# Urban - states with \"Percent Urban\">=80%\n",
    "# Rural - states with \"Percent Urban\"<80%\n",
    "\n",
    "# Extract data\n",
    "\n"
   ]
  },
  {
   "cell_type": "code",
   "execution_count": null,
   "id": "8f3551aa-4dc7-40f1-8343-e448e775007b",
   "metadata": {},
   "outputs": [],
   "source": [
    "plt.figure(figsize=(8,5))\n",
    "x = np.linspace(0,22,1000)\n",
    "\n",
    "\n",
    "\n",
    "plt.legend()\n",
    "plt.xlabel('Firearms Mortality Rate');"
   ]
  },
  {
   "cell_type": "code",
   "execution_count": null,
   "id": "33cd806a-7a57-46b4-b513-183f984d6793",
   "metadata": {},
   "outputs": [],
   "source": []
  },
  {
   "cell_type": "code",
   "execution_count": null,
   "id": "f8752102-9959-46a0-bfeb-ffc9fcd65801",
   "metadata": {},
   "outputs": [],
   "source": []
  },
  {
   "cell_type": "code",
   "execution_count": null,
   "id": "17e330e3-f146-4c7c-82bb-4b7591a1bba1",
   "metadata": {},
   "outputs": [],
   "source": []
  }
 ],
 "metadata": {
  "kernelspec": {
   "display_name": "Python 3 (ipykernel)",
   "language": "python",
   "name": "python3"
  },
  "language_info": {
   "codemirror_mode": {
    "name": "ipython",
    "version": 3
   },
   "file_extension": ".py",
   "mimetype": "text/x-python",
   "name": "python",
   "nbconvert_exporter": "python",
   "pygments_lexer": "ipython3",
   "version": "3.9.13"
  }
 },
 "nbformat": 4,
 "nbformat_minor": 5
}
