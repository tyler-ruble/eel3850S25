{
 "cells": [
  {
   "cell_type": "markdown",
   "id": "12a0e837-bfba-49df-820e-e2d443c7223a",
   "metadata": {},
   "source": [
    "# Lecture 10: Hypothesis testing using CLT"
   ]
  },
  {
   "cell_type": "code",
   "execution_count": 53,
   "id": "871239b9-e72e-4c15-a4f0-a8378873dfb1",
   "metadata": {},
   "outputs": [],
   "source": [
    "import random\n",
    "import numpy as np\n",
    "import numpy.random as npr\n",
    "import matplotlib.pyplot as plt\n",
    "%matplotlib inline\n",
    "plt.style.use('bmh')\n",
    "import scipy.stats as stats\n",
    "import math\n",
    "import pandas as pd"
   ]
  },
  {
   "cell_type": "code",
   "execution_count": null,
   "id": "c69d1402-f159-41c6-bc30-e20493f9057a",
   "metadata": {},
   "outputs": [],
   "source": [
    " "
   ]
  },
  {
   "cell_type": "code",
   "execution_count": null,
   "id": "fca262db-a049-4e01-a231-6222d8e28bc3",
   "metadata": {},
   "outputs": [],
   "source": [
    " "
   ]
  },
  {
   "cell_type": "markdown",
   "id": "5fafa028-08ad-431f-ab0b-5fed76f40fa2",
   "metadata": {},
   "source": [
    "## Z-test"
   ]
  },
  {
   "cell_type": "markdown",
   "id": "ca888d90-7527-4558-b702-c5f83c56ea34",
   "metadata": {},
   "source": []
  },
  {
   "cell_type": "markdown",
   "id": "3029a2aa-98b9-4a0f-97cd-89ed690730e6",
   "metadata": {},
   "source": [
    "Example: A battery manufacturer claims that the average lifespan of their batteries is 1000 hours and standard deviation of 50 hours. A consumer protection agency takes a random sample of 50 batteries and finds the life span test results below\n"
   ]
  },
  {
   "cell_type": "code",
   "execution_count": 54,
   "id": "161f90cc-332a-4753-a9b4-507e111e5250",
   "metadata": {},
   "outputs": [],
   "source": [
    "## G= stats.norm(loc=990, scale =50)  this is the distribution that generates the sample\n",
    "num= 50\n",
    "pop_mean = 1000\n",
    "pop_std = 50"
   ]
  },
  {
   "cell_type": "code",
   "execution_count": 55,
   "id": "da245baf-8b4a-4ddc-972c-412fe0444c35",
   "metadata": {},
   "outputs": [
    {
     "name": "stdout",
     "output_type": "stream",
     "text": [
      "991.9\n"
     ]
    }
   ],
   "source": [
    "samples = np.round(np.array([ 959.83036412, 1073.83591095,  947.11012542,  974.08301781,\n",
    "        970.76972989, 1075.34125545, 1007.71100707, 1048.17795209,\n",
    "       1026.24217782,  993.06561007, 1016.42107326, 1034.61053146,\n",
    "        973.58145713,  953.27290812,  986.49478201,  936.93182532,\n",
    "       1001.51603418,  928.18025325,  988.87028315, 1010.44888354,\n",
    "       1037.46726405,  974.13880069,  964.17121648, 1005.18555016,\n",
    "        985.18793067, 1001.67274953, 1033.16035678, 1084.73118984,\n",
    "        925.1548894 , 1013.17562785,  880.5910912 ,  985.87930874,\n",
    "        950.74404353, 1002.79128662,  973.42630802,  994.11854132,\n",
    "       1022.66071242,  991.31296348,  945.01966102,  880.65847317,\n",
    "        919.39898568,  994.69965916, 1055.07843794,  996.31685035,\n",
    "        965.46705285, 1001.02371721, 1096.61723664, 1015.13765773,\n",
    "        952.55010887, 1042.15670143]))\n",
    "samples\n",
    "print(samples.mean())"
   ]
  },
  {
   "cell_type": "code",
   "execution_count": 56,
   "id": "69a4eb14-8e0c-4b5c-ac38-e4e986d751a4",
   "metadata": {},
   "outputs": [],
   "source": [
    "# first, define the distribution of a standard normal variable.\n",
    "G0 =  stats.norm()"
   ]
  },
  {
   "cell_type": "code",
   "execution_count": 57,
   "id": "bbfb7447-9c87-418f-b914-4bad450336ff",
   "metadata": {},
   "outputs": [
    {
     "data": {
      "text/plain": [
       "-1.1455129855222104"
      ]
     },
     "execution_count": 57,
     "metadata": {},
     "output_type": "execute_result"
    }
   ],
   "source": [
    "# second, calculate the test statistics.\n",
    "z_score = (samples.mean() - pop_mean)/(pop_std/np.sqrt(num))\n",
    "z_score"
   ]
  },
  {
   "cell_type": "code",
   "execution_count": 58,
   "id": "aad04134-3d83-401e-882e-895efee70e64",
   "metadata": {},
   "outputs": [
    {
     "data": {
      "text/plain": [
       "0.12599835970110446"
      ]
     },
     "execution_count": 58,
     "metadata": {},
     "output_type": "execute_result"
    }
   ],
   "source": [
    "# The probability of observed sample mean, given the manufacture state the truth\n",
    "p_obs = G0.cdf(z_score)\n",
    "p_obs"
   ]
  },
  {
   "cell_type": "code",
   "execution_count": 59,
   "id": "470b337f-e506-441e-81d7-8908b1811eb0",
   "metadata": {},
   "outputs": [
    {
     "name": "stdout",
     "output_type": "stream",
     "text": [
      "cannot reject the null hypothesis\n"
     ]
    }
   ],
   "source": [
    "alpha= 0.05\n",
    "if p_obs >= 0.05:\n",
    "    print(\"cannot reject the null hypothesis\")\n",
    "else:\n",
    "    print(\"reject the null hypothesis\")\n",
    "  "
   ]
  },
  {
   "cell_type": "code",
   "execution_count": 60,
   "id": "ab8ce254-b087-4b12-84c9-cbe1307138e5",
   "metadata": {},
   "outputs": [],
   "source": [
    "# Let's write a function to do Z-test\n",
    "def myZtest(sample_mean, num,  pop_mean,pop_std, alpha, aux  = 'left-tail'):\n",
    "    G0 = stats.norm()\n",
    "    z_score =  (sample_mean - pop_mean)/(pop_std/np.sqrt(num))\n",
    "    print(\"z-score is\", z_score)\n",
    "    if aux == 'left-tail':\n",
    "        p_value =  G0.cdf(z_score)\n",
    "    if aux == 'right-tail':\n",
    "        p_value =  G0.sf(z_score)\n",
    "    # initialize the decision\n",
    "    answer =0 \n",
    "    print(\"p_value:\", p_value)\n",
    "    if p_value >= alpha: # todo\n",
    "        print(\"cannot reject the null hypothesis\")\n",
    "        answer = 0\n",
    "    else:\n",
    "        print(\"reject the null hypothesis\")\n",
    "        answer = 1\n",
    "    return answer"
   ]
  },
  {
   "cell_type": "code",
   "execution_count": 61,
   "id": "cd990920-83ab-4f04-ba89-e2a727d12324",
   "metadata": {},
   "outputs": [
    {
     "name": "stdout",
     "output_type": "stream",
     "text": [
      "z-score is -1.1455129855222104\n",
      "p_value: 0.12599835970110446\n",
      "cannot reject the null hypothesis\n"
     ]
    }
   ],
   "source": [
    "answer =  myZtest(samples.mean(), len(samples), pop_mean, pop_std, alpha)"
   ]
  },
  {
   "cell_type": "code",
   "execution_count": 62,
   "id": "2032bbaa-5391-4cd3-ba94-f8b1c563582a",
   "metadata": {},
   "outputs": [],
   "source": [
    "# Two-sided Z-test\n",
    "\n",
    "def myZtest2sided(sample_mean, num,    pop_mean, pop_std, alpha):\n",
    "    G0=stats.norm()\n",
    "    z_score = np.abs((sample_mean - pop_mean)/(pop_std/np.sqrt(num)))\n",
    "    p_value =  G0.sf(z_score)\n",
    "    print(\"z-score is\", z_score)\n",
    "    answer =0 \n",
    "    print(\"p_value:\", p_value)\n",
    "    if p_value  > alpha/2: # todo\n",
    "        print(\"cannot reject the null hypothesis\")\n",
    "        answer = 0\n",
    "    else:\n",
    "        print(\"reject the null hypothesis\")\n",
    "        answer = 1\n",
    "    return answer"
   ]
  },
  {
   "cell_type": "markdown",
   "id": "fbc329d6-5d68-441c-b112-40ba2966d3f7",
   "metadata": {},
   "source": [
    "## two-sided Z-test\n",
    "\n",
    "Evaluating the effect of a curriculum re-design on student performance.\n",
    "1. The previous average score (\\mu_0) was 75.\n",
    "2. We collect a sample of 100 students who followed the new curriculum, and their average score is 78.\n",
    "3. The population standard deviation is known to be 10.\n",
    "\n"
   ]
  },
  {
   "cell_type": "code",
   "execution_count": 63,
   "id": "2478ac3a-0f7e-4985-8d00-d60a952725d0",
   "metadata": {},
   "outputs": [
    {
     "name": "stdout",
     "output_type": "stream",
     "text": [
      "z-score is 3.0\n",
      "p_value: 0.0013498980316300933\n",
      "reject the null hypothesis\n"
     ]
    }
   ],
   "source": [
    "answer2 =  myZtest2sided(78, 100, 75, 10, 0.05)"
   ]
  },
  {
   "cell_type": "code",
   "execution_count": null,
   "id": "d77c8b1f-d58c-4fc9-96e0-f4cd81ecdfde",
   "metadata": {},
   "outputs": [],
   "source": []
  },
  {
   "cell_type": "markdown",
   "id": "7f262fe5-4c8b-48e4-a8d0-4f17369c2957",
   "metadata": {},
   "source": [
    "**<font color=blue>Example 2</font> The city of Gainesville claims the mean commute time on SW 24th Ave from I-75 to UF is 23 minutes with a variance of 50. You traveled that route 10 times over the last two weeks and had an average commute time of 27 minutes. Conduct a hypothesis test to determine whether the City of Gainesville’s model is reasonable. Reject the null hypothesis if $p < 0.01$.**\n",
    "\n",
    "1. What is the null hypothesis? Define the density under $H_0$.\n",
    "\n",
    "<!-- Null Hypothesis: city's model is correct.\n",
    "\n",
    "\\begin{align*}\n",
    "X_i \\sim \\text{Gaussian}(23, \\sigma_X^2 = 50)\n",
    "\\end{align*} -->"
   ]
  },
  {
   "cell_type": "markdown",
   "id": "8667b003-5978-413c-a312-a7c9852e8417",
   "metadata": {},
   "source": [
    "2. Compute the sample mean. Compute the bias and variance of the estimator."
   ]
  },
  {
   "cell_type": "markdown",
   "id": "57441562-88b1-4c75-b596-b0fd0d753f91",
   "metadata": {},
   "source": [
    "3. What is the probability that observe a result this extreme?\n",
    "<!-- One-sided hypothesis test:\n",
    "\n",
    "\\begin{align*}\n",
    "P(\\hat{\\mu} \\geq 27) = P\\left(\\frac{\\hat{\\mu} - 23}{\\sigma_{\\mu_X}} \\geq \\frac{27 - 23}{\\sigma_{\\mu_X}}\\right) = P\\left( Z \\geq \\frac{27-23}{\\sqrt{5}} \\right) = Q\\left(\\frac{27-23}{\\sqrt{5}}\\right) = Q\\left(\\frac{4}{\\sqrt{5}}\\right)\n",
    "\\end{align*}\n",
    "\n",
    "Two-sided hypothesis test:\n",
    "\n",
    "\\begin{align*}\n",
    "P(|\\hat{\\mu}| \\geq 27) = 2Q\\left(\\frac{4}{\\sqrt{5}}\\right)\n",
    "\\end{align*} -->"
   ]
  },
  {
   "cell_type": "code",
   "execution_count": 64,
   "id": "5f931700-bf67-47f7-8c48-5a99066ea5c1",
   "metadata": {},
   "outputs": [],
   "source": [
    "sample_mean = 27\n",
    "num_trip =  10"
   ]
  },
  {
   "cell_type": "code",
   "execution_count": 65,
   "id": "06c034a5-506a-4930-a5a4-b9bfe249e94c",
   "metadata": {},
   "outputs": [],
   "source": [
    "G_trip = stats.norm(loc =23, scale = np.sqrt(50))"
   ]
  },
  {
   "cell_type": "markdown",
   "id": "51bc0cbe-eb02-4a56-a8b9-599560156338",
   "metadata": {},
   "source": [
    "--interested to know, under the null hypothesis, what is the probability of average travel time of 10 trips >27\n",
    "\n",
    "P(sample_mean > 27)? "
   ]
  },
  {
   "cell_type": "code",
   "execution_count": 66,
   "id": "0b3a4359-d67f-45e7-b24d-00d62c5872f7",
   "metadata": {},
   "outputs": [],
   "source": [
    "z_score_trip =  (27-23)/(G_trip.std()/np.sqrt(num_trip))"
   ]
  },
  {
   "cell_type": "code",
   "execution_count": 67,
   "id": "65b59013-6f7c-4336-9c46-64b4e911657a",
   "metadata": {},
   "outputs": [
    {
     "data": {
      "text/plain": [
       "0.03681913506015133"
      ]
     },
     "execution_count": 67,
     "metadata": {},
     "output_type": "execute_result"
    }
   ],
   "source": [
    "# P(sample_mean > 27)? \n",
    "z_score_trip\n",
    "p_value=  G0.sf(z_score_trip)\n",
    "p_value "
   ]
  },
  {
   "cell_type": "code",
   "execution_count": 68,
   "id": "b9e59430-5d10-417c-8640-b84848f294d8",
   "metadata": {},
   "outputs": [
    {
     "name": "stdout",
     "output_type": "stream",
     "text": [
      "z-score is 1.7888543819998317\n",
      "p_value: 0.03681913506015133\n",
      "cannot reject the null hypothesis\n"
     ]
    },
    {
     "data": {
      "text/plain": [
       "0"
      ]
     },
     "execution_count": 68,
     "metadata": {},
     "output_type": "execute_result"
    }
   ],
   "source": [
    "myZtest(27, num_trip,  23, np.sqrt(50), 0.01, aux  = 'right-tail')"
   ]
  },
  {
   "cell_type": "markdown",
   "id": "db3579cf-2d61-49fd-a067-bc3c34f81622",
   "metadata": {},
   "source": [
    "## T-test: Unknown variance and small sample size!\n"
   ]
  },
  {
   "cell_type": "markdown",
   "id": "bf15a183-62c4-45ef-8631-038782996a53",
   "metadata": {},
   "source": [
    "If we use our *unbiased* estimator for the variance, then the distribution of\n",
    "\n",
    "\\begin{align*}\n",
    "\\frac{\\hat{\\mu}-\\mu}{S_{N-1}/\\sqrt{N}}\n",
    "\\end{align*}\n",
    "where $S_{N-1}$ is the   standard error of the mean (SEM)\n",
    "\n",
    "has a **Student’s $t$-distribution with $N-1$ degrees of freedom (dof)**.\n",
    "\n",
    "* The density and distribution functions for the **Student's $t$-distribution** are shown on its [Wikipedia page](https://en.wikipedia.org/wiki/Student's_t-distribution).\n"
   ]
  },
  {
   "cell_type": "markdown",
   "id": "9ade3d34-3d0a-4ea0-9ea8-10d861b5cc17",
   "metadata": {},
   "source": [
    "\n",
    "\n",
    "- When the sample size is large (>30), the student t-distribution using estimated variance is very close to Standard normal distribution --- so we can also use the Z-test."
   ]
  },
  {
   "cell_type": "markdown",
   "id": "1cf5d2b1-b7cc-4185-9393-c90bac227b86",
   "metadata": {},
   "source": [
    "Example: A battery manufacturer claims that the average lifespan of their batteries is 1000 hours. A consumer protection agency takes a random sample of 50 batteries with the battery life test results below: \n",
    "\n",
    "Based on the observation, shall we reject the null hypothesis that the average life space is 1000 hours?"
   ]
  },
  {
   "cell_type": "code",
   "execution_count": 69,
   "id": "91d05f02-ff9e-45d3-975c-77d5a929f664",
   "metadata": {},
   "outputs": [
    {
     "data": {
      "text/plain": [
       "array([ 960., 1074.,  947.,  974.,  971., 1075., 1008., 1048., 1026.,\n",
       "        993., 1016., 1035.,  974.,  953.,  986.,  937., 1002.,  928.,\n",
       "        989., 1010., 1037.,  974.,  964., 1005.,  985., 1002., 1033.,\n",
       "       1085.,  925., 1013.,  881.,  986.,  951., 1003.,  973.,  994.,\n",
       "       1023.,  991.,  945.,  881.,  919.,  995., 1055.,  996.,  965.,\n",
       "       1001., 1097., 1015.,  953., 1042.])"
      ]
     },
     "execution_count": 69,
     "metadata": {},
     "output_type": "execute_result"
    }
   ],
   "source": [
    "samples =  np.round(np.array([ 959.83036412, 1073.83591095,  947.11012542,  974.08301781,\n",
    "        970.76972989, 1075.34125545, 1007.71100707, 1048.17795209,\n",
    "       1026.24217782,  993.06561007, 1016.42107326, 1034.61053146,\n",
    "        973.58145713,  953.27290812,  986.49478201,  936.93182532,\n",
    "       1001.51603418,  928.18025325,  988.87028315, 1010.44888354,\n",
    "       1037.46726405,  974.13880069,  964.17121648, 1005.18555016,\n",
    "        985.18793067, 1001.67274953, 1033.16035678, 1084.73118984,\n",
    "        925.1548894 , 1013.17562785,  880.5910912 ,  985.87930874,\n",
    "        950.74404353, 1002.79128662,  973.42630802,  994.11854132,\n",
    "       1022.66071242,  991.31296348,  945.01966102,  880.65847317,\n",
    "        919.39898568,  994.69965916, 1055.07843794,  996.31685035,\n",
    "        965.46705285, 1001.02371721, 1096.61723664, 1015.13765773,\n",
    "        952.55010887, 1042.15670143]))\n",
    "samples"
   ]
  },
  {
   "cell_type": "code",
   "execution_count": 70,
   "id": "30210628-cfd1-45a2-86dc-bda796a4dd66",
   "metadata": {},
   "outputs": [],
   "source": [
    "pop_mean =1000"
   ]
  },
  {
   "cell_type": "code",
   "execution_count": 71,
   "id": "72e49746-d7d2-4fd8-be77-680d2d689561",
   "metadata": {},
   "outputs": [
    {
     "data": {
      "text/plain": [
       "6.6477094413283835"
      ]
     },
     "execution_count": 71,
     "metadata": {},
     "output_type": "execute_result"
    }
   ],
   "source": [
    "n=  len(samples)\n",
    "T0 = stats.t(df = n-1)\n",
    "est_std = samples.std(ddof = 1) # estimated std for X\n",
    "# estimated std for mu_X: sample mean\n",
    "est_std_sample_mean = est_std/np.sqrt(n)\n",
    "est_std_sample_mean"
   ]
  },
  {
   "cell_type": "code",
   "execution_count": 72,
   "id": "9292aefe-b6a7-4b14-99aa-4f1eab0223e1",
   "metadata": {},
   "outputs": [
    {
     "data": {
      "text/plain": [
       "6.6477094413283835"
      ]
     },
     "execution_count": 72,
     "metadata": {},
     "output_type": "execute_result"
    }
   ],
   "source": [
    "# or sem\n",
    "sem = stats.sem(samples)\n",
    "sem"
   ]
  },
  {
   "cell_type": "code",
   "execution_count": 73,
   "id": "43a0501b-7bb8-4fd2-8b86-c0713b682cdf",
   "metadata": {},
   "outputs": [
    {
     "data": {
      "text/plain": [
       "0.11444078220259822"
      ]
     },
     "execution_count": 73,
     "metadata": {},
     "output_type": "execute_result"
    }
   ],
   "source": [
    "t_score =  (samples.mean()- pop_mean)/sem\n",
    "t_score\n",
    "p_value = T0.cdf(t_score)\n",
    "p_value"
   ]
  },
  {
   "cell_type": "markdown",
   "id": "5f31d218-9144-408e-9af8-03928dcf2732",
   "metadata": {},
   "source": [
    "## implementing one-sided test, and two-sided T-test."
   ]
  },
  {
   "cell_type": "code",
   "execution_count": 78,
   "id": "22c5cded-f674-45e9-85e3-193e623e522b",
   "metadata": {},
   "outputs": [],
   "source": [
    "def myTtest(samples, pop_mean,alpha, aux  = 'left-tail'):\n",
    "    num = len(samples)\n",
    "    T0=stats.t(df=num-1) # use student t-distribution\n",
    "    sem = stats.sem(samples)  # only need this change\n",
    "    print(\"The estimated standard deviation:\" , est_std)\n",
    "    t_score = (samples.mean() - pop_mean)/sem    # and this\n",
    "    if aux == 'left-tail':\n",
    "        p_value = T0.cdf(t_score)\n",
    "    if aux == 'right-tail':\n",
    "        p_value = T0.sf(t_score)\n",
    "    answer =0 \n",
    "    print(\"p_value:\", p_value)\n",
    "    if p_value > alpha:  #todo:\n",
    "        print(\"cannot reject the null hypothesis\")\n",
    "        answer = 0\n",
    "    else:\n",
    "        print(\"reject the null hypothesis\")\n",
    "        answer = 1\n",
    "    return answer"
   ]
  },
  {
   "cell_type": "code",
   "execution_count": null,
   "id": "ba81c4e7-7fac-4176-855a-651164abb713",
   "metadata": {},
   "outputs": [],
   "source": [
    "alpha = 0.05"
   ]
  },
  {
   "cell_type": "code",
   "execution_count": null,
   "id": "491066bc-d100-47e5-9da6-92b523ef7cfb",
   "metadata": {},
   "outputs": [],
   "source": []
  },
  {
   "cell_type": "code",
   "execution_count": 79,
   "id": "31e474e6-f23c-405d-9ba2-84b75eed4a9a",
   "metadata": {},
   "outputs": [
    {
     "name": "stdout",
     "output_type": "stream",
     "text": [
      "The estimated standard deviation: 47.00640425321136\n",
      "p_value: 0.11444078220259822\n",
      "cannot reject the null hypothesis\n"
     ]
    }
   ],
   "source": [
    "answerT =  myTtest(samples, pop_mean, alpha, aux = 'left-tail')"
   ]
  },
  {
   "cell_type": "code",
   "execution_count": null,
   "id": "a739fe3f-7a21-4712-a711-154b6bf3638c",
   "metadata": {},
   "outputs": [],
   "source": []
  },
  {
   "cell_type": "code",
   "execution_count": null,
   "id": "3bbb5ab5-faac-490b-8b1a-a5c648916152",
   "metadata": {},
   "outputs": [],
   "source": [
    "## two-sided T-test"
   ]
  },
  {
   "cell_type": "code",
   "execution_count": 83,
   "id": "aac50a04-f329-4efc-bdf2-c466cc0f2d63",
   "metadata": {},
   "outputs": [],
   "source": [
    "\n",
    "def myTtest2sided(samples, pop_mean,alpha):\n",
    "    num = len(samples)\n",
    "    T0=stats.t(df=num-1 ) # use student t-distribution\n",
    "    sem = stats.sem(samples)  # only need this change\n",
    "    print(\"The estimated standard deviation:\" , est_std)\n",
    "    t_score =  np.abs(samples.mean() - pop_mean)/sem    #    and this\n",
    "    p_value =  T0.sf(t_score)\n",
    "    answer =0 \n",
    "    print(\"p_value:\", p_value)\n",
    "    if p_value > alpha/2: #todo\n",
    "        print(\"cannot reject the null hypothesis\")\n",
    "        answer = 0\n",
    "    else:\n",
    "        print(\"reject the null hypothesis\")\n",
    "        answer = 1\n",
    "    return answer"
   ]
  },
  {
   "cell_type": "code",
   "execution_count": 84,
   "id": "aee99e26-e4ee-47ce-99c3-21a7ae127c08",
   "metadata": {},
   "outputs": [
    {
     "name": "stdout",
     "output_type": "stream",
     "text": [
      "The estimated standard deviation: 47.00640425321136\n",
      "p_value: 0.11444078220259822\n",
      "cannot reject the null hypothesis\n"
     ]
    },
    {
     "data": {
      "text/plain": [
       "0"
      ]
     },
     "execution_count": 84,
     "metadata": {},
     "output_type": "execute_result"
    }
   ],
   "source": [
    "answerT2 = myTtest2sided(samples, pop_mean, alpha)\n",
    "answerT2"
   ]
  },
  {
   "cell_type": "markdown",
   "id": "15955b3f-6082-4385-b994-27bc3380b260",
   "metadata": {},
   "source": [
    "## Test of difference in the mean\n",
    "\n",
    "To test for a difference between two population means, you can use a t-test or a z-test, depending on whether the population standard deviation is known or unknown and if the sample size is large enough. "
   ]
  },
  {
   "cell_type": "code",
   "execution_count": null,
   "id": "3b8ea408-9208-475f-b951-e10880a1778c",
   "metadata": {},
   "outputs": [],
   "source": []
  },
  {
   "cell_type": "markdown",
   "id": "7d9786f5-3d98-4051-ac1c-00831d91e97f",
   "metadata": {},
   "source": [
    "**<font color=blue>Example 1</font> Analytical Test on Difference of Means (T-Test)**\n",
    "\n",
    "Conduct an **analytical** binary hypothesis test on whether urban and rural populations have different firearms mortality rates."
   ]
  },
  {
   "cell_type": "code",
   "execution_count": null,
   "id": "0abbf3d5-bfce-495f-8c30-fad1190e4c2b",
   "metadata": {
    "scrolled": true
   },
   "outputs": [],
   "source": []
  },
  {
   "cell_type": "markdown",
   "id": "6ee526cf-770d-49ed-bc75-c358f2f565d4",
   "metadata": {},
   "source": [
    "Recall the data \"firearms-urban.csv\" where the columns of interest for this investigation are:\n",
    "\n",
    "* **RATE-2014**: The firearms mortality rate by state from 2014. \n",
    "\n",
    "* **Percent Urban**: The percentage of the total population in urban areas, from https://www.icip.iastate.edu/tables/population/urban-pct-states. Although this data is 2010, it should be sufficiently accurate for our purposes."
   ]
  },
  {
   "cell_type": "code",
   "execution_count": 86,
   "id": "6782f49b-2dc1-4f23-b3a8-795edf37b69a",
   "metadata": {
    "scrolled": true
   },
   "outputs": [
    {
     "data": {
      "text/html": [
       "<div>\n",
       "<style scoped>\n",
       "    .dataframe tbody tr th:only-of-type {\n",
       "        vertical-align: middle;\n",
       "    }\n",
       "\n",
       "    .dataframe tbody tr th {\n",
       "        vertical-align: top;\n",
       "    }\n",
       "\n",
       "    .dataframe thead th {\n",
       "        text-align: right;\n",
       "    }\n",
       "</style>\n",
       "<table border=\"1\" class=\"dataframe\">\n",
       "  <thead>\n",
       "    <tr style=\"text-align: right;\">\n",
       "      <th></th>\n",
       "      <th>RATE-2014</th>\n",
       "      <th>Percent Urban</th>\n",
       "    </tr>\n",
       "    <tr>\n",
       "      <th>STATE</th>\n",
       "      <th></th>\n",
       "      <th></th>\n",
       "    </tr>\n",
       "  </thead>\n",
       "  <tbody>\n",
       "    <tr>\n",
       "      <th>AL</th>\n",
       "      <td>16.9</td>\n",
       "      <td>59.0</td>\n",
       "    </tr>\n",
       "    <tr>\n",
       "      <th>AK</th>\n",
       "      <td>19.2</td>\n",
       "      <td>66.0</td>\n",
       "    </tr>\n",
       "    <tr>\n",
       "      <th>AZ</th>\n",
       "      <td>13.5</td>\n",
       "      <td>89.8</td>\n",
       "    </tr>\n",
       "    <tr>\n",
       "      <th>AR</th>\n",
       "      <td>16.6</td>\n",
       "      <td>56.2</td>\n",
       "    </tr>\n",
       "    <tr>\n",
       "      <th>CA</th>\n",
       "      <td>7.4</td>\n",
       "      <td>95.0</td>\n",
       "    </tr>\n",
       "    <tr>\n",
       "      <th>CO</th>\n",
       "      <td>12.2</td>\n",
       "      <td>86.2</td>\n",
       "    </tr>\n",
       "    <tr>\n",
       "      <th>CT</th>\n",
       "      <td>5.0</td>\n",
       "      <td>88.0</td>\n",
       "    </tr>\n",
       "    <tr>\n",
       "      <th>DE</th>\n",
       "      <td>11.1</td>\n",
       "      <td>83.3</td>\n",
       "    </tr>\n",
       "    <tr>\n",
       "      <th>FL</th>\n",
       "      <td>11.5</td>\n",
       "      <td>91.2</td>\n",
       "    </tr>\n",
       "    <tr>\n",
       "      <th>GA</th>\n",
       "      <td>13.7</td>\n",
       "      <td>75.1</td>\n",
       "    </tr>\n",
       "    <tr>\n",
       "      <th>HI</th>\n",
       "      <td>2.6</td>\n",
       "      <td>91.9</td>\n",
       "    </tr>\n",
       "    <tr>\n",
       "      <th>ID</th>\n",
       "      <td>13.2</td>\n",
       "      <td>70.6</td>\n",
       "    </tr>\n",
       "    <tr>\n",
       "      <th>IL</th>\n",
       "      <td>9.0</td>\n",
       "      <td>88.5</td>\n",
       "    </tr>\n",
       "    <tr>\n",
       "      <th>IN</th>\n",
       "      <td>12.4</td>\n",
       "      <td>72.4</td>\n",
       "    </tr>\n",
       "    <tr>\n",
       "      <th>IA</th>\n",
       "      <td>7.5</td>\n",
       "      <td>64.0</td>\n",
       "    </tr>\n",
       "    <tr>\n",
       "      <th>KS</th>\n",
       "      <td>11.3</td>\n",
       "      <td>74.2</td>\n",
       "    </tr>\n",
       "    <tr>\n",
       "      <th>KY</th>\n",
       "      <td>13.9</td>\n",
       "      <td>58.4</td>\n",
       "    </tr>\n",
       "    <tr>\n",
       "      <th>LA</th>\n",
       "      <td>19.0</td>\n",
       "      <td>73.2</td>\n",
       "    </tr>\n",
       "    <tr>\n",
       "      <th>ME</th>\n",
       "      <td>9.4</td>\n",
       "      <td>38.7</td>\n",
       "    </tr>\n",
       "    <tr>\n",
       "      <th>MD</th>\n",
       "      <td>9.0</td>\n",
       "      <td>87.2</td>\n",
       "    </tr>\n",
       "    <tr>\n",
       "      <th>MA</th>\n",
       "      <td>3.2</td>\n",
       "      <td>92.0</td>\n",
       "    </tr>\n",
       "    <tr>\n",
       "      <th>MI</th>\n",
       "      <td>11.1</td>\n",
       "      <td>74.6</td>\n",
       "    </tr>\n",
       "    <tr>\n",
       "      <th>MN</th>\n",
       "      <td>6.6</td>\n",
       "      <td>73.3</td>\n",
       "    </tr>\n",
       "    <tr>\n",
       "      <th>MS</th>\n",
       "      <td>18.3</td>\n",
       "      <td>49.4</td>\n",
       "    </tr>\n",
       "    <tr>\n",
       "      <th>MO</th>\n",
       "      <td>15.3</td>\n",
       "      <td>70.4</td>\n",
       "    </tr>\n",
       "    <tr>\n",
       "      <th>MT</th>\n",
       "      <td>16.1</td>\n",
       "      <td>55.9</td>\n",
       "    </tr>\n",
       "    <tr>\n",
       "      <th>NE</th>\n",
       "      <td>9.5</td>\n",
       "      <td>73.1</td>\n",
       "    </tr>\n",
       "    <tr>\n",
       "      <th>NV</th>\n",
       "      <td>14.8</td>\n",
       "      <td>94.2</td>\n",
       "    </tr>\n",
       "    <tr>\n",
       "      <th>NH</th>\n",
       "      <td>8.7</td>\n",
       "      <td>60.3</td>\n",
       "    </tr>\n",
       "    <tr>\n",
       "      <th>NJ</th>\n",
       "      <td>5.3</td>\n",
       "      <td>94.7</td>\n",
       "    </tr>\n",
       "    <tr>\n",
       "      <th>NM</th>\n",
       "      <td>16.0</td>\n",
       "      <td>77.4</td>\n",
       "    </tr>\n",
       "    <tr>\n",
       "      <th>NY</th>\n",
       "      <td>4.2</td>\n",
       "      <td>87.9</td>\n",
       "    </tr>\n",
       "    <tr>\n",
       "      <th>NC</th>\n",
       "      <td>11.8</td>\n",
       "      <td>66.1</td>\n",
       "    </tr>\n",
       "    <tr>\n",
       "      <th>ND</th>\n",
       "      <td>12.3</td>\n",
       "      <td>59.9</td>\n",
       "    </tr>\n",
       "    <tr>\n",
       "      <th>OH</th>\n",
       "      <td>10.3</td>\n",
       "      <td>77.9</td>\n",
       "    </tr>\n",
       "    <tr>\n",
       "      <th>OK</th>\n",
       "      <td>15.7</td>\n",
       "      <td>66.2</td>\n",
       "    </tr>\n",
       "    <tr>\n",
       "      <th>OR</th>\n",
       "      <td>11.7</td>\n",
       "      <td>81.0</td>\n",
       "    </tr>\n",
       "    <tr>\n",
       "      <th>PA</th>\n",
       "      <td>10.5</td>\n",
       "      <td>78.7</td>\n",
       "    </tr>\n",
       "    <tr>\n",
       "      <th>RI</th>\n",
       "      <td>3.0</td>\n",
       "      <td>90.7</td>\n",
       "    </tr>\n",
       "    <tr>\n",
       "      <th>SC</th>\n",
       "      <td>15.5</td>\n",
       "      <td>66.3</td>\n",
       "    </tr>\n",
       "    <tr>\n",
       "      <th>SD</th>\n",
       "      <td>10.3</td>\n",
       "      <td>56.7</td>\n",
       "    </tr>\n",
       "    <tr>\n",
       "      <th>TN</th>\n",
       "      <td>15.1</td>\n",
       "      <td>66.4</td>\n",
       "    </tr>\n",
       "    <tr>\n",
       "      <th>TX</th>\n",
       "      <td>10.7</td>\n",
       "      <td>84.7</td>\n",
       "    </tr>\n",
       "    <tr>\n",
       "      <th>UT</th>\n",
       "      <td>12.3</td>\n",
       "      <td>90.6</td>\n",
       "    </tr>\n",
       "    <tr>\n",
       "      <th>VT</th>\n",
       "      <td>10.3</td>\n",
       "      <td>38.9</td>\n",
       "    </tr>\n",
       "    <tr>\n",
       "      <th>VA</th>\n",
       "      <td>10.3</td>\n",
       "      <td>75.5</td>\n",
       "    </tr>\n",
       "    <tr>\n",
       "      <th>WA</th>\n",
       "      <td>9.7</td>\n",
       "      <td>84.1</td>\n",
       "    </tr>\n",
       "    <tr>\n",
       "      <th>WV</th>\n",
       "      <td>14.6</td>\n",
       "      <td>48.7</td>\n",
       "    </tr>\n",
       "    <tr>\n",
       "      <th>WI</th>\n",
       "      <td>8.2</td>\n",
       "      <td>70.2</td>\n",
       "    </tr>\n",
       "    <tr>\n",
       "      <th>WY</th>\n",
       "      <td>16.2</td>\n",
       "      <td>64.8</td>\n",
       "    </tr>\n",
       "  </tbody>\n",
       "</table>\n",
       "</div>"
      ],
      "text/plain": [
       "       RATE-2014  Percent Urban\n",
       "STATE                          \n",
       "AL          16.9           59.0\n",
       "AK          19.2           66.0\n",
       "AZ          13.5           89.8\n",
       "AR          16.6           56.2\n",
       "CA           7.4           95.0\n",
       "CO          12.2           86.2\n",
       "CT           5.0           88.0\n",
       "DE          11.1           83.3\n",
       "FL          11.5           91.2\n",
       "GA          13.7           75.1\n",
       "HI           2.6           91.9\n",
       "ID          13.2           70.6\n",
       "IL           9.0           88.5\n",
       "IN          12.4           72.4\n",
       "IA           7.5           64.0\n",
       "KS          11.3           74.2\n",
       "KY          13.9           58.4\n",
       "LA          19.0           73.2\n",
       "ME           9.4           38.7\n",
       "MD           9.0           87.2\n",
       "MA           3.2           92.0\n",
       "MI          11.1           74.6\n",
       "MN           6.6           73.3\n",
       "MS          18.3           49.4\n",
       "MO          15.3           70.4\n",
       "MT          16.1           55.9\n",
       "NE           9.5           73.1\n",
       "NV          14.8           94.2\n",
       "NH           8.7           60.3\n",
       "NJ           5.3           94.7\n",
       "NM          16.0           77.4\n",
       "NY           4.2           87.9\n",
       "NC          11.8           66.1\n",
       "ND          12.3           59.9\n",
       "OH          10.3           77.9\n",
       "OK          15.7           66.2\n",
       "OR          11.7           81.0\n",
       "PA          10.5           78.7\n",
       "RI           3.0           90.7\n",
       "SC          15.5           66.3\n",
       "SD          10.3           56.7\n",
       "TN          15.1           66.4\n",
       "TX          10.7           84.7\n",
       "UT          12.3           90.6\n",
       "VT          10.3           38.9\n",
       "VA          10.3           75.5\n",
       "WA           9.7           84.1\n",
       "WV          14.6           48.7\n",
       "WI           8.2           70.2\n",
       "WY          16.2           64.8"
      ]
     },
     "execution_count": 86,
     "metadata": {},
     "output_type": "execute_result"
    }
   ],
   "source": [
    "# Use the STATE column as the index\n",
    "df = pd.read_csv('firearms-urban.csv')\n",
    "df = df.set_index('STATE')\n",
    "df"
   ]
  },
  {
   "cell_type": "code",
   "execution_count": null,
   "id": "37b12021-9199-415f-87d6-087e2b4ffd9a",
   "metadata": {},
   "outputs": [],
   "source": []
  },
  {
   "cell_type": "code",
   "execution_count": 87,
   "id": "3ee94d07-6e9a-41e5-8ca4-ee9c5164eb3e",
   "metadata": {},
   "outputs": [
    {
     "data": {
      "image/png": "[encoded data removed]",
      "text/plain": [
       "<Figure size 640x480 with 1 Axes>"
      ]
     },
     "metadata": {},
     "output_type": "display_data"
    }
   ],
   "source": [
    "# Plot the data\n",
    "# Highlight the point for Florida\n",
    "\n",
    "plt.scatter(df['Percent Urban'],df['RATE-2014'])\n",
    "plt.scatter(df.loc['FL']['Percent Urban'],df.loc['FL']['RATE-2014'],marker='*',c='r')\n",
    "plt.xlabel('Percent of population in urban areas',size=15)\n",
    "plt.ylabel('Firearms mortality rate',size=15);"
   ]
  },
  {
   "cell_type": "code",
   "execution_count": 89,
   "id": "0df31478-3946-401c-b720-370734669433",
   "metadata": {},
   "outputs": [
    {
     "data": {
      "image/png": "[encoded data removed]",
      "text/plain": [
       "<Figure size 800x500 with 1 Axes>"
      ]
     },
     "metadata": {},
     "output_type": "display_data"
    }
   ],
   "source": [
    "# Let's consider:\n",
    "# Urban - states with \"Percent Urban\">=80%\n",
    "# Rural - states with \"Percent Urban\"<80%\n",
    "\n",
    "plt.figure(figsize=(8,5))\n",
    "urban = df['Percent Urban'][df['Percent Urban']>=80].to_numpy()\n",
    "rural = df['Percent Urban'][df['Percent Urban'] < 80].to_numpy()\n",
    "\n",
    "plt.scatter(urban,df['RATE-2014'][df['Percent Urban']>=80], c ='b')\n",
    "plt.scatter(rural,df['RATE-2014'][df['Percent Urban']<80], c ='r')\n",
    "plt.xlabel('Percent of population in urban areas',size=15)\n",
    "plt.ylabel('Firearms mortality rate',size=15);"
   ]
  },
  {
   "cell_type": "code",
   "execution_count": 91,
   "id": "5c717d8c-1fb2-439f-a348-d6999f2e7827",
   "metadata": {},
   "outputs": [],
   "source": [
    "# Let's the firearm mortality rate for 2014 where:\n",
    "# Urban - states with \"Percent Urban\">=80%\n",
    "# Rural - states with \"Percent Urban\"<80%\n",
    "\n",
    "# Extract data\n",
    "\n",
    "urban_rate = df['RATE-2014'][df['Percent Urban']>=80].to_numpy()\n",
    "rural_rate = df['RATE-2014'][df['Percent Urban']< 80].to_numpy()"
   ]
  },
  {
   "cell_type": "code",
   "execution_count": 93,
   "id": "8f3551aa-4dc7-40f1-8343-e448e775007b",
   "metadata": {},
   "outputs": [
    {
     "data": {
      "image/png": "[encoded data removed]",
      "text/plain": [
       "<Figure size 800x500 with 1 Axes>"
      ]
     },
     "metadata": {},
     "output_type": "display_data"
    }
   ],
   "source": [
    "plt.figure(figsize=(8,5))\n",
    "x = np.linspace(0,22,1000)\n",
    "\n",
    "plt.hist(urban_rate, alpha= 0.5, label ='urban', density=True)\n",
    "plt.hist(rural_rate, alpha= 0.5, label ='rural', density=True)\n",
    "\n",
    "plt.legend()\n",
    "plt.xlabel('Firearms Mortality Rate');"
   ]
  },
  {
   "cell_type": "code",
   "execution_count": 94,
   "id": "33cd806a-7a57-46b4-b513-183f984d6793",
   "metadata": {},
   "outputs": [
    {
     "data": {
      "text/plain": [
       "0.9224348128855714"
      ]
     },
     "execution_count": 94,
     "metadata": {},
     "output_type": "execute_result"
    }
   ],
   "source": [
    "urban_sem = stats.sem(urban_rate)\n",
    "urban_sem"
   ]
  },
  {
   "cell_type": "code",
   "execution_count": 95,
   "id": "f8752102-9959-46a0-bfeb-ffc9fcd65801",
   "metadata": {},
   "outputs": [],
   "source": [
    "rural_sem = stats.sem(rural_rate)"
   ]
  },
  {
   "cell_type": "code",
   "execution_count": 96,
   "id": "17e330e3-f146-4c7c-82bb-4b7591a1bba1",
   "metadata": {},
   "outputs": [
    {
     "data": {
      "text/plain": [
       "1.2226992400716261"
      ]
     },
     "execution_count": 96,
     "metadata": {},
     "output_type": "execute_result"
    }
   ],
   "source": [
    "diff_var = urban_sem**2 + rural_sem**2\n",
    "diff_var"
   ]
  },
  {
   "cell_type": "code",
   "execution_count": 103,
   "id": "2d69fc03-c893-4f83-97f5-4595ddcc4708",
   "metadata": {},
   "outputs": [
    {
     "data": {
      "text/plain": [
       "31"
      ]
     },
     "execution_count": 103,
     "metadata": {},
     "output_type": "execute_result"
    }
   ],
   "source": [
    "# define the dof for T_score\n",
    "ub = ((urban_sem**2 + rural_sem**2)**2)/((urban_sem**4)/(len(urban_rate)-1)+(rural_sem**4)/(len(rural_rate)-1))\n",
    "ub\n",
    "dof =math.floor(ub)\n",
    "dof"
   ]
  },
  {
   "cell_type": "code",
   "execution_count": 105,
   "id": "6fd0384a-e00d-4f05-a7fc-ab5ab1378077",
   "metadata": {},
   "outputs": [],
   "source": [
    "T0_ur = stats.t(df =31, scale = np.sqrt(urban_sem**2 + rural_sem**2))"
   ]
  },
  {
   "cell_type": "code",
   "execution_count": 104,
   "id": "d2352b19-2624-45f7-b902-a1e57936c57d",
   "metadata": {},
   "outputs": [
    {
     "data": {
      "text/plain": [
       "4.315972222222223"
      ]
     },
     "execution_count": 104,
     "metadata": {},
     "output_type": "execute_result"
    }
   ],
   "source": [
    "diff = rural_rate.mean()- urban_rate.mean()\n",
    "diff"
   ]
  },
  {
   "cell_type": "code",
   "execution_count": 106,
   "id": "7151c2dc-8149-419f-a182-0628e1cc52d7",
   "metadata": {},
   "outputs": [
    {
     "data": {
      "text/plain": [
       "0.0002388786244804265"
      ]
     },
     "execution_count": 106,
     "metadata": {},
     "output_type": "execute_result"
    }
   ],
   "source": [
    "T0_ur.sf(diff)"
   ]
  },
  {
   "cell_type": "code",
   "execution_count": null,
   "id": "4b2d66ea-d5a7-4897-a600-a2ea97835e73",
   "metadata": {},
   "outputs": [],
   "source": [
    "# Question: H0: The urban states and rural states have the same distribution. "
   ]
  }
 ],
 "metadata": {
  "kernelspec": {
   "display_name": "Python 3 (ipykernel)",
   "language": "python",
   "name": "python3"
  },
  "language_info": {
   "codemirror_mode": {
    "name": "ipython",
    "version": 3
   },
   "file_extension": ".py",
   "mimetype": "text/x-python",
   "name": "python",
   "nbconvert_exporter": "python",
   "pygments_lexer": "ipython3",
   "version": "3.9.13"
  }
 },
 "nbformat": 4,
 "nbformat_minor": 5
}
