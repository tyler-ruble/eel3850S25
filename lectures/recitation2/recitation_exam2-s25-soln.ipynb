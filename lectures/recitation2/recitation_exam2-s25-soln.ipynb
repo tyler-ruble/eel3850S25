{
 "cells": [
  {
   "cell_type": "markdown",
   "metadata": {},
   "source": [
    "# Recitation problems\n",
    "\n",
    " Exam 2 Coverage: see announcement in elearning."
   ]
  },
  {
   "cell_type": "markdown",
   "metadata": {},
   "source": [
    "# Import all necessary libraries and magics\n",
    "\n"
   ]
  },
  {
   "cell_type": "code",
   "execution_count": 38,
   "metadata": {},
   "outputs": [],
   "source": [
    "import numpy as np\n",
    "import numpy.random as npr\n",
    "import random\n",
    "import itertools\n",
    "\n",
    "import pandas as pd\n",
    "\n",
    "import matplotlib.pyplot as plt\n",
    "%matplotlib inline\n",
    "# plt.style.use('ggplot')\n",
    "\n",
    "import scipy.stats as stats"
   ]
  },
  {
   "cell_type": "markdown",
   "metadata": {},
   "source": [
    "## How to prepare for exam\n",
    "\n",
    "**This is a suggestion only.**\n",
    "\n",
    "1. Review/read all lecture slides, recommended reading materials, and jupyter notebooks.\n",
    "\n",
    "2.  lecture recording:\n",
    "https://docs.google.com/spreadsheets/d/1fqHnb4pW51ZKJQKNhJQsgftsrFOLpSfcXvqdVnSzp_U/edit?gid=0#gid=0\n",
    "\n",
    "  \n",
    "3. Review/redo exercises from HWs.\n",
    "\n",
    "4. Solve practice problems provided in the recitation class."
   ]
  },
  {
   "cell_type": "markdown",
   "metadata": {},
   "source": [
    "## Additional problem sets from online resources\n",
    "\n",
    "1. Discrete random variables: https://www.probabilitycourse.com/chapter3/3_3_0_chapter3_problems.php\n",
    "\n",
    "2. Continous random variables: https://www.probabilitycourse.com/chapter4/4_4_0_chapter4_problems.php\n",
    "\n",
    "3. Central limit theorem:  https://mathcenter.oxford.emory.edu/site/math117/probSetCentralLimitTheorem/\n",
    "\n",
    "**If you encounter any question that you think worth discussing in class, please let me know on slack.**"
   ]
  },
  {
   "cell_type": "code",
   "execution_count": 2,
   "metadata": {},
   "outputs": [],
   "source": [
    "import numpy as np\n",
    "import numpy.random as npr\n",
    "import pandas as pd\n",
    "import pickle\n",
    "import scipy.stats as stats\n",
    "import matplotlib.pyplot as plt\n",
    "%matplotlib inline\n",
    "plt.style.use('bmh')\n"
   ]
  },
  {
   "cell_type": "markdown",
   "metadata": {},
   "source": [
    "- Random Variables\n",
    "\n",
    "You will be given the following tables with your exam:\n"
   ]
  },
  {
   "cell_type": "code",
   "execution_count": null,
   "metadata": {},
   "outputs": [],
   "source": [
    "\n",
    "from IPython.display import Image\n",
    "Image('Discrete RVs.png',width=600)"
   ]
  },
  {
   "cell_type": "code",
   "execution_count": null,
   "metadata": {},
   "outputs": [],
   "source": [
    "\n",
    "from IPython.display import Image\n",
    "Image('Continuous RVs.png',width=600)"
   ]
  },
  {
   "cell_type": "markdown",
   "metadata": {},
   "source": [
    "# MAP, MLE "
   ]
  },
  {
   "cell_type": "markdown",
   "metadata": {},
   "source": [
    "# Question:\n",
    "There are two coins: one is normal and another is biased with probability of heads to be 0.6. When selecting a coin from a set of coins, the probability that is normal is 0.95 and the probability that the coin is biased is 0.05.\n",
    "\n",
    "We select one coin at random and fliped it 100 times. There are 55 heads being observed.\n",
    "\n",
    "- Compute a MLE decision rule that determine if the coin is fair or biased\n",
    "\n",
    "- Compute a MAP decision rule that determine if the coin is fair or biased."
   ]
  },
  {
   "cell_type": "code",
   "execution_count": 5,
   "metadata": {},
   "outputs": [],
   "source": [
    "coin0 = stats.bernoulli(0.5)\n",
    "coin1 = stats.bernoulli(0.6)"
   ]
  },
  {
   "cell_type": "code",
   "execution_count": 6,
   "metadata": {},
   "outputs": [],
   "source": [
    "n= 100\n",
    "\n",
    "coin0s100 = stats.binom(100, 0.5)\n",
    "coin1s100 = stats.binom(100, 0.6)\n"
   ]
  },
  {
   "cell_type": "code",
   "execution_count": 7,
   "metadata": {},
   "outputs": [],
   "source": [
    "def MLE_COIN(k):\n",
    "    \n",
    "    coin0s100 = stats.binom(100, 0.5)\n",
    "    coin1s100 = stats.binom(100, 0.6)\n",
    "\n",
    "    pcoin0 = coin0s100.pmf(k)\n",
    "    pcoin1 = coin1s100.pmf(k)\n",
    "    if pcoin0> pcoin1:\n",
    "        return 0 \n",
    "    else:\n",
    "        return 1"
   ]
  },
  {
   "cell_type": "code",
   "execution_count": 37,
   "metadata": {},
   "outputs": [],
   "source": [
    "prior = [0.95,0.05]\n",
    "def MAP_COIN(k,prior):\n",
    "    \n",
    "    coin0s100 = stats.binom(100, 0.5)\n",
    "    coin1s100 = stats.binom(100, 0.6)\n",
    "\n",
    "    pcoin0scaled = coin0s100.pmf(k)*prior[0] # the P(coin0|#heads) is proportional to P(#heads|coin0)*PriorProbability(coin0)\n",
    "    pcoin1scaled = coin1s100.pmf(k)*prior[1] # the P(coin1|#heads) is proportional to P(#heads|coin1)*PriorProbability(coin1)\n",
    "    if pcoin0scaled> pcoin1scaled:\n",
    "        return 0 \n",
    "    else:\n",
    "        return 1"
   ]
  },
  {
   "cell_type": "code",
   "execution_count": 17,
   "metadata": {},
   "outputs": [
    {
     "name": "stdout",
     "output_type": "stream",
     "text": [
      "The MLE RULE given 55 heads determines  1\n"
     ]
    }
   ],
   "source": [
    "print(\"The MLE RULE given 55 heads determines \", MLE_COIN(55) )"
   ]
  },
  {
   "cell_type": "code",
   "execution_count": 18,
   "metadata": {},
   "outputs": [
    {
     "name": "stdout",
     "output_type": "stream",
     "text": [
      "The MAP RULE given 55 heads determines  0\n"
     ]
    }
   ],
   "source": [
    "print(\"The MAP RULE given 55 heads determines \", MAP_COIN(55, prior) )"
   ]
  },
  {
   "cell_type": "markdown",
   "metadata": {},
   "source": [
    "# Question DECISIONRULE-2\n",
    "\n",
    "A box contains a fair coin and three biased coin (each with probability of heads =0.2). A coin is randomly selected from the box and tossed 10 times. \n",
    "\n",
    "- If 4 heads are observed, what is the posterior of $H_0$: The selected coin is fair, and $H_1$: The selected coin is biased.\n",
    "\n",
    "- If the decision rule is to always choose $H_0$ when more than $4$ (inclusive) heads are observed, what is the probability of the error?\n",
    "\n",
    "- If the decision rule is to always choose $H_0$ when more than $k^\\ast$ (inclusive) heads are observed, how to select the $k^\\ast$ that minimizes the probability of error?  \n",
    "\n",
    "\n",
    "- implement in python to compute the probability of the error for the following decision rules: selects $H_0$ when more than $k$ inclusive heads are observed, for $k=0,1,\\ldots, 10$."
   ]
  },
  {
   "cell_type": "code",
   "execution_count": 57,
   "metadata": {},
   "outputs": [],
   "source": [
    "# this problem is simular to the previous one\n",
    "n= 10\n",
    "\n",
    "coin0s10 = stats.binom(10, 0.5) # fair coin\n",
    "coin1s10 = stats.binom(10, 0.2) # biased coin\n",
    "\n",
    "prior0 = [0.25, 0.75] # the prior probability distribution, there are total 4 coins, a fair and three biased.\n",
    "\n"
   ]
  },
  {
   "cell_type": "code",
   "execution_count": 59,
   "metadata": {},
   "outputs": [
    {
     "name": "stdout",
     "output_type": "stream",
     "text": [
      "the probability of H0 after 4 heads is 0.4369693192892225\n",
      "the probability of H1 after 4 heads is 0.5630306807107774\n"
     ]
    }
   ],
   "source": [
    "# 1. \n",
    "def posterior(k, prior):\n",
    "    # the posterior probability p_fair, p_biased given the observation and prior,\n",
    "    # k- the number of observed heads\n",
    "    \n",
    "\n",
    "    coin0s10 = stats.binom(10, 0.5) # fair coin\n",
    "    coin1s10 = stats.binom(10, 0.2) # biased coin\n",
    "    pcoin0scaled = coin0s10.pmf(k)*prior[0] # the P(coin0|#heads) is proportional to P(#heads|coin0)*PriorProbability(coin0)\n",
    "    pcoin1scaled = coin1s10.pmf(k)*prior[1] # the P(coin1|#heads) is proportional to P(#heads|coin1)*PriorProbability(coin1)\n",
    "    pheads = pcoin0scaled + pcoin1scaled \n",
    "    posterior = [pcoin0scaled/pheads, 1- pcoin0scaled/pheads]\n",
    "    return posterior\n",
    "\n",
    "[P0_4heads, P1_4heads] = posterior(4, prior0)\n",
    "print(\"the probability of H0 after 4 heads is\", P0_4heads )\n",
    "print(\"the probability of H1 after 4 heads is\", P1_4heads )"
   ]
  },
  {
   "cell_type": "code",
   "execution_count": 69,
   "metadata": {},
   "outputs": [
    {
     "name": "stdout",
     "output_type": "stream",
     "text": [
      "the probability of error to always choose $H_0$ when more than $4$ heads:  0.1368\n"
     ]
    }
   ],
   "source": [
    "def alwaysH0(num_heads, k):\n",
    "    if num_heads >= k:\n",
    "        return 0\n",
    "    else:\n",
    "        return 1\n",
    "    \n",
    "def probErr(decision_rule, k, prior):\n",
    "    # use simulation, the error event occur when the underlying true model is different from the decision:\n",
    "    count = 0 # counting error events\n",
    "    num_sims = 10_000\n",
    "    coin0s10 = stats.binom(10, 0.5) # fair coin\n",
    "    coin1s10 = stats.binom(10, 0.2) # biased coin\n",
    "    for sim in range(num_sims):\n",
    "        selectcoin = np.random.choice([0,1], p= prior) #0:H0 and 1:H1\n",
    "        if selectcoin == 0:\n",
    "            num_heads = coin0s10.rvs()\n",
    "        else:\n",
    "            num_heads = coin1s10.rvs()\n",
    "        decision = decision_rule(num_heads, k)\n",
    "        if decision != selectcoin:\n",
    "            count += 1 # the decision is different from the true coin being selected. error event count +1\n",
    "    return count/num_sims\n",
    "\n",
    "p_err4 = probErr(alwaysH0, 4, prior0)\n",
    "print(\"the probability of error to always choose $H_0$ when more than $4$ heads: \", p_err4 )"
   ]
  },
  {
   "cell_type": "code",
   "execution_count": 71,
   "metadata": {},
   "outputs": [
    {
     "data": {
      "text/plain": [
       "[0.7497,\n",
       " 0.6735,\n",
       " 0.4675,\n",
       " 0.2575,\n",
       " 0.1345,\n",
       " 0.1234,\n",
       " 0.1612,\n",
       " 0.215,\n",
       " 0.2378,\n",
       " 0.2512,\n",
       " 0.2576]"
      ]
     },
     "execution_count": 71,
     "metadata": {},
     "output_type": "execute_result"
    }
   ],
   "source": [
    "# Calculate the probability of error for each k\n",
    "p_err = [probErr(alwaysH0, k, prior0) for k in range(11)]\n",
    "p_err"
   ]
  },
  {
   "cell_type": "code",
   "execution_count": 80,
   "metadata": {},
   "outputs": [
    {
     "name": "stdout",
     "output_type": "stream",
     "text": [
      "the $k^\u0007st$ is:  5\n",
      "the minimal probability of error given $k^*$:  0.1234\n"
     ]
    }
   ],
   "source": [
    "optimal_k = np.argmin(p_err) # find the index of the array that has the minimal value.\n",
    "p_err_min = p_err[optimal_k] # return the minimal error probability of that given k^\\ast.\n",
    "print('the $k^\\ast$ is: ',optimal_k)\n",
    "print(\"the minimal probability of error given $k^*$: \", p_err_min)"
   ]
  },
  {
   "cell_type": "code",
   "execution_count": 85,
   "metadata": {},
   "outputs": [
    {
     "name": "stdout",
     "output_type": "stream",
     "text": [
      "the analytical error probability for k=0,...10: [0.75       0.6697135  0.47082832 0.25532223 0.13362416 0.1188334\n",
      " 0.16053876 0.20767952 0.23638657 0.2473176  0.24975594]\n"
     ]
    }
   ],
   "source": [
    "# from analytical analysis\n",
    "p_err_a = np.zeros(11)\n",
    "for k in range(11):\n",
    "    p_decideH0_H1 =  1- coin1s10.cdf(k-1)  \n",
    "    p_decideH1_H0 =  coin0s10.cdf(k-1) \n",
    "    p_err_a[k] = p_decideH0_H1*prior0[1]+ p_decideH1_H0*prior0[0]\n",
    "     \n",
    "print(\"the analytical error probability for k=0,...10:\", p_err_a) #"
   ]
  },
  {
   "cell_type": "markdown",
   "metadata": {},
   "source": [
    "# Discrete Random Variables"
   ]
  },
  {
   "cell_type": "markdown",
   "metadata": {},
   "source": [
    "## Question  (Discrete RV)\n",
    "\n",
    "Let $X$ be a random variable defined by the probability mass function \n",
    "\n",
    "$$\n",
    "X = \\begin{cases}\n",
    "-2 & \\text{ with probability 1/3}\\\\\n",
    "1 & \\text{ with probability 1/2}\\\\\n",
    "-1 & \\text{ with probability 1/6}.\n",
    "\\end{cases} \n",
    "$$\n",
    "find \n",
    "\n",
    "(a) $E (X)$;\n",
    "\n",
    "(b) $E(X^2)$;\n",
    "\n",
    "(c) $Var(X)$;\n",
    "\n",
    "(d) $E(2X+5)$;\n",
    "\n",
    "(e) $E(3X^2+6)$;"
   ]
  },
  {
   "cell_type": "code",
   "execution_count": null,
   "metadata": {},
   "outputs": [],
   "source": []
  },
  {
   "cell_type": "markdown",
   "metadata": {},
   "source": [
    " ## Question  (Discrete RV)\n",
    "\n",
    "Let $X$\n",
    " be the number of the cars being repaired at a repair shop. We have the following information:\n",
    "\n",
    "At any time, there are at most $3$\n",
    " cars being repaired.\n",
    "The probability of having 2\n",
    " cars at the shop is the same as the probability of having one car.\n",
    "The probability of having no car at the shop is the same as the probability of having 3\n",
    " cars.\n",
    "The probability of having 1\n",
    " or 2\n",
    " cars is half of the probability of having 0\n",
    " or 3\n",
    " cars.\n",
    "Find the PMF of $X$."
   ]
  },
  {
   "cell_type": "code",
   "execution_count": null,
   "metadata": {},
   "outputs": [],
   "source": []
  },
  {
   "cell_type": "markdown",
   "metadata": {},
   "source": [
    "## Question  (Discrete RV)\n",
    "\n",
    "\n",
    "Roll of two 6-faced dice, let $X$ and $Y$ be the number observed. Let $Z = X - Y$. Compute the PMF of $Z$. Implement a python function to calculate $P_Z(Z=k)$ for the values of $k$s that the probability is not zero."
   ]
  },
  {
   "cell_type": "code",
   "execution_count": null,
   "metadata": {},
   "outputs": [],
   "source": []
  },
  {
   "cell_type": "markdown",
   "metadata": {},
   "source": [
    "## Question 4 (Continuous RV)\n",
    "Let $X$  be a uniform(0,1) random variable, and let $Y = \\exp(-X)$.\n",
    "\n",
    "Use simulation to compute the expectation of $Y$.\n"
   ]
  },
  {
   "cell_type": "code",
   "execution_count": 81,
   "metadata": {},
   "outputs": [
    {
     "name": "stdout",
     "output_type": "stream",
     "text": [
      "The sample approximation for the expected value of Y 1.7204687764137867\n"
     ]
    }
   ],
   "source": [
    "X= stats.uniform(loc=0, scale =1)\n",
    "num_sims =100_00\n",
    "\n",
    "def getY(x):\n",
    "    return np.exp(x)\n",
    "\n",
    "Xval = X.rvs(num_sims)\n",
    "Yval = getY(Xval)\n",
    "expect_Yval = np.sum(Yval)/num_sims\n",
    "  \n",
    "print(\"The sample approximation for the expected value of Y\",expect_Yval ) "
   ]
  },
  {
   "cell_type": "markdown",
   "metadata": {},
   "source": [
    "## Question 5\n",
    "\n",
    "(use analytical calcuation and then verify your answer in python)\n",
    "\n",
    " \n",
    "Let a Gaussian RV $X\\sim N(\\mu=2, \\sigma^2=16)$ \n",
    "\n",
    "1. Find the probability that $X$ is greater than 5.\n",
    "\n",
    "2. Find the probability that $X$ is less than 1.25\n",
    "\n",
    "3. Find the constant $c$ such that $P(X<c)=0.6$.\n",
    "\n",
    "\n",
    "https://www.mathsisfun.com/data/standard-normal-distribution-table.html"
   ]
  },
  {
   "cell_type": "code",
   "execution_count": 27,
   "metadata": {},
   "outputs": [
    {
     "data": {
      "text/plain": [
       "0.2266273523768682"
      ]
     },
     "execution_count": 27,
     "metadata": {},
     "output_type": "execute_result"
    }
   ],
   "source": [
    "G = stats.norm(loc=2, scale = 4)\n",
    "#1 \n",
    "p1 = G.sf(5)\n",
    "p1"
   ]
  },
  {
   "cell_type": "code",
   "execution_count": 28,
   "metadata": {},
   "outputs": [
    {
     "data": {
      "text/plain": [
       "0.4256343118441028"
      ]
     },
     "execution_count": 28,
     "metadata": {},
     "output_type": "execute_result"
    }
   ],
   "source": [
    "p2 = G.cdf(1.25)\n",
    "p2"
   ]
  },
  {
   "cell_type": "code",
   "execution_count": 26,
   "metadata": {},
   "outputs": [
    {
     "data": {
      "text/plain": [
       "3.0133884125431987"
      ]
     },
     "execution_count": 26,
     "metadata": {},
     "output_type": "execute_result"
    }
   ],
   "source": [
    "c = G.isf(1-.6) # the probability that P(X>c) = 1-0.6=0.4\n",
    "c "
   ]
  },
  {
   "cell_type": "markdown",
   "metadata": {},
   "source": [
    "## Question 6\n",
    "\n",
    "The random variable $X$ has a unknown distribution.\n",
    "\n",
    "The following data is collected by sampling from X. Provide an estimator for the mean and an unbiased estimator for the variance of $X$ using the sample."
   ]
  },
  {
   "cell_type": "code",
   "execution_count": 30,
   "metadata": {},
   "outputs": [],
   "source": [
    "samples = np.array([66, 67, 62, 75, 76, 78, 68, 73, 67, 60, 67, 72, 68, 73, 68, 67, 65,\n",
    "       73, 67, 62, 70, 71, 72, 71, 67, 78, 72, 72, 65, 66, 72, 78, 69, 68,\n",
    "       68, 66, 71, 71, 74, 66, 68, 76, 63, 75, 71, 77, 62, 74, 71, 63])"
   ]
  },
  {
   "cell_type": "code",
   "execution_count": 31,
   "metadata": {},
   "outputs": [
    {
     "data": {
      "text/plain": [
       "69.62"
      ]
     },
     "execution_count": 31,
     "metadata": {},
     "output_type": "execute_result"
    }
   ],
   "source": [
    "mu = samples.mean()\n",
    "mu"
   ]
  },
  {
   "cell_type": "code",
   "execution_count": 36,
   "metadata": {},
   "outputs": [
    {
     "data": {
      "text/plain": [
       "20.8934693877551"
      ]
     },
     "execution_count": 36,
     "metadata": {},
     "output_type": "execute_result"
    }
   ],
   "source": [
    "var = samples.var(ddof=1)\n",
    "var"
   ]
  },
  {
   "cell_type": "markdown",
   "metadata": {},
   "source": [
    "___"
   ]
  },
  {
   "cell_type": "markdown",
   "metadata": {},
   "source": [
    "## Question 7\n",
    "\n",
    "Let $X$ be uniformly distriubuted in $-5\\le x\\le 5$.\n",
    "\n",
    "Find the probability of\n",
    "\n",
    "(a) $P(X<1)$;\n",
    "\n",
    "(b) $P(|X-1|\\ge 2)$;"
   ]
  },
  {
   "cell_type": "markdown",
   "metadata": {},
   "source": [
    "___"
   ]
  },
  {
   "cell_type": "code",
   "execution_count": null,
   "metadata": {},
   "outputs": [],
   "source": []
  },
  {
   "cell_type": "markdown",
   "metadata": {},
   "source": [
    "# Central limit theorem"
   ]
  },
  {
   "cell_type": "markdown",
   "metadata": {},
   "source": [
    "## Question (CLT) - 1\n",
    "\n",
    "The number of accidents in a certain city is modeled by a Poisson random variable with an average rate of 10\n",
    " accidents per day. Suppose that the number of accidents on different days are independent. Use the central limit theorem to find the probability that there will be more than 3800\n",
    " accidents in a certain year. Assume that there are 365\n",
    " days in a year.\n",
    "\n"
   ]
  },
  {
   "cell_type": "markdown",
   "metadata": {},
   "source": [
    "## Question (CLT) -2 \n",
    "\n",
    "In a communication system, each codeword consists of 1000\n",
    " bits. Due to the noise, each bit may be received in error with probability 0.1\n",
    ". It is assumed bit errors occur independently. Since error correcting codes are used in this system, each codeword can be decoded reliably if there are less than or equal to 125\n",
    " errors in the received codeword, otherwise the decoding fails. Using the CLT, find the probability of decoding failure.\n",
    "\n",
    "Compute the analytical result and then use python to implement a simulation to calcuate the probability of decoding failure. \n"
   ]
  },
  {
   "cell_type": "markdown",
   "metadata": {},
   "source": [
    "## Question (CLT) -3\n",
    "\n",
    "You have a fair coin. You toss the coin n\n",
    " times. Let $X$\n",
    " be the portion of times that you observe heads. How large n\n",
    " has to be so that you are $95\\%$\n",
    " sure that $0.45≤X≤0.55$\n",
    "? In other words, how large $n$\n",
    " has to be so that $P(0.45≤X≤0.55)> 95\\%$?\n",
    " \n",
    " \n"
   ]
  },
  {
   "cell_type": "code",
   "execution_count": null,
   "metadata": {},
   "outputs": [],
   "source": []
  },
  {
   "cell_type": "markdown",
   "metadata": {},
   "source": [
    "## Question (clt)-4\n",
    "\n",
    "\n",
    "\n",
    "A manufacturer of a patent medicine claims that it was 90\\% effective in relieving an allergy  for 24 hours. In a sample of 100 people who had the allergy, the medicine provides relief for 80 people.\n",
    "\n",
    "Determine if the company's claim is legitimate given 0.01 as the level of significance.\n",
    "\n"
   ]
  },
  {
   "cell_type": "code",
   "execution_count": 86,
   "metadata": {},
   "outputs": [
    {
     "data": {
      "text/plain": [
       "0.0004342299203816554"
      ]
     },
     "execution_count": 86,
     "metadata": {},
     "output_type": "execute_result"
    }
   ],
   "source": [
    "G0 = stats.norm()\n",
    "G0.cdf(-3.33)"
   ]
  },
  {
   "cell_type": "markdown",
   "metadata": {
    "tags": []
   },
   "source": [
    "# Property of variance and mean"
   ]
  },
  {
   "cell_type": "markdown",
   "metadata": {},
   "source": [
    "## Question   12\n",
    "\n",
    "Let $X_1,\\ldots X_n$ be denote the independent, identically distributed, random variables for a random sample of size $n$. The distribution of $X_i$ has a mean $\\mu_1$ and std $\\sigma_1$.\n",
    "\n",
    "Let $Y_1,\\ldots Y_m$ be denote the independent, identically distributed, random variables for a random sample of size $m$. The distribution of $Y_i$ has a mean $\\mu_2$ and std $\\sigma_2$.\n",
    "\n",
    "\n",
    " \n",
    "Derive the mean and variance of \n",
    "\n",
    "* $X_1+X_2+\\ldots +X_n -( Y_1 + Y_2 + \\ldots + Y_m)$.\n",
    "\n",
    "* $\\bar X - \\bar Y$ where $\\bar X = \\frac{X_1+X_2+\\ldots +X_n}{n}$ and $\\bar Y = \\frac{Y_1+Y_2+\\ldots +Y_m}{m}$. RV)\n"
   ]
  },
  {
   "cell_type": "markdown",
   "metadata": {},
   "source": []
  },
  {
   "cell_type": "markdown",
   "metadata": {},
   "source": [
    "# Part 2, programming exercise\n"
   ]
  },
  {
   "cell_type": "markdown",
   "metadata": {},
   "source": [
    "# 1  \n",
    "\n",
    "A machine produces a mechanical component. It is informed on the machine that the probability of a component being defective is $0.01$. Consider a batch of $1000$ components produced by the machine.  Let $\\rho$ be the number of defective components in the 1000 components batch. A worker took out two components from the 1000 components and tested these. \n",
    "\n",
    " (10 points) Plot the probability mass function of $\\rho$ given the observation that both components are defective.\n",
    "\n",
    "Hint: the key is to compute the conditional probability: Given $\\rho$ out of $n$ components are defective, what is the probability that two components taken from the batch are both defective? Use sequential model to solve this question. "
   ]
  },
  {
   "cell_type": "code",
   "execution_count": 88,
   "metadata": {},
   "outputs": [],
   "source": [
    "X = stats.bernoulli(0.01) "
   ]
  },
  {
   "cell_type": "code",
   "execution_count": 89,
   "metadata": {},
   "outputs": [],
   "source": []
  },
  {
   "cell_type": "code",
   "execution_count": 102,
   "metadata": {},
   "outputs": [
    {
     "data": {
      "text/plain": [
       "[<matplotlib.lines.Line2D at 0x7fdce808e310>]"
      ]
     },
     "execution_count": 102,
     "metadata": {},
     "output_type": "execute_result"
    },
    {
     "data": {
      "image/png": "[encoded data removed]",
      "text/plain": [
       "<Figure size 640x480 with 1 Axes>"
      ]
     },
     "metadata": {},
     "output_type": "display_data"
    }
   ],
   "source": [
    "def take2(rho,n):\n",
    "    return rho/n*((rho-1)/n)\n",
    "\n",
    "def posterior_rho(n):\n",
    "    defective = stats.binom(n, 0.01)\n",
    "    p_rho_take_2_scaled= np.zeros(n)\n",
    "    for rho in range(n):\n",
    "        p_rho = defective.pmf(rho) # the probability of rho defective in n items\n",
    "        p_take2_rho = take2(rho,n)\n",
    "        p_rho_take_2_scaled[rho] = p_take2_rho*p_rho\n",
    "    p_rho_take2 = p_rho_take_2_scaled/np.sum(p_rho_take_2_scaled)\n",
    "    return p_rho_take2\n",
    "n=1000\n",
    "p_rho_take2 = posterior_rho(n)\n",
    "xline = np.linspace(0,n,n)\n",
    "plt.plot(xline, p_rho_take2)\n"
   ]
  },
  {
   "cell_type": "markdown",
   "metadata": {},
   "source": [
    "intuitively, if the sample rho is small, then the probability of observing two defectives will be higher from the rho items. If the sample rho is large, then due to defective rate 0.01, the probability of sampling two defective from rho items becomes very small."
   ]
  },
  {
   "cell_type": "markdown",
   "metadata": {},
   "source": [
    "#  2\n",
    "\n",
    "\n",
    "A box contains two fair coin and four biased coin (each with probability of heads =0.7). A coin is randomly selected from the box and tossed 10 times. \n",
    "\n",
    "\n",
    "1. Let $k$ be the observed heads in the 10 tosse. write a MLE decision rule that take the input $k$ and output 0: deciding that  a fair coin is selected; and 1: deciding that a biased coin is selected.\n",
    "\n",
    "2. Let $k$ be the observed heads in the 10 tosse. write a MAP decision rule that take the input $k$ and output 0: deciding that  a fair coin is selected; and 1: deciding that a biased coin is selected.\n",
    "\n",
    "3. use simulation to compute the probability of error in the above MLE and MAP decision rules. \n"
   ]
  },
  {
   "cell_type": "code",
   "execution_count": 103,
   "metadata": {},
   "outputs": [],
   "source": [
    "#this is the similar problems to question map-mle section, omitted for now"
   ]
  }
 ],
 "metadata": {
  "kernelspec": {
   "display_name": "Python 3 (ipykernel)",
   "language": "python",
   "name": "python3"
  },
  "language_info": {
   "codemirror_mode": {
    "name": "ipython",
    "version": 3
   },
   "file_extension": ".py",
   "mimetype": "text/x-python",
   "name": "python",
   "nbconvert_exporter": "python",
   "pygments_lexer": "ipython3",
   "version": "3.9.13"
  },
  "latex_envs": {
   "LaTeX_envs_menu_present": true,
   "autoclose": false,
   "autocomplete": true,
   "bibliofile": "biblio.bib",
   "cite_by": "apalike",
   "current_citInitial": 1,
   "eqLabelWithNumbers": true,
   "eqNumInitial": 1,
   "hotkeys": {
    "equation": "Ctrl-E",
    "itemize": "Ctrl-I"
   },
   "labels_anchors": false,
   "latex_user_defs": false,
   "report_style_numbering": false,
   "user_envs_cfg": false
  },
  "varInspector": {
   "cols": {
    "lenName": 16,
    "lenType": 16,
    "lenVar": 40
   },
   "kernels_config": {
    "python": {
     "delete_cmd_postfix": "",
     "delete_cmd_prefix": "del ",
     "library": "var_list.py",
     "varRefreshCmd": "print(var_dic_list())"
    },
    "r": {
     "delete_cmd_postfix": ") ",
     "delete_cmd_prefix": "rm(",
     "library": "var_list.r",
     "varRefreshCmd": "cat(var_dic_list()) "
    }
   },
   "types_to_exclude": [
    "module",
    "function",
    "builtin_function_or_method",
    "instance",
    "_Feature"
   ],
   "window_display": false
  }
 },
 "nbformat": 4,
 "nbformat_minor": 4
}
