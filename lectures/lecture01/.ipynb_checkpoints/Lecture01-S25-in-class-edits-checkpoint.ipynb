{
 "cells": [
  {
   "cell_type": "markdown",
   "metadata": {
    "jp-MarkdownHeadingCollapsed": true,
    "slideshow": {
     "slide_type": "-"
    },
    "tags": []
   },
   "source": [
    "# Lecture 1 (pt. 2)\n",
    "\n",
    "## Basic python operations\n",
    "## Set operations\n",
    "## First Random Experiment and Simulations\n",
    "## Fair experiment and relative frequency"
   ]
  },
  {
   "cell_type": "markdown",
   "metadata": {},
   "source": [
    "Working with lists:"
   ]
  },
  {
   "cell_type": "code",
   "execution_count": 1,
   "metadata": {
    "slideshow": {
     "slide_type": "fragment"
    }
   },
   "outputs": [
    {
     "data": {
      "text/plain": [
       "True"
      ]
     },
     "execution_count": 1,
     "metadata": {},
     "output_type": "execute_result"
    }
   ],
   "source": [
    "a=[2,3]\n",
    "b=a\n",
    "a is b\n"
   ]
  },
  {
   "cell_type": "code",
   "execution_count": null,
   "metadata": {
    "slideshow": {
     "slide_type": "subslide"
    }
   },
   "outputs": [
    {
     "data": {
      "text/plain": [
       "[2, 3, 4]"
      ]
     },
     "execution_count": 2,
     "metadata": {},
     "output_type": "execute_result"
    }
   ],
   "source": [
    "b.append(4)\n",
    "b"
   ]
  },
  {
   "cell_type": "code",
   "execution_count": 3,
   "metadata": {
    "slideshow": {
     "slide_type": "fragment"
    }
   },
   "outputs": [
    {
     "data": {
      "text/plain": [
       "[2, 3, 4]"
      ]
     },
     "execution_count": 3,
     "metadata": {},
     "output_type": "execute_result"
    }
   ],
   "source": [
    "a"
   ]
  },
  {
   "cell_type": "markdown",
   "metadata": {
    "slideshow": {
     "slide_type": "subslide"
    }
   },
   "source": [
    "You can also append to lists with +:"
   ]
  },
  {
   "cell_type": "code",
   "execution_count": null,
   "metadata": {
    "slideshow": {
     "slide_type": "fragment"
    }
   },
   "outputs": [
    {
     "data": {
      "text/plain": [
       "False"
      ]
     },
     "execution_count": 4,
     "metadata": {},
     "output_type": "execute_result"
    }
   ],
   "source": [
    "b = a.copy()\n",
    "\n",
    "b is a\n",
    "print(\"test\")"
   ]
  },
  {
   "cell_type": "code",
   "execution_count": 5,
   "metadata": {},
   "outputs": [
    {
     "data": {
      "text/plain": [
       "[2, 3, 4, 5]"
      ]
     },
     "execution_count": 5,
     "metadata": {},
     "output_type": "execute_result"
    }
   ],
   "source": [
    "b.append(5)\n",
    "b"
   ]
  },
  {
   "cell_type": "code",
   "execution_count": 6,
   "metadata": {},
   "outputs": [
    {
     "data": {
      "text/plain": [
       "[2, 3, 4]"
      ]
     },
     "execution_count": 6,
     "metadata": {},
     "output_type": "execute_result"
    }
   ],
   "source": [
    "a"
   ]
  },
  {
   "cell_type": "markdown",
   "metadata": {
    "slideshow": {
     "slide_type": "subslide"
    }
   },
   "source": [
    "Lists and tuples may contain any other objects, including other lists and tuples:"
   ]
  },
  {
   "cell_type": "code",
   "execution_count": 7,
   "metadata": {
    "slideshow": {
     "slide_type": "fragment"
    }
   },
   "outputs": [],
   "source": [
    "c =(1,2,4)"
   ]
  },
  {
   "cell_type": "code",
   "execution_count": 8,
   "metadata": {
    "slideshow": {
     "slide_type": "fragment"
    }
   },
   "outputs": [
    {
     "data": {
      "text/plain": [
       "tuple"
      ]
     },
     "execution_count": 8,
     "metadata": {},
     "output_type": "execute_result"
    }
   ],
   "source": [
    "type(c)"
   ]
  },
  {
   "cell_type": "markdown",
   "metadata": {
    "slideshow": {
     "slide_type": "subslide"
    }
   },
   "source": [
    "Note that tuples and lists are ordered collections, and we can access their members directly:"
   ]
  },
  {
   "cell_type": "code",
   "execution_count": 9,
   "metadata": {
    "slideshow": {
     "slide_type": "fragment"
    }
   },
   "outputs": [
    {
     "data": {
      "text/plain": [
       "2"
      ]
     },
     "execution_count": 9,
     "metadata": {},
     "output_type": "execute_result"
    }
   ],
   "source": [
    "a[0]"
   ]
  },
  {
   "cell_type": "code",
   "execution_count": 10,
   "metadata": {
    "slideshow": {
     "slide_type": "fragment"
    }
   },
   "outputs": [
    {
     "data": {
      "text/plain": [
       "1"
      ]
     },
     "execution_count": 10,
     "metadata": {},
     "output_type": "execute_result"
    }
   ],
   "source": [
    "c[0]"
   ]
  },
  {
   "cell_type": "markdown",
   "metadata": {
    "slideshow": {
     "slide_type": "subslide"
    }
   },
   "source": [
    "* Negative indexes start from the end of the list, with -1 denoting the last member in the list:"
   ]
  },
  {
   "cell_type": "code",
   "execution_count": 11,
   "metadata": {
    "slideshow": {
     "slide_type": "fragment"
    }
   },
   "outputs": [
    {
     "data": {
      "text/plain": [
       "4"
      ]
     },
     "execution_count": 11,
     "metadata": {},
     "output_type": "execute_result"
    }
   ],
   "source": [
    "c[-1]"
   ]
  },
  {
   "cell_type": "code",
   "execution_count": null,
   "metadata": {
    "slideshow": {
     "slide_type": "fragment"
    }
   },
   "outputs": [],
   "source": []
  },
  {
   "cell_type": "code",
   "execution_count": null,
   "metadata": {},
   "outputs": [],
   "source": []
  },
  {
   "cell_type": "markdown",
   "metadata": {
    "slideshow": {
     "slide_type": "slide"
    }
   },
   "source": [
    "## Modules and Libraries"
   ]
  },
  {
   "cell_type": "markdown",
   "metadata": {
    "slideshow": {
     "slide_type": "subslide"
    }
   },
   "source": [
    "* Many of the tools we will use in the class are not directly part of Python\n",
    "* Instead, they are libraries or modules that provide particular functionality\n",
    "* These include:"
   ]
  },
  {
   "cell_type": "markdown",
   "metadata": {
    "slideshow": {
     "slide_type": "subslide"
    }
   },
   "source": [
    "* **numpy** provides arrays, linear algebra, and math functions (many similar to the core MATLAB functions)\n",
    "* **matplotlib** provides functions to generate plots similar to those in MATLAB\n",
    "* **random** contains functions for generating random numbers and choices\n",
    "* **scipy** provides many tools used in scientific computing including optimization, signal processing, and statistics\n",
    "* **pandas** provides tools for working with data"
   ]
  },
  {
   "cell_type": "markdown",
   "metadata": {
    "slideshow": {
     "slide_type": "subslide"
    }
   },
   "source": [
    "To work with these libraries, import them:"
   ]
  },
  {
   "cell_type": "code",
   "execution_count": 12,
   "metadata": {
    "scrolled": true
   },
   "outputs": [
    {
     "name": "stdout",
     "output_type": "stream",
     "text": [
      "Reset css and font defaults in:\n",
      "/Users/Jie/.jupyter/custom &\n",
      "/Users/Jie/Library/Jupyter/nbextensions\n"
     ]
    }
   ],
   "source": [
    "!jt -r  #(reset to default theme in jupyter)"
   ]
  },
  {
   "cell_type": "code",
   "execution_count": 13,
   "metadata": {},
   "outputs": [],
   "source": [
    "# use jupytertheme to change font size and theme (used in lecture only)\n",
    "!jt -t grade3 -fs 24  -tfs 24 -ofs 22 -cellw 100%\n",
    "#!jt  -fs 12\n"
   ]
  },
  {
   "cell_type": "markdown",
   "metadata": {
    "tags": []
   },
   "source": [
    "# Sets"
   ]
  },
  {
   "cell_type": "code",
   "execution_count": 14,
   "metadata": {},
   "outputs": [
    {
     "name": "stdout",
     "output_type": "stream",
     "text": [
      "{1, 2, 4}\n"
     ]
    }
   ],
   "source": [
    "Aset = {1,2,4}\n",
    "print(Aset)"
   ]
  },
  {
   "cell_type": "code",
   "execution_count": 15,
   "metadata": {},
   "outputs": [
    {
     "name": "stdout",
     "output_type": "stream",
     "text": [
      "{1, 2, 3, 4}\n"
     ]
    }
   ],
   "source": [
    "Aset= set([1,1,1,2,3,4])\n",
    "print(Aset)"
   ]
  },
  {
   "cell_type": "markdown",
   "metadata": {},
   "source": [
    "## Union"
   ]
  },
  {
   "cell_type": "code",
   "execution_count": 16,
   "metadata": {},
   "outputs": [
    {
     "name": "stdout",
     "output_type": "stream",
     "text": [
      "{1, 2, 3, 4, 5}\n"
     ]
    }
   ],
   "source": [
    "Bset= {3,4,5}\n",
    "AunionB = set.union(Aset,Bset)\n",
    "print(AunionB)"
   ]
  },
  {
   "cell_type": "markdown",
   "metadata": {},
   "source": [
    "## set difference"
   ]
  },
  {
   "cell_type": "code",
   "execution_count": 17,
   "metadata": {},
   "outputs": [
    {
     "name": "stdout",
     "output_type": "stream",
     "text": [
      "{1, 2}\n"
     ]
    }
   ],
   "source": [
    "Cset = Aset - Bset\n",
    "print(Cset)"
   ]
  },
  {
   "cell_type": "markdown",
   "metadata": {},
   "source": [
    "## set intersection"
   ]
  },
  {
   "cell_type": "code",
   "execution_count": 18,
   "metadata": {},
   "outputs": [
    {
     "name": "stdout",
     "output_type": "stream",
     "text": [
      "{3, 4}\n"
     ]
    }
   ],
   "source": [
    "Dset = Aset.intersection(Bset)\n",
    "print(Dset)"
   ]
  },
  {
   "cell_type": "markdown",
   "metadata": {},
   "source": [
    "see [More about Python Sets]{https://realpython.com/python-sets/}"
   ]
  },
  {
   "cell_type": "markdown",
   "metadata": {},
   "source": [
    "## import some library for the following experiments"
   ]
  },
  {
   "cell_type": "code",
   "execution_count": 19,
   "metadata": {},
   "outputs": [],
   "source": [
    "import numpy as np\n",
    "import matplotlib.pyplot as plt\n",
    "%matplotlib inline\n",
    "plt.style.use('bmh')"
   ]
  },
  {
   "cell_type": "markdown",
   "metadata": {
    "slideshow": {
     "slide_type": "slide"
    }
   },
   "source": [
    "# First Random Experiment and Simulations"
   ]
  },
  {
   "cell_type": "markdown",
   "metadata": {
    "slideshow": {
     "slide_type": "slide"
    }
   },
   "source": [
    "Consider the following questions:\n",
    "\n",
    "1. **If you flip a coin 20 times, how many times do you think it will come up heads?** \n",
    "\n",
    "2. **If you flip the coin 20 times and it comes up heads 6 times, do you think it is a *fair* or *unfair* coin? How *confident* can you be in your answer?**"
   ]
  },
  {
   "cell_type": "markdown",
   "metadata": {
    "slideshow": {
     "slide_type": "subslide"
    }
   },
   "source": [
    "* Can you conduct an experiment to answer these questions? \n",
    "* What can be a potential problem?"
   ]
  },
  {
   "cell_type": "markdown",
   "metadata": {
    "slideshow": {
     "slide_type": "slide"
    }
   },
   "source": [
    "If we take a **fair coin** and flip it 20 times and count the number of heads, and then **repeat the experiment many times**, we can **estimate** how often 6 or fewer heads occurs. If it occurs very rarely (say, less than 5% of the time, then we can say that the coin is unlikely to be fair).\n",
    "\n",
    "*Here we use 6 or fewer heads because if 5 heads occurs, that is an even  more extreme outcome than 6 heads occurring, and so we want to count up how often we see an outcome as extreme OR MORE as 6 heads occurring.*"
   ]
  },
  {
   "cell_type": "markdown",
   "metadata": {
    "slideshow": {
     "slide_type": "subslide"
    }
   },
   "source": [
    "* The **problem** is that we may need to repeat the experiment (of flipping the coin 20 times) many times to accurately estimate how often 6 or fewer heads come up. This may require thousands of coin flips!"
   ]
  },
  {
   "cell_type": "markdown",
   "metadata": {
    "slideshow": {
     "slide_type": "subslide"
    }
   },
   "source": [
    "We can overcome this problem by using a computer to flip the coin in a **simulation**. A **computer simulation** is a computer program that models reality and allows us to conduct experiments that:\n",
    "\n",
    "* would require a lot of time to carry out in real life\n",
    "* would require a lot of resources to carry out in real life\n",
    "* would not be possible to repeat in real life (for instance, simulation of the next day's weather or stock market performance)"
   ]
  },
  {
   "cell_type": "markdown",
   "metadata": {},
   "source": [
    "Let's build simulations of our coin flip experiment and learn about some Python libraries:"
   ]
  },
  {
   "cell_type": "code",
   "execution_count": 20,
   "metadata": {},
   "outputs": [],
   "source": [
    "# Simple library for working with random phenomena\n",
    "import numpy\n",
    "import random\n",
    "\n",
    "# to learn about random.choice, random.choices, and random.randint function\n",
    "\n",
    "\n"
   ]
  },
  {
   "cell_type": "code",
   "execution_count": 21,
   "metadata": {},
   "outputs": [],
   "source": [
    "# flip one coin\n",
    "\n",
    "faces = ['H','T'] # sample space of one coin flip"
   ]
  },
  {
   "cell_type": "code",
   "execution_count": 22,
   "metadata": {},
   "outputs": [
    {
     "data": {
      "text/plain": [
       "'H'"
      ]
     },
     "execution_count": 22,
     "metadata": {},
     "output_type": "execute_result"
    }
   ],
   "source": [
    "random.choice(faces)"
   ]
  },
  {
   "cell_type": "code",
   "execution_count": 23,
   "metadata": {},
   "outputs": [
    {
     "data": {
      "text/plain": [
       "['T',\n",
       " 'T',\n",
       " 'H',\n",
       " 'H',\n",
       " 'T',\n",
       " 'T',\n",
       " 'H',\n",
       " 'T',\n",
       " 'T',\n",
       " 'T',\n",
       " 'H',\n",
       " 'H',\n",
       " 'H',\n",
       " 'T',\n",
       " 'T',\n",
       " 'H',\n",
       " 'H',\n",
       " 'H',\n",
       " 'T',\n",
       " 'T']"
      ]
     },
     "execution_count": 23,
     "metadata": {},
     "output_type": "execute_result"
    },
    {
     "data": {
      "text/plain": [
       "\u001b[0;31mSignature:\u001b[0m \u001b[0mrandom\u001b[0m\u001b[0;34m.\u001b[0m\u001b[0mchoices\u001b[0m\u001b[0;34m(\u001b[0m\u001b[0mpopulation\u001b[0m\u001b[0;34m,\u001b[0m \u001b[0mweights\u001b[0m\u001b[0;34m=\u001b[0m\u001b[0;32mNone\u001b[0m\u001b[0;34m,\u001b[0m \u001b[0;34m*\u001b[0m\u001b[0;34m,\u001b[0m \u001b[0mcum_weights\u001b[0m\u001b[0;34m=\u001b[0m\u001b[0;32mNone\u001b[0m\u001b[0;34m,\u001b[0m \u001b[0mk\u001b[0m\u001b[0;34m=\u001b[0m\u001b[0;36m1\u001b[0m\u001b[0;34m)\u001b[0m\u001b[0;34m\u001b[0m\u001b[0;34m\u001b[0m\u001b[0m\n",
       "\u001b[0;31mDocstring:\u001b[0m\n",
       "Return a k sized list of population elements chosen with replacement.\n",
       "\n",
       "If the relative weights or cumulative weights are not specified,\n",
       "the selections are made with equal probability.\n",
       "\u001b[0;31mFile:\u001b[0m      ~/opt/anaconda3/lib/python3.9/random.py\n",
       "\u001b[0;31mType:\u001b[0m      method\n"
      ]
     },
     "metadata": {},
     "output_type": "display_data"
    }
   ],
   "source": [
    "?random.choices\n",
    "random.choices(faces, k=20)"
   ]
  },
  {
   "cell_type": "code",
   "execution_count": 24,
   "metadata": {},
   "outputs": [
    {
     "data": {
      "text/plain": [
       "4"
      ]
     },
     "execution_count": 24,
     "metadata": {},
     "output_type": "execute_result"
    }
   ],
   "source": [
    "# Generate a random integer between 1 and 10 (both inclusive)\n",
    "random_number = random.randint(1, 10)\n",
    "random_number # for die roll experiment"
   ]
  },
  {
   "cell_type": "markdown",
   "metadata": {},
   "source": [
    "Suppose we want to see how often 6 or fewer heads occurs. We can reduce the printing by only printing those extreme events:"
   ]
  },
  {
   "cell_type": "code",
   "execution_count": 25,
   "metadata": {},
   "outputs": [
    {
     "data": {
      "text/plain": [
       "10"
      ]
     },
     "execution_count": 25,
     "metadata": {},
     "output_type": "execute_result"
    }
   ],
   "source": [
    "coins = random.choices(faces, k=20)\n",
    "coins.count('H')"
   ]
  },
  {
   "cell_type": "code",
   "execution_count": 26,
   "metadata": {},
   "outputs": [
    {
     "data": {
      "text/plain": [
       "0"
      ]
     },
     "execution_count": 26,
     "metadata": {},
     "output_type": "execute_result"
    }
   ],
   "source": [
    "coins.count(0)"
   ]
  },
  {
   "cell_type": "code",
   "execution_count": 27,
   "metadata": {},
   "outputs": [
    {
     "name": "stdout",
     "output_type": "stream",
     "text": [
      "0 :  9  Head\n",
      "1 :  9  Head\n",
      "2 :  13  Head\n",
      "3 :  15  Head\n",
      "4 :  9  Head\n",
      "5 :  8  Head\n",
      "6 :  9  Head\n",
      "7 :  12  Head\n",
      "8 :  12  Head\n",
      "9 :  9  Head\n",
      "10 :  12  Head\n",
      "11 :  13  Head\n",
      "12 :  13  Head\n",
      "13 :  9  Head\n",
      "14 :  7  Head\n",
      "15 :  13  Head\n",
      "16 :  9  Head\n",
      "17 :  8  Head\n",
      "18 :  11  Head\n",
      "19 :  7  Head\n",
      "20 :  7  Head\n",
      "21 :  8  Head\n",
      "22 :  9  Head\n",
      "23 :  8  Head\n",
      "24 :  7  Head\n"
     ]
    }
   ],
   "source": [
    "# perform repeated experiments\n",
    "num_sims = 25\n",
    "flips = 20\n",
    "\n",
    "for sim in range(num_sims):\n",
    "    coins = random.choices(faces, k=flips)\n",
    "    num_heads = coins.count('H')\n",
    "    print(sim, ': ', num_heads, ' Head')"
   ]
  },
  {
   "cell_type": "markdown",
   "metadata": {},
   "source": [
    "* We really don't care about the particular experiment on which those events occur. Instead, we are really just looking at the **frequency** of those events."
   ]
  },
  {
   "cell_type": "markdown",
   "metadata": {},
   "source": [
    "<div class=\"alert alert-info\" role=\"alert\">\n",
    "  <strong>Relative Frequency</strong>\n",
    "    \n",
    "The <strong>relative frequency</strong> of an event is the number of times that an event occurs divided by the number of times the experiment is conducted. \n",
    "</div>"
   ]
  },
  {
   "cell_type": "markdown",
   "metadata": {},
   "source": [
    "Let's modify the experiment to calculate the relative frequency of getting 6 or fewer heads on 20 flips of a fair coin:"
   ]
  },
  {
   "cell_type": "code",
   "execution_count": 28,
   "metadata": {},
   "outputs": [
    {
     "name": "stdout",
     "output_type": "stream",
     "text": [
      "In  25 experiments <= 6 heads occurred:  0\n"
     ]
    }
   ],
   "source": [
    "# perform repeated experiments\n",
    "num_sims = 25\n",
    "flips = 20\n",
    "# add a counter: for counting the number of times event occurs: \n",
    "# Event: num of heads <= 6\n",
    "counts = 0\n",
    "\n",
    "for sim in range(num_sims):\n",
    "    coins = random.choices(faces, k=flips)\n",
    "    num_heads = coins.count('H')\n",
    "    if num_heads <=6:\n",
    "        counts += 1 # counts = counts+1\n",
    "\n",
    "print('In ', num_sims, 'experiments', '<= 6 heads occurred: ', counts)"
   ]
  },
  {
   "cell_type": "code",
   "execution_count": 29,
   "metadata": {},
   "outputs": [
    {
     "name": "stdout",
     "output_type": "stream",
     "text": [
      "Relative frequency of <=6 heads is 0.0548\n"
     ]
    }
   ],
   "source": [
    "# calculate relative frequency\n",
    "num_sims = 5000\n",
    "flips = 20\n",
    "# add a counter: for counting the number of times event occurs: \n",
    "# Event: num of heads <= 6\n",
    "counts = 0\n",
    "\n",
    "for sim in range(num_sims):\n",
    "    coins = random.choices(faces, k=flips)\n",
    "    num_heads = coins.count('H')\n",
    "    if num_heads <=6:\n",
    "        counts += 1 # counts = counts+1\n",
    "\n",
    "print('Relative frequency of <=6 heads is', counts/num_sims)"
   ]
  },
  {
   "cell_type": "markdown",
   "metadata": {
    "slideshow": {
     "slide_type": "slide"
    }
   },
   "source": [
    "# Fair Experiment"
   ]
  },
  {
   "cell_type": "markdown",
   "metadata": {},
   "source": [
    "**<font color=blue>Example 1:</font>**: The probability of getting any number on a fair 6-sided die is 1/6. Let's compare these to the *relative frequencies*.\n",
    "\n",
    "But first let's see how to count the number of occurrences of each outcome:"
   ]
  },
  {
   "cell_type": "code",
   "execution_count": 30,
   "metadata": {},
   "outputs": [
    {
     "name": "stdout",
     "output_type": "stream",
     "text": [
      "[5, 1, 2, 5, 4, 2, 5, 2, 2, 2, 6, 1, 5, 3, 1, 4, 4, 3, 5, 4, 5, 5, 5, 1, 5, 2, 3, 6, 5, 3, 1, 5, 6, 6, 3, 2, 6, 2, 3, 5, 2, 1, 1, 3, 4, 3, 3, 4, 6, 3, 4, 3, 1, 6, 6, 1, 2, 1, 2, 1, 3, 2, 3, 5, 1, 3, 2, 6, 4, 1, 4, 3, 5, 1, 2, 6, 3, 6, 6, 4, 6, 1, 4, 4, 4, 5, 4, 6, 4, 4, 6, 2, 3, 5, 4, 3, 5, 4, 3, 4, 4, 6, 6, 3, 4, 1, 4, 3, 6, 5, 5, 3, 2, 4, 2, 6, 5, 2, 2, 3, 1, 4, 6, 5, 6, 1, 5, 6, 6, 3, 5, 2, 2, 3, 4, 4, 4, 3, 3, 2, 6, 1, 4, 6, 3, 6, 2, 3, 4, 6, 2, 6, 1, 2, 3, 1, 2, 3, 3, 1, 4, 2, 3, 6, 1, 4, 4, 6, 3, 4, 3, 1, 2, 4, 2, 5, 3, 2, 6, 3, 1, 2, 3, 3, 2, 3, 6, 6, 2, 2, 3, 4, 4, 1, 5, 3, 6, 2, 1, 5, 3, 6, 2, 2, 1, 1, 1, 3, 3, 2, 6, 5, 2, 2, 4, 6, 3, 2, 4, 6, 2, 4, 1, 4, 3, 4, 5, 4, 3, 3, 1, 1, 2, 6, 3, 4, 3, 3, 2, 6, 1, 1, 1, 3, 3, 5, 6, 6, 6, 4, 1, 5, 2, 3, 1, 1, 6, 4, 2, 3, 5, 3, 6, 2, 1, 6, 1, 4, 4, 5, 2, 6, 6, 1, 3, 6, 3, 5, 5, 6, 1, 6, 2, 6, 3, 6, 6, 6, 5, 5, 4, 2, 3, 5, 3, 4, 1, 5, 2, 3, 5, 4, 5, 2, 4, 1, 3, 2, 6, 5, 6, 3, 3, 5, 3, 1, 2, 5, 6, 3, 6, 3, 3, 2, 4, 1, 1, 1, 2, 3, 3, 4, 1, 6, 2, 6, 4, 4, 4, 3, 1, 1, 3, 5, 2, 5, 4, 5, 2, 4, 4, 5, 4, 6, 4, 3, 5, 6, 1, 1, 5, 3, 4, 4, 1, 4, 2, 6, 1, 6, 2, 5, 2, 6, 2, 1, 3, 5, 2, 2, 1, 6, 6, 5, 5, 1, 5, 3, 5, 3, 5, 1, 3, 6, 4, 2, 6, 4, 6, 3, 1, 2, 6, 4, 2, 2, 1, 1, 2, 4, 1, 2, 6, 5, 3, 6, 3, 1, 3, 1, 2, 6, 5, 6, 2, 5, 1, 5, 4, 5, 3, 2, 3, 3, 6, 5, 1, 4, 2, 5, 4, 3, 2, 2, 2, 6, 3, 5, 4, 1, 5, 5, 2, 4, 2, 1, 5, 6, 3, 3, 6, 4, 2, 4, 4, 6, 4, 4, 6, 5, 1, 1, 4, 4, 1, 3, 1, 5, 5, 6, 1, 3, 2, 1, 4, 1, 4, 6, 6, 5, 1, 3, 5, 6, 2, 5, 3, 5, 3, 3, 3, 5, 3, 3, 6, 3, 6, 4, 5, 3, 4, 4, 4, 6, 5, 2, 3, 1, 1, 1, 3, 2, 3, 2, 3, 6, 3, 1, 1, 6, 6, 2, 6, 3, 3, 1, 3, 5, 3, 2, 5, 2, 4, 1, 6, 4, 1, 1, 2, 6, 5, 3, 3, 2, 2, 4, 6, 4, 2, 2, 2, 2, 2, 2, 5, 1, 3, 3, 5, 1, 3, 4, 1, 5, 5, 5, 1, 4, 2, 1, 4, 2, 5, 4, 1, 3, 1, 4, 1, 6, 1, 6, 5, 5, 6, 6, 4, 5, 2, 1, 6, 5, 1, 2, 4, 2, 2, 2, 6, 3, 1, 5, 4, 5, 5, 6, 4, 3, 5, 5, 3, 1, 1, 3, 5, 2, 4, 3, 2, 2, 5, 1, 1, 6, 5, 4, 3, 3, 3, 1, 2, 6, 5, 2, 1, 3, 6, 5, 4, 1, 5, 6, 4, 6, 2, 6, 4, 2, 6, 2, 2, 1, 3, 5, 5, 6, 1, 4, 3, 5, 4, 6, 3, 2, 1, 5, 3, 4, 6, 6, 1, 6, 2, 4, 6, 6, 5, 1, 6, 1, 2, 5, 5, 4, 5, 2, 6, 3, 2, 1, 3, 6, 2, 5, 6, 3, 5, 5, 5, 2, 6, 2, 1, 4, 3, 4, 1, 6, 3, 2, 6, 4, 4, 4, 4, 2, 1, 5, 2, 1, 2, 6, 5, 4, 6, 2, 3, 1, 6, 1, 4, 2, 3, 3, 5, 3, 2, 6, 1, 3, 4, 6, 5, 6, 5, 5, 1, 4, 4, 2, 3, 2, 3, 1, 1, 3, 5, 4, 2, 5, 1, 1, 1, 5, 6, 1, 1, 1, 1, 4, 3, 4, 1, 2, 3, 2, 5, 6, 4, 2, 2, 4, 2, 3, 3, 5, 6, 3, 6, 6, 6, 6, 1, 4, 4, 4, 5, 2, 3, 6, 6, 5, 6, 4, 1, 2, 2, 5, 1, 1, 1, 4, 3, 5, 6, 6, 4, 6, 3, 5, 3, 5, 6, 4, 5, 1, 5, 6, 4, 3, 3, 1, 1, 5, 2, 2, 4, 5, 2, 2, 3, 4, 2, 2, 6, 5, 6, 5, 1, 2, 4, 6, 1, 4, 5, 5, 2, 2, 4, 1, 4, 5, 1, 3, 5, 4, 2, 3, 3, 2, 4, 1, 1, 2, 5, 6, 2, 5, 6, 2, 5, 1, 2, 1, 4, 6, 2, 5, 6, 5, 2, 1, 6, 4, 6, 1, 1, 2, 2, 2, 3, 4, 5, 1, 3, 1, 2, 3, 2, 2, 5, 3, 6, 4, 6, 4, 3, 4, 4, 6, 3, 4, 3, 3, 6, 5, 2, 4, 2, 3, 6, 2, 4, 2, 2, 3, 1, 1, 4, 6, 3, 4, 2, 3, 6, 6, 6, 1, 4, 5, 4, 3, 2, 1, 6, 5, 2, 4, 2, 1, 1, 2, 3, 3, 2, 4, 3, 5, 2, 2, 5, 4, 3, 1, 6, 1, 2, 2, 1, 1, 3, 3, 1, 5, 4, 5, 3, 2, 4, 6]\n"
     ]
    }
   ],
   "source": [
    "num_sims=1000\n",
    "values=[] # output of the die roll.\n",
    "\n",
    "for sim in range(num_sims):\n",
    "    die=random.choice(range(1,7)) # range(1,7) =[1,2,3,4,5,6]\n",
    "    values += [die] # values.append(die)\n",
    "print(values)"
   ]
  },
  {
   "cell_type": "markdown",
   "metadata": {},
   "source": [
    "Let's first keep a counter for each face value and increment that counter whenever we see that face value. Start with a list of 6 zeros:"
   ]
  },
  {
   "cell_type": "code",
   "execution_count": 31,
   "metadata": {},
   "outputs": [
    {
     "data": {
      "text/plain": [
       "array([0., 0., 0., 0., 0., 0.])"
      ]
     },
     "execution_count": 31,
     "metadata": {},
     "output_type": "execute_result"
    }
   ],
   "source": [
    "import numpy as np\n",
    "counters = np.zeros(6)\n",
    "counters"
   ]
  },
  {
   "cell_type": "markdown",
   "metadata": {},
   "source": [
    "We can use these counters to make our first plots. Let's start with a simple bar graph:"
   ]
  },
  {
   "cell_type": "code",
   "execution_count": 32,
   "metadata": {},
   "outputs": [
    {
     "data": {
      "text/plain": [
       "array([164., 173., 153., 177., 149., 184.])"
      ]
     },
     "execution_count": 32,
     "metadata": {},
     "output_type": "execute_result"
    }
   ],
   "source": [
    "for sim in range(num_sims):\n",
    "    die=random.choice(range(1,7)) # range(1,7) =[1,2,3,4,5,6]\n",
    "    values += [die] # values.append(die)\n",
    "    counters[die-1] += 1\n",
    "counters"
   ]
  },
  {
   "cell_type": "code",
   "execution_count": 33,
   "metadata": {},
   "outputs": [
    {
     "data": {
      "text/plain": [
       "[1, 2, 3, 4, 5, 6]"
      ]
     },
     "execution_count": 33,
     "metadata": {},
     "output_type": "execute_result"
    }
   ],
   "source": [
    "vals = list(range(1,7))\n",
    "vals"
   ]
  },
  {
   "cell_type": "markdown",
   "metadata": {},
   "source": [
    "Adding some labels for the bar plot"
   ]
  },
  {
   "cell_type": "code",
   "execution_count": 34,
   "metadata": {},
   "outputs": [
    {
     "data": {
      "text/plain": [
       "Text(0, 0.5, 'Number of Occurences')"
      ]
     },
     "execution_count": 34,
     "metadata": {},
     "output_type": "execute_result"
    },
    {
     "data": {
      "image/png": "[encoded data removed]",
      "text/plain": [
       "<Figure size 640x480 with 1 Axes>"
      ]
     },
     "metadata": {},
     "output_type": "display_data"
    }
   ],
   "source": [
    "import matplotlib.pyplot as plt\n",
    "\n",
    "plt.bar(vals, counters)\n",
    "plt.xlabel('Die Face')\n",
    "plt.ylabel('Number of Occurences')"
   ]
  },
  {
   "cell_type": "code",
   "execution_count": null,
   "metadata": {},
   "outputs": [],
   "source": []
  },
  {
   "cell_type": "markdown",
   "metadata": {},
   "source": [
    "Here is a more elegant approach (using ```numpy```) if we just want the counts of the outcomes:"
   ]
  },
  {
   "cell_type": "code",
   "execution_count": 35,
   "metadata": {},
   "outputs": [],
   "source": [
    "num_sims=100\n",
    "outcomes=[]\n",
    "for sim in range(num_sims):\n",
    "    die=random.choice(range(1,7))\n",
    "    outcomes+=[die]\n",
    "    \n",
    "# The magic counting code goes here...\n",
    "\n",
    "# TO BE COMPLETED IN CLASS"
   ]
  },
  {
   "cell_type": "code",
   "execution_count": 37,
   "metadata": {},
   "outputs": [
    {
     "data": {
      "text/plain": [
       "[5,\n",
       " 3,\n",
       " 1,\n",
       " 1,\n",
       " 6,\n",
       " 1,\n",
       " 5,\n",
       " 4,\n",
       " 2,\n",
       " 2,\n",
       " 3,\n",
       " 6,\n",
       " 3,\n",
       " 1,\n",
       " 1,\n",
       " 5,\n",
       " 2,\n",
       " 1,\n",
       " 1,\n",
       " 4,\n",
       " 1,\n",
       " 5,\n",
       " 2,\n",
       " 3,\n",
       " 4,\n",
       " 5,\n",
       " 2,\n",
       " 6,\n",
       " 1,\n",
       " 4,\n",
       " 6,\n",
       " 5,\n",
       " 1,\n",
       " 6,\n",
       " 5,\n",
       " 6,\n",
       " 1,\n",
       " 3,\n",
       " 6,\n",
       " 3,\n",
       " 5,\n",
       " 1,\n",
       " 6,\n",
       " 1,\n",
       " 5,\n",
       " 2,\n",
       " 6,\n",
       " 3,\n",
       " 3,\n",
       " 6,\n",
       " 6,\n",
       " 2,\n",
       " 5,\n",
       " 6,\n",
       " 4,\n",
       " 4,\n",
       " 3,\n",
       " 6,\n",
       " 3,\n",
       " 5,\n",
       " 2,\n",
       " 6,\n",
       " 1,\n",
       " 2,\n",
       " 1,\n",
       " 6,\n",
       " 5,\n",
       " 2,\n",
       " 1,\n",
       " 4,\n",
       " 1,\n",
       " 4,\n",
       " 5,\n",
       " 6,\n",
       " 6,\n",
       " 5,\n",
       " 5,\n",
       " 6,\n",
       " 5,\n",
       " 5,\n",
       " 2,\n",
       " 4,\n",
       " 3,\n",
       " 3,\n",
       " 5,\n",
       " 6,\n",
       " 1,\n",
       " 1,\n",
       " 3,\n",
       " 5,\n",
       " 4,\n",
       " 1,\n",
       " 6,\n",
       " 4,\n",
       " 3,\n",
       " 2,\n",
       " 1,\n",
       " 3,\n",
       " 5,\n",
       " 6]"
      ]
     },
     "execution_count": 37,
     "metadata": {},
     "output_type": "execute_result"
    }
   ],
   "source": [
    "outcomes"
   ]
  },
  {
   "cell_type": "code",
   "execution_count": 36,
   "metadata": {},
   "outputs": [
    {
     "data": {
      "text/plain": [
       "(array([1, 2, 3, 4, 5, 6]), array([21, 12, 15, 11, 20, 21]))"
      ]
     },
     "execution_count": 36,
     "metadata": {},
     "output_type": "execute_result"
    }
   ],
   "source": [
    "np.unique(outcomes, return_counts =True)"
   ]
  },
  {
   "cell_type": "code",
   "execution_count": 38,
   "metadata": {},
   "outputs": [
    {
     "data": {
      "text/plain": [
       "Text(0, 0.5, 'Number of Occurences')"
      ]
     },
     "execution_count": 38,
     "metadata": {},
     "output_type": "execute_result"
    },
    {
     "data": {
      "image/png": "[encoded data removed]",
      "text/plain": [
       "<Figure size 640x480 with 1 Axes>"
      ]
     },
     "metadata": {},
     "output_type": "display_data"
    }
   ],
   "source": [
    "vals1, counters2 = np.unique(outcomes, return_counts =True)\n",
    "\n",
    "plt.bar(vals1, counters2)\n",
    "plt.xlabel('Die Face')\n",
    "plt.ylabel('Number of Occurences')"
   ]
  },
  {
   "cell_type": "markdown",
   "metadata": {},
   "source": [
    "Then to get the **relative frequencies** is easy:"
   ]
  },
  {
   "cell_type": "code",
   "execution_count": 38,
   "metadata": {},
   "outputs": [
    {
     "name": "stdout",
     "output_type": "stream",
     "text": [
      "1 0.09\n",
      "2 0.27\n",
      "3 0.15\n",
      "4 0.18\n",
      "5 0.09\n",
      "6 0.22\n"
     ]
    }
   ],
   "source": [
    "num_sims=100\n",
    "outcomes=[]\n",
    "for sim in range(num_sims):\n",
    "    die=random.choice(range(1,7))\n",
    "    outcomes+=[die]\n",
    "\n",
    "vals, counts = np.unique(outcomes, return_counts = True)\n",
    "# TO BE COMPLETED IN CLASS \n",
    "\n",
    "for i in range(len(vals)):\n",
    "    print(vals[i], counts[i]/num_sims)"
   ]
  },
  {
   "cell_type": "code",
   "execution_count": 39,
   "metadata": {},
   "outputs": [
    {
     "data": {
      "text/plain": [
       "Text(0, 0.5, 'Relative frequency')"
      ]
     },
     "execution_count": 39,
     "metadata": {},
     "output_type": "execute_result"
    },
    {
     "data": {
      "image/png": "[encoded data removed]",
      "text/plain": [
       "<Figure size 640x480 with 1 Axes>"
      ]
     },
     "metadata": {},
     "output_type": "display_data"
    }
   ],
   "source": [
    "plt.bar(vals, counts/num_sims)\n",
    "plt.xlabel('Die face')\n",
    "plt.ylabel('Relative frequency')"
   ]
  },
  {
   "cell_type": "code",
   "execution_count": 42,
   "metadata": {},
   "outputs": [],
   "source": [
    "def relDieFace(num_sims):\n",
    "    outcomes=[]\n",
    "    relf = []\n",
    "    for sim in range(num_sims):\n",
    "        die=random.choice(range(1,7))\n",
    "        outcomes+=[die]\n",
    "    vals, counts = np.unique(outcomes, return_counts = True)\n",
    "    for i in range(len(vals)):\n",
    "        relf +=[counts[i]/num_sims]\n",
    "        \n",
    "    return vals, counts, relf"
   ]
  },
  {
   "cell_type": "code",
   "execution_count": 44,
   "metadata": {},
   "outputs": [
    {
     "name": "stdout",
     "output_type": "stream",
     "text": [
      "[1 2 3 4 5 6] [162 197 181 149 171 140] [0.162, 0.197, 0.181, 0.149, 0.171, 0.14]\n"
     ]
    }
   ],
   "source": [
    "vals, counts, relf = relDieFace(1000)\n",
    "print(vals, counts, relf)"
   ]
  },
  {
   "cell_type": "markdown",
   "metadata": {},
   "source": [
    "* How does the relative frequency of each outcome change as we increase/decrease the number of simulations?\n",
    "\n",
    "* What is your conclusion in terms of amount of data needed?\n",
    "\n",
    "* Does the relative frequency *converge* to some value as the number of simulations increases?"
   ]
  },
  {
   "cell_type": "code",
   "execution_count": null,
   "metadata": {
    "slideshow": {
     "slide_type": "slide"
    }
   },
   "outputs": [],
   "source": []
  },
  {
   "cell_type": "code",
   "execution_count": null,
   "metadata": {},
   "outputs": [],
   "source": []
  }
 ],
 "metadata": {
  "celltoolbar": "Slideshow",
  "kernelspec": {
   "display_name": "Python 3 (ipykernel)",
   "language": "python",
   "name": "python3"
  },
  "language_info": {
   "codemirror_mode": {
    "name": "ipython",
    "version": 3
   },
   "file_extension": ".py",
   "mimetype": "text/x-python",
   "name": "python",
   "nbconvert_exporter": "python",
   "pygments_lexer": "ipython3",
   "version": "3.9.13"
  },
  "latex_envs": {
   "LaTeX_envs_menu_present": true,
   "autoclose": false,
   "autocomplete": true,
   "bibliofile": "biblio.bib",
   "cite_by": "apalike",
   "current_citInitial": 1,
   "eqLabelWithNumbers": true,
   "eqNumInitial": 1,
   "hotkeys": {
    "equation": "Ctrl-E",
    "itemize": "Ctrl-I"
   },
   "labels_anchors": false,
   "latex_user_defs": false,
   "report_style_numbering": false,
   "user_envs_cfg": false
  },
  "varInspector": {
   "cols": {
    "lenName": 16,
    "lenType": 16,
    "lenVar": 40
   },
   "kernels_config": {
    "python": {
     "delete_cmd_postfix": "",
     "delete_cmd_prefix": "del ",
     "library": "var_list.py",
     "varRefreshCmd": "print(var_dic_list())"
    },
    "r": {
     "delete_cmd_postfix": ") ",
     "delete_cmd_prefix": "rm(",
     "library": "var_list.r",
     "varRefreshCmd": "cat(var_dic_list()) "
    }
   },
   "oldHeight": 413,
   "position": {
    "height": "435px",
    "left": "1541px",
    "right": "20px",
    "top": "115px",
    "width": "350px"
   },
   "types_to_exclude": [
    "module",
    "function",
    "builtin_function_or_method",
    "instance",
    "_Feature"
   ],
   "varInspector_section_display": "block",
   "window_display": false
  }
 },
 "nbformat": 4,
 "nbformat_minor": 4
}
