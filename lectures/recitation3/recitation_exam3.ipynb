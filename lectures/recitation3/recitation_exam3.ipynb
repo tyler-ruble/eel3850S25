{
 "cells": [
  {
   "cell_type": "code",
   "execution_count": null,
   "metadata": {},
   "outputs": [],
   "source": []
  },
  {
   "cell_type": "markdown",
   "metadata": {},
   "source": [
    "# Recitation class\n"
   ]
  },
  {
   "cell_type": "markdown",
   "metadata": {},
   "source": [
    "# Import all necessary libraries and magics\n",
    "\n"
   ]
  },
  {
   "cell_type": "code",
   "execution_count": 2,
   "metadata": {},
   "outputs": [],
   "source": [
    "import scipy.stats as stats\n",
    "import numpy as np\n",
    "import numpy.random as npr\n",
    "import matplotlib.pyplot as plt\n",
    "import pandas as pd\n",
    "import math"
   ]
  },
  {
   "cell_type": "markdown",
   "metadata": {},
   "source": [
    "### Exam Details\n",
    "\n",
    "All exams will have 2 parts:\n",
    "\n",
    "**<font color=blue>Part 1 - Analytical.</font>**\n",
    "* You are allowed 1-page letter-sized front and back of formulas (handwritten or typed).\n",
    "* You are allowed a scientific calculator.\n",
    "* **<font color=orange>TOTAL TIME:</font>** 50 hour\n",
    " \n",
    "\n",
    "**<font color=blue>Part 2 - Simulation.</font>**\n",
    "* Bring the computer you have been using with Anaconda installed.\n",
    "* This part is open-book. You are allowed access to the textbooks and lecture materials (including assignments).\n",
    "* You are allowed to use the internet, if needed.\n",
    "* *Recommended*: create a python \"cheat sheet\" where you will add useful functions, simulations and other Python implementations.\n",
    "* **<font color=orange>TOTAL TIME:</font>** 50 hour\n",
    "\n",
    "**<font color=red>Communications between students or anyone else during the exam is considered cheating. Turn off all Slack notifications and other communications channels!</font>**"
   ]
  },
  {
   "cell_type": "markdown",
   "metadata": {},
   "source": [
    "## Exam 3 Coverage\n",
    "\n",
    "Exam 3 will cover all materials from Lectures 10 onwards. These include:\n",
    "\n",
    "1. **Hypothesis Testing**\n",
    "    * Z-test, T-test, \n",
    "    * Test of the difference in mean.\n",
    "     \n",
    "2. **Vectors, Covariance, and Linear Regress**\n",
    "    * Vector inner product, norm, projection, meaning of projection.\n",
    "    * Least square, linear regression. \n",
    "    * Matrix vector product, rotation of coordinates.\n",
    "    * Principal component analysis. Spree plot. Explained variance vs total variance.\n",
    "    * Python implementation."
   ]
  },
  {
   "cell_type": "markdown",
   "metadata": {},
   "source": [
    "## How to prepare for exam\n",
    "\n",
    "**This is a suggestion only.**\n",
    "\n",
    "1. Review/read all Notebooks and homeworks (2/3 questions will be selected from homework assignments, in-lecture examples, recitations.)\n",
    "\n",
    "2. Create your formula sheet for part 1. \n",
    "\n",
    "3. Solve practice problems provided in the recitation class."
   ]
  },
  {
   "cell_type": "code",
   "execution_count": 1,
   "metadata": {},
   "outputs": [],
   "source": [
    "import numpy as np\n",
    "import numpy.random as npr\n",
    "import pandas as pd\n",
    "import pickle\n",
    "import scipy.stats as stats\n",
    "import matplotlib.pyplot as plt\n",
    "%matplotlib inline\n",
    "plt.style.use('bmh')\n"
   ]
  },
  {
   "cell_type": "code",
   "execution_count": null,
   "metadata": {},
   "outputs": [],
   "source": []
  },
  {
   "cell_type": "markdown",
   "metadata": {},
   "source": [
    "# Question 1\n",
    "\n",
    "\n",
    "In an honors program, we want to determine if the mean IQ score of 30  students in the honors program differ from the general population.   The general population’s IQ scores are tested for 200 students as having a mean of 100 and a standard deviation of 15. \n",
    " \n",
    "The mean IQ scores of students in the honors program is  107 with std of 9. Based on this result, will you reject the null hypothesis H0: ``There is no difference between the IQ score of students in the honors program and the general population''? with 0.05 level of significance?\n",
    "\n",
    "\n"
   ]
  },
  {
   "cell_type": "markdown",
   "metadata": {},
   "source": [
    "# Question 2\n",
    "\n",
    "\n",
    "A manufacturer of a patent medicine claims that it was 90\\% effective in relieving an allergy  for 24 hours. In a sample of 100 people who had the allergy, the medicine provides relief for 80 people.\n",
    "\n",
    "Determine if the company's claim is legitimate given 0.01 as the level of significance.\n",
    "\n",
    "\n"
   ]
  },
  {
   "cell_type": "markdown",
   "metadata": {},
   "source": [
    "# Question 3\n",
    "\n",
    "Let $X_1,\\ldots X_n$ be denote the independent, identically distributed, random variables for a random sample of size $n$. The distribution of $X_i$ has a mean $\\mu_1$ and std $\\sigma_1$.\n",
    "\n",
    "Let $Y_1,\\ldots Y_m$ be denote the independent, identically distributed, random variables for a random sample of size $m$. The distribution of $Y_i$ has a mean $\\mu_2$ and std $\\sigma_2$.\n",
    "\n",
    "\n",
    " \n",
    "Derive the mean and variance of \n",
    "\n",
    "* $X_1+X_2+\\ldots +X_n -( Y_1 + Y_2 + \\ldots + Y_m)$.\n",
    "\n",
    "* $\\bar X - \\bar Y$ where $\\bar X = \\frac{X_1+X_2+\\ldots +X_n}{n}$ and $\\bar Y = \\frac{Y_1+Y_2+\\ldots +Y_m}{m}$. \n"
   ]
  },
  {
   "cell_type": "code",
   "execution_count": null,
   "metadata": {},
   "outputs": [],
   "source": []
  },
  {
   "cell_type": "markdown",
   "metadata": {},
   "source": [
    "# Question 4\n",
    "\n",
    "Prove if X and Y are independent Random variable, then their covariance must be zero."
   ]
  },
  {
   "cell_type": "code",
   "execution_count": null,
   "metadata": {},
   "outputs": [],
   "source": []
  },
  {
   "cell_type": "markdown",
   "metadata": {},
   "source": [
    "# Question 5\n",
    "\n",
    "Answer the following questions. For each one, justify your answer with reasoning or a brief explanation.\n",
    "1.   Let $ A $ be a matrix of size $ 3 \\times 2 $ and $ \\mathbf{x} $ be a vector of size $ 2 \\times 1 $.  \n",
    "   Can you compute $ A\\mathbf{x} $? What is the size of the result?\n",
    " \n",
    "2.   Let $ A \\in \\mathbb{R}^{m \\times n} $ and $ \\mathbf{x} \\in \\mathbb{R}^{n} $.  \n",
    "   What is the size of $ A\\mathbf{x} $? Why?\n",
    "\n",
    " \n",
    "3.  Let $ B \\in \\mathbb{R}^{4 \\times 5} $ and $ \\mathbf{y} \\in \\mathbb{R}^{4 \\times 1} $.  \n",
    "   Can you compute $ B\\mathbf{y} $? Why or why not?\n",
    "\n",
    " \n",
    "\n",
    "4.  Let $ C \\in \\mathbb{R}^{n \\times n} $ be a square matrix and $ \\mathbf{v} \\in \\mathbb{R}^n $.  \n",
    "   What is the result of $ C\\mathbf{v} $, and what does it represent geometrically?\n",
    "\n",
    " \n",
    "\n",
    "5. Suppose $ D \\in \\mathbb{R}^{3 \\times 4} $ and you want to compute $ \\mathbf{v}^T D $, where $ \\mathbf{v} \\in \\mathbb{R}^3 $.  \n",
    "   Is this multiplication valid? Why or why not?\n",
    "\n"
   ]
  },
  {
   "cell_type": "markdown",
   "metadata": {},
   "source": [
    "\n"
   ]
  },
  {
   "cell_type": "markdown",
   "metadata": {},
   "source": [
    "# Question 6\n",
    "\n",
    "\n",
    "Let $ \\mathbf{x} = \\begin{bmatrix} 1 \\\\ 0 \\end{bmatrix} $ .  \n",
    "Rotate the coordinate counterclockwise by $  \\theta $ . What is the new coordinate? What is the rotation matrix? Explain your answer using the variable $\\theta$.\n"
   ]
  },
  {
   "cell_type": "markdown",
   "metadata": {},
   "source": [
    "\n",
    "$$ \\mathbf{x} = \\begin{bmatrix} 2 \\\\ \\sqrt{3} \\end{bmatrix} $$.  Rotate the coordinate clockwise by $  \\theta $\n",
    "What is the new coordinate? What is the rotation matrix? Explain your answer using the variable $\\theta$.\n"
   ]
  },
  {
   "cell_type": "code",
   "execution_count": null,
   "metadata": {},
   "outputs": [],
   "source": []
  },
  {
   "cell_type": "markdown",
   "metadata": {},
   "source": [
    "# Question 7\n",
    "\n",
    "\n",
    "Let $$ \\mathbf{u} = \\begin{bmatrix} 3 \\\\ -1 \\\\ 2 \\end{bmatrix} $$ and $$ \\mathbf{v} = \\begin{bmatrix} 1 \\\\ 4 \\\\ -2 \\end{bmatrix}. $$   \n",
    "\n",
    "- Compute the inner product  $ \\mathbf{u}^\\top \\mathbf{v} $.\n",
    "\n",
    "- Compute the projection of $\\mathbf{u}$ to $\\mathbf{v}$ and the projection of $\\mathbf{v}$ to $\\mathbf{u}$.\n"
   ]
  },
  {
   "cell_type": "code",
   "execution_count": null,
   "metadata": {},
   "outputs": [],
   "source": []
  },
  {
   "cell_type": "markdown",
   "metadata": {},
   "source": [
    "# Question 8\n",
    "\n",
    "Explain how the inner product relates to the angle between two vectors.  \n",
    "What does it mean if $  \\mathbf{u}^\\top \\mathbf{v} = 0 $ ?"
   ]
  },
  {
   "cell_type": "code",
   "execution_count": null,
   "metadata": {},
   "outputs": [],
   "source": []
  },
  {
   "cell_type": "markdown",
   "metadata": {},
   "source": [
    "# Question 9\n",
    "\n",
    "The matrix $\n",
    "A = \\begin{bmatrix}\n",
    "2 & 1 \\\\\n",
    "1 & 2\n",
    "\\end{bmatrix}\n",
    "$ have two eigenvalues $\\lambda_1=1$ and $\\lambda_2= 3$. Compute the eigenvectors and write $A = U \\Lambda U^{-1}$ --- the diagonal decomposition of $A$. \n"
   ]
  },
  {
   "cell_type": "markdown",
   "metadata": {},
   "source": [
    "# Question 10 (mixture of handwritten and programming part)\n",
    "\n",
    "A company advertises that its new smartwatch has an average battery life of 36 hours on a full charge. You suspect this is an overestimate and conduct your own tests. After testing 5 watches, you observe the following battery lives (in hours):\n",
    "\n",
    "$[34.5,\\ 36.0,\\ 35.2,\\ 33.8,\\ 34.9]$\n",
    "\n",
    "\n",
    "1. (3 points) Compute the unbiased sample mean and unbiased sample variance for the battery life.\n",
    "\n",
    "\n",
    "2. (6 points) Suppose that the true variance $\\sigma^2$ is unknown. Answer the following questions:\n",
    "\n",
    "    a) Test the hypothesis $\\mu = 36$ at 95\\% confidence using a one-sided  t-test. What is your conclusion?\n",
    "    \n",
    "    b) Determine the range of sample means for which the null hypothesis $\\mu = 36$ is accepted with 95% confidence.\n",
    "\n",
    "\n",
    "3. (6 points) You then find an internal report claiming the true variance is $\\sigma^2 = 0.49$.\n",
    "\n",
    "    a) Test the hypothesis $\\mu = 36$ at 95\\% confidence using a one-sided z-test. What is your conclusion?\n",
    "    \n",
    "    b) Determine the range of sample means for which the null hypothesis is accepted with 95% confidence.\n",
    "    \n",
    "    \n",
    "4. (3 points) Compare your conclusions from parts 2 and 3. Are they the same? Why or why not? What happens to your conclusion as you increase the number of samples?"
   ]
  },
  {
   "cell_type": "markdown",
   "metadata": {},
   "source": [
    "# Question 11\n",
    "\n",
    "The file ```coffee_prices.csv``` contains the price and review ratings of coffee in walmart stores around the country. We want to determine whether highly rated coffees tend to be more expensive. \n",
    "\n",
    "**Answer the following questions.**\n",
    "1. (2 point) Load the csv file into a dataframe using pandas, and print the first five rows.\n",
    "2. (3 points) Extract the ```rating``` column and the ```price_per_kg``` column. Plot a scatter plot with price per kg on the x-axis and rating on the y-axis. Plot the coffees whose ratings are above 4.5 in a different color than the ones whose ratings are below or equal to 4.5.\n",
    "3. (4 points) Define the two variables of interest: the coffee prices whose ratings are above $4.5$ as ```x```, and the coffee prices whose ratings are below or equal to $4.5$ as ```y```. Plot a histogram of the prices of the highly-rated coffee population. Overlay this with the histogram of the prices of low-rated coffees. The two histograms should have the same bins.\n",
    "4. (5 points) Compute the sample mean estimators and the unbiased sample variance estimators for each variable, ```x``` and ```y```.\n",
    "5. (6 points) Build a hypothesis test to test the difference-of-means for the two variables. Include the description for $H_0$ and $H_1$, and a conclusion for a significance level $\\alpha=0.01$."
   ]
  },
  {
   "cell_type": "code",
   "execution_count": null,
   "metadata": {},
   "outputs": [],
   "source": []
  },
  {
   "cell_type": "code",
   "execution_count": null,
   "metadata": {},
   "outputs": [],
   "source": []
  },
  {
   "cell_type": "markdown",
   "metadata": {},
   "source": [
    "___"
   ]
  },
  {
   "cell_type": "markdown",
   "metadata": {},
   "source": [
    "___"
   ]
  },
  {
   "cell_type": "code",
   "execution_count": null,
   "metadata": {},
   "outputs": [],
   "source": []
  },
  {
   "cell_type": "markdown",
   "metadata": {},
   "source": [
    "# Question 12\n",
    "\n",
    "**Combined Cycle Power Plant Data Set** obtained from [UCI Machine Learning Repository](https://archive.ics.uci.edu/ml/datasets/Combined+Cycle+Power+Plant).\n",
    "\n",
    "The dataset contains 9568 data samples collected from a Combined Cycle Power Plant (CCPP) over 6 years (2006-2011), when the power plant was set to work with full load. \n",
    "\n",
    "A combined cycle power plant (CCPP) is composed of gas turbines (GT), steam turbines (ST) and heat recovery steam generators. In a CCPP, the electricity is generated by gas and steam turbines, which are combined in one cycle, and is transferred from one turbine to another. While the Vacuum is collected from and has effect on the Steam Turbine, the other three of the ambient variables effect the GT performance.\n",
    "\n",
    "The *goal* is to predict the net hourly electrical energy output (PE) of the plant using a different set of features (or variables), in particular, hourly average of:\n",
    "\n",
    "* Ambient Temperature (AT),\n",
    "* Ambient Pressure (AP),\n",
    "* Relative Humidity (RH), and \n",
    "* Exhaust Vacuum (V)."
   ]
  },
  {
   "cell_type": "code",
   "execution_count": 2,
   "metadata": {},
   "outputs": [
    {
     "data": {
      "text/html": [
       "<div>\n",
       "<style scoped>\n",
       "    .dataframe tbody tr th:only-of-type {\n",
       "        vertical-align: middle;\n",
       "    }\n",
       "\n",
       "    .dataframe tbody tr th {\n",
       "        vertical-align: top;\n",
       "    }\n",
       "\n",
       "    .dataframe thead th {\n",
       "        text-align: right;\n",
       "    }\n",
       "</style>\n",
       "<table border=\"1\" class=\"dataframe\">\n",
       "  <thead>\n",
       "    <tr style=\"text-align: right;\">\n",
       "      <th></th>\n",
       "      <th>AT</th>\n",
       "      <th>V</th>\n",
       "      <th>AP</th>\n",
       "      <th>RH</th>\n",
       "      <th>PE</th>\n",
       "    </tr>\n",
       "  </thead>\n",
       "  <tbody>\n",
       "    <tr>\n",
       "      <th>0</th>\n",
       "      <td>8.34</td>\n",
       "      <td>40.77</td>\n",
       "      <td>1010.84</td>\n",
       "      <td>90.01</td>\n",
       "      <td>480.48</td>\n",
       "    </tr>\n",
       "    <tr>\n",
       "      <th>1</th>\n",
       "      <td>23.64</td>\n",
       "      <td>58.49</td>\n",
       "      <td>1011.40</td>\n",
       "      <td>74.20</td>\n",
       "      <td>445.75</td>\n",
       "    </tr>\n",
       "    <tr>\n",
       "      <th>2</th>\n",
       "      <td>29.74</td>\n",
       "      <td>56.90</td>\n",
       "      <td>1007.15</td>\n",
       "      <td>41.91</td>\n",
       "      <td>438.76</td>\n",
       "    </tr>\n",
       "    <tr>\n",
       "      <th>3</th>\n",
       "      <td>19.07</td>\n",
       "      <td>49.69</td>\n",
       "      <td>1007.22</td>\n",
       "      <td>76.79</td>\n",
       "      <td>453.09</td>\n",
       "    </tr>\n",
       "    <tr>\n",
       "      <th>4</th>\n",
       "      <td>11.80</td>\n",
       "      <td>40.66</td>\n",
       "      <td>1017.13</td>\n",
       "      <td>97.20</td>\n",
       "      <td>464.43</td>\n",
       "    </tr>\n",
       "    <tr>\n",
       "      <th>...</th>\n",
       "      <td>...</td>\n",
       "      <td>...</td>\n",
       "      <td>...</td>\n",
       "      <td>...</td>\n",
       "      <td>...</td>\n",
       "    </tr>\n",
       "    <tr>\n",
       "      <th>9563</th>\n",
       "      <td>15.12</td>\n",
       "      <td>48.92</td>\n",
       "      <td>1011.80</td>\n",
       "      <td>72.93</td>\n",
       "      <td>462.59</td>\n",
       "    </tr>\n",
       "    <tr>\n",
       "      <th>9564</th>\n",
       "      <td>33.41</td>\n",
       "      <td>77.95</td>\n",
       "      <td>1010.30</td>\n",
       "      <td>59.72</td>\n",
       "      <td>432.90</td>\n",
       "    </tr>\n",
       "    <tr>\n",
       "      <th>9565</th>\n",
       "      <td>15.99</td>\n",
       "      <td>43.34</td>\n",
       "      <td>1014.20</td>\n",
       "      <td>78.66</td>\n",
       "      <td>465.96</td>\n",
       "    </tr>\n",
       "    <tr>\n",
       "      <th>9566</th>\n",
       "      <td>17.65</td>\n",
       "      <td>59.87</td>\n",
       "      <td>1018.58</td>\n",
       "      <td>94.65</td>\n",
       "      <td>450.93</td>\n",
       "    </tr>\n",
       "    <tr>\n",
       "      <th>9567</th>\n",
       "      <td>23.68</td>\n",
       "      <td>51.30</td>\n",
       "      <td>1011.86</td>\n",
       "      <td>71.24</td>\n",
       "      <td>451.67</td>\n",
       "    </tr>\n",
       "  </tbody>\n",
       "</table>\n",
       "<p>9568 rows × 5 columns</p>\n",
       "</div>"
      ],
      "text/plain": [
       "         AT      V       AP     RH      PE\n",
       "0      8.34  40.77  1010.84  90.01  480.48\n",
       "1     23.64  58.49  1011.40  74.20  445.75\n",
       "2     29.74  56.90  1007.15  41.91  438.76\n",
       "3     19.07  49.69  1007.22  76.79  453.09\n",
       "4     11.80  40.66  1017.13  97.20  464.43\n",
       "...     ...    ...      ...    ...     ...\n",
       "9563  15.12  48.92  1011.80  72.93  462.59\n",
       "9564  33.41  77.95  1010.30  59.72  432.90\n",
       "9565  15.99  43.34  1014.20  78.66  465.96\n",
       "9566  17.65  59.87  1018.58  94.65  450.93\n",
       "9567  23.68  51.30  1011.86  71.24  451.67\n",
       "\n",
       "[9568 rows x 5 columns]"
      ]
     },
     "execution_count": 2,
     "metadata": {},
     "output_type": "execute_result"
    }
   ],
   "source": [
    "import pandas as pd\n",
    "Data = pd.read_csv('PowerPlant.csv')\n",
    "Data"
   ]
  },
  {
   "cell_type": "markdown",
   "metadata": {},
   "source": [
    "1.  Perform linear regression given x=Ambient Temperature (AT) and y= the net hourly electrical energy output (PE)."
   ]
  },
  {
   "cell_type": "code",
   "execution_count": null,
   "metadata": {},
   "outputs": [],
   "source": []
  },
  {
   "cell_type": "code",
   "execution_count": null,
   "metadata": {},
   "outputs": [],
   "source": []
  },
  {
   "cell_type": "markdown",
   "metadata": {},
   "source": [
    "2. Evaluate if there is significant relationship between the ambient temperature and the PE? Justify your reasoning."
   ]
  },
  {
   "cell_type": "code",
   "execution_count": null,
   "metadata": {},
   "outputs": [],
   "source": []
  },
  {
   "cell_type": "markdown",
   "metadata": {},
   "source": [
    "3. Center the data first.\n"
   ]
  },
  {
   "cell_type": "code",
   "execution_count": null,
   "metadata": {},
   "outputs": [],
   "source": []
  },
  {
   "cell_type": "markdown",
   "metadata": {},
   "source": [
    "\n",
    "4. In this data set, since  the AT (temperature) is in °C (range 0–40), and Ambient Pressure (AP), is in millibars (range ~1000), we need to perform a normalization of the data so that they have the same scale.\n",
    "\n",
    "The scaling of data is performed by  dividing the feature value by the standard deviation of each feature (so std = 1). Next, please scale the data.\n"
   ]
  },
  {
   "cell_type": "code",
   "execution_count": null,
   "metadata": {},
   "outputs": [],
   "source": []
  },
  {
   "cell_type": "markdown",
   "metadata": {},
   "source": [
    "5. After you obtain the center and scaled data, compute the covariance matrix. Explain what features is most correlated with AP."
   ]
  },
  {
   "cell_type": "code",
   "execution_count": null,
   "metadata": {},
   "outputs": [],
   "source": []
  },
  {
   "cell_type": "markdown",
   "metadata": {},
   "source": [
    "6. Perform PCA and project the data to top two principal components."
   ]
  },
  {
   "cell_type": "code",
   "execution_count": null,
   "metadata": {},
   "outputs": [],
   "source": []
  },
  {
   "cell_type": "markdown",
   "metadata": {},
   "source": [
    "7. How much variance is explained by the top two PCs?"
   ]
  },
  {
   "cell_type": "code",
   "execution_count": null,
   "metadata": {},
   "outputs": [],
   "source": []
  },
  {
   "cell_type": "markdown",
   "metadata": {},
   "source": [
    "8. After projecting your data onto the first two principal components, how would you reconstruct an approximation of the original data? "
   ]
  },
  {
   "cell_type": "code",
   "execution_count": null,
   "metadata": {},
   "outputs": [],
   "source": []
  },
  {
   "cell_type": "markdown",
   "metadata": {},
   "source": [
    "9. Plot the scree plot of explained variance by top k PCs and the total variance of the data."
   ]
  },
  {
   "cell_type": "code",
   "execution_count": null,
   "metadata": {},
   "outputs": [],
   "source": []
  }
 ],
 "metadata": {
  "kernelspec": {
   "display_name": "Python 3 (ipykernel)",
   "language": "python",
   "name": "python3"
  },
  "language_info": {
   "codemirror_mode": {
    "name": "ipython",
    "version": 3
   },
   "file_extension": ".py",
   "mimetype": "text/x-python",
   "name": "python",
   "nbconvert_exporter": "python",
   "pygments_lexer": "ipython3",
   "version": "3.9.13"
  },
  "latex_envs": {
   "LaTeX_envs_menu_present": true,
   "autoclose": false,
   "autocomplete": true,
   "bibliofile": "biblio.bib",
   "cite_by": "apalike",
   "current_citInitial": 1,
   "eqLabelWithNumbers": true,
   "eqNumInitial": 1,
   "hotkeys": {
    "equation": "Ctrl-E",
    "itemize": "Ctrl-I"
   },
   "labels_anchors": false,
   "latex_user_defs": false,
   "report_style_numbering": false,
   "user_envs_cfg": false
  },
  "varInspector": {
   "cols": {
    "lenName": 16,
    "lenType": 16,
    "lenVar": 40
   },
   "kernels_config": {
    "python": {
     "delete_cmd_postfix": "",
     "delete_cmd_prefix": "del ",
     "library": "var_list.py",
     "varRefreshCmd": "print(var_dic_list())"
    },
    "r": {
     "delete_cmd_postfix": ") ",
     "delete_cmd_prefix": "rm(",
     "library": "var_list.r",
     "varRefreshCmd": "cat(var_dic_list()) "
    }
   },
   "types_to_exclude": [
    "module",
    "function",
    "builtin_function_or_method",
    "instance",
    "_Feature"
   ],
   "window_display": false
  }
 },
 "nbformat": 4,
 "nbformat_minor": 4
}
