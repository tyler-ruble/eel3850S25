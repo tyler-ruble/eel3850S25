{
 "cells": [
  {
   "cell_type": "markdown",
   "id": "bbe66476-e73d-4df3-8f50-0e9294415d8c",
   "metadata": {},
   "source": [
    "# Lecture 8\n",
    "- Central limit theorem"
   ]
  },
  {
   "cell_type": "code",
   "execution_count": null,
   "id": "92cf0f1b-5650-452a-8c29-1ccaceef13be",
   "metadata": {},
   "outputs": [],
   "source": [
    "\n",
    "import numpy as np\n",
    "import numpy.random as npr\n",
    "import random\n",
    "import itertools\n",
    "\n",
    "import pandas as pd\n",
    "\n",
    "import matplotlib.pyplot as plt\n",
    "%matplotlib inline\n",
    "# plt.style.use('ggplot')\n",
    "\n",
    "import scipy.stats as stats"
   ]
  },
  {
   "cell_type": "code",
   "execution_count": null,
   "id": "5cfe0d08-6982-4d88-8e80-faeab4020373",
   "metadata": {},
   "outputs": [],
   "source": [
    "# For the simple motivating example\n",
    "import matplotlib.ticker as ticker  # Import ticker for formatting\n"
   ]
  },
  {
   "cell_type": "markdown",
   "id": "b2dbdb8d-3341-45e3-ba6b-942fe296b6e0",
   "metadata": {},
   "source": [
    "# First, can we use simulation to solve this question?\n",
    "A machine process parts, one at a time, in a time independently and uniformly distributed in [1,5]. \n",
    "What is the probability the machine processes at least 100 parts in 320 time units? "
   ]
  },
  {
   "cell_type": "code",
   "execution_count": null,
   "id": "71659806-814a-496b-acc8-d3511aee2841",
   "metadata": {},
   "outputs": [],
   "source": [
    "\n",
    "n=100 # the total number of parts.\n",
    "\n",
    "# define the random variable for the time needed for processing one part.\n",
    "   "
   ]
  },
  {
   "cell_type": "code",
   "execution_count": null,
   "id": "c171de3a-0ead-434c-9dac-814f15855f49",
   "metadata": {},
   "outputs": [],
   "source": [
    "# todo implement a simulation to compute the probability\n",
    "num_sims = 10_000 \n",
    "count=0\n",
    "for i in range(num_sims):\n",
    "    Xseq =  \n",
    "    if : #TODO\n",
    "        count +=1\n",
    "print(\"The relative frequency of processing at least 100 parts in 320 time unit\", count/num_sims)"
   ]
  },
  {
   "cell_type": "code",
   "execution_count": null,
   "id": "ff1d6410-9801-48f3-93b6-b0714a63be2f",
   "metadata": {},
   "outputs": [],
   "source": [
    "def getSnMnZn(n): \n",
    "    num_sims = 10_000\n",
    "    Sn = np.zeros(num_sims)\n",
    "    Mn = np.zeros(num_sims)\n",
    "    Zn = np.zeros(num_sims)\n",
    "    for i in range(num_sims):\n",
    "        Xseq=   \n",
    "        Sn[i] =  \n",
    "        Mn[i] =  \n",
    "        Zn[i] =  \n",
    "    return Sn, Mn, Zn"
   ]
  },
  {
   "cell_type": "code",
   "execution_count": null,
   "id": "25a68c5f-921d-4da3-8f76-dc8dcb81a2d8",
   "metadata": {},
   "outputs": [],
   "source": [
    "#PLOTING\n",
    "\n",
    "fig, axes = plt.subplots(1, 3, figsize=(15, 5))  # 1 row, 3 columns\n",
    "\n",
    "axes[0].hist(, density=True, alpha=0.6, color='blue', label='Sn[i]')\n",
    "axes[1].hist(, bins=30, density=True, alpha=0.6, color='red', label='Mn[i]')\n",
    "axes[2].hist(, bins=30, density=True, alpha=0.6, color='blue', label='Zn[i]')\n"
   ]
  },
  {
   "cell_type": "code",
   "execution_count": null,
   "id": "e23991f1-d384-4bda-90df-0476a4ab6e7c",
   "metadata": {},
   "outputs": [],
   "source": [
    "from ipywidgets import interactive"
   ]
  },
  {
   "cell_type": "code",
   "execution_count": null,
   "id": "442bef09-4095-4eaf-bba0-511572a3b11f",
   "metadata": {},
   "outputs": [],
   "source": [
    "def uplotMn(n):\n",
    "    _, Mn, _ = getSnMnZn(n)\n",
    "    plt.hist(Mn, bins=30)\n",
    "    plt.xlim(-0.1, 6)\n",
    "    \n",
    "interactive_plot = interactive(uplotMn, n=100)\n",
    "interactive_plot"
   ]
  },
  {
   "cell_type": "code",
   "execution_count": null,
   "id": "865ebf2f-7bf6-4655-be5e-35a004b4b03a",
   "metadata": {},
   "outputs": [],
   "source": [
    "def uplotSn(n):\n",
    "    Sn,_, _ = getSnMnZn(n)\n",
    "    plt.hist(Sn, bins=30)\n",
    "    plt.xlim(-0.1,2500)\n",
    "    \n",
    "interactive_plot = interactive(uplotSn, n=100)\n",
    "interactive_plot"
   ]
  },
  {
   "cell_type": "code",
   "execution_count": null,
   "id": "9cec0b7e-6e8e-40ef-bb87-30ccb4090f2f",
   "metadata": {},
   "outputs": [],
   "source": [
    "def uplotZn(n):\n",
    "    _,_, Zn = getSnMnZn(n)\n",
    "    plt.hist(Zn, bins=30)\n",
    "    plt.xlim(-5,5)\n",
    "    \n",
    "interactive_plot = interactive(uplotZn, n=100)\n",
    "interactive_plot"
   ]
  },
  {
   "cell_type": "markdown",
   "id": "1083204a-d874-43cd-b3bd-2c6df57044e3",
   "metadata": {},
   "source": [
    "## Revisit our problem\n",
    "\n",
    "A machine process parts, one at a time, in a time independently and uniformly distributed in [1,5]. \n",
    "What is the probability the machine processes at least 100 parts in 320 time units? "
   ]
  },
  {
   "cell_type": "code",
   "execution_count": null,
   "id": "db60e63b-55b9-4356-8cb3-9d18ff230433",
   "metadata": {},
   "outputs": [],
   "source": [
    " "
   ]
  },
  {
   "cell_type": "code",
   "execution_count": null,
   "id": "de547f01-ad37-4ca4-9d29-74cc2b0e9c93",
   "metadata": {},
   "outputs": [],
   "source": []
  },
  {
   "cell_type": "markdown",
   "id": "bcfa90ca-112e-45e1-8f3b-ead017d93959",
   "metadata": {},
   "source": [
    "## Example: customer support\n",
    "\n",
    "A call center receives customer calls according to an exponential distribution with a mean wait time of 4 minutes.\n",
    "Questions:\n",
    "1. If a single customer calls, what is the probability that they wait more than 5 minutes?\n",
    "2. If we take a random sample of 40 customers, what is the probability that their average wait time is more than 5 minutes? "
   ]
  },
  {
   "cell_type": "code",
   "execution_count": null,
   "id": "af025316-d2bd-4c89-8b65-6048274aab29",
   "metadata": {},
   "outputs": [],
   "source": [
    " "
   ]
  },
  {
   "cell_type": "code",
   "execution_count": null,
   "id": "4a17e8d4-d959-45e2-982b-9fb8c542e17b",
   "metadata": {},
   "outputs": [],
   "source": [
    " "
   ]
  },
  {
   "cell_type": "markdown",
   "id": "b8342122-4fbe-4607-b6de-079ab3d6dc38",
   "metadata": {},
   "source": [
    "## Polling\n",
    "\n",
    "$p$: The fraction of population that will vote \"yes\".\n",
    "\n",
    "$X_i$: The i-th person's vote \n",
    "\n",
    "* What random variable $X_i$ is?\n",
    "\n",
    "$n$: the number of samples we collect .\n",
    "\n",
    "$M_n$: The fraction of \"Yes\" in the sample.\n",
    "\n",
    "Question: What is the number of samples we need to collect so that \n",
    "$P(|M_n- p|\\le 0.01)<0.05$"
   ]
  },
  {
   "cell_type": "code",
   "execution_count": null,
   "id": "35216bf4-3010-40a5-a64b-f6d02139c868",
   "metadata": {},
   "outputs": [],
   "source": []
  },
  {
   "cell_type": "code",
   "execution_count": null,
   "id": "bb8bb429-cca3-4b98-8568-b9bf28c68f14",
   "metadata": {},
   "outputs": [],
   "source": [
    "# FIND THE NUMBER OF SAMPLES."
   ]
  },
  {
   "cell_type": "code",
   "execution_count": null,
   "id": "be0c0e66-b31d-4a1f-a6d5-48178ed74eec",
   "metadata": {},
   "outputs": [],
   "source": []
  }
 ],
 "metadata": {
  "kernelspec": {
   "display_name": "Python 3 (ipykernel)",
   "language": "python",
   "name": "python3"
  },
  "language_info": {
   "codemirror_mode": {
    "name": "ipython",
    "version": 3
   },
   "file_extension": ".py",
   "mimetype": "text/x-python",
   "name": "python",
   "nbconvert_exporter": "python",
   "pygments_lexer": "ipython3",
   "version": "3.9.13"
  }
 },
 "nbformat": 4,
 "nbformat_minor": 5
}
