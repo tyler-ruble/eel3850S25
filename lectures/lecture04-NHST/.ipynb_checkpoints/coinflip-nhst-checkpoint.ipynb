{
 "cells": [
  {
   "cell_type": "code",
   "execution_count": 2,
   "id": "3f9a2590-050c-4ba2-9962-837d554ec208",
   "metadata": {},
   "outputs": [],
   "source": [
    "import numpy as np\n",
    "import numpy.random as npr\n",
    "import random\n",
    "import itertools\n"
   ]
  },
  {
   "cell_type": "code",
   "execution_count": 13,
   "id": "0893e737-0bc9-40e5-9dc9-7baf1e46d9c2",
   "metadata": {},
   "outputs": [],
   "source": [
    "# consider we observed 35 heads out of 50 coin flips.\n",
    "# is the coin fair?\n",
    "test_statistics= 35"
   ]
  },
  {
   "cell_type": "code",
   "execution_count": 17,
   "id": "5686d7c1-612d-4f1b-ab5d-23f2ef058cdf",
   "metadata": {},
   "outputs": [
    {
     "name": "stdout",
     "output_type": "stream",
     "text": [
      "the p-value:  0.1067\n",
      "fail to reject the null hypothesis\n"
     ]
    }
   ],
   "source": [
    "num_sim =10_000\n",
    "count = 0\n",
    "test_statistics= 30\n",
    "alpha=0.05\n",
    "for sim in range(num_sim):\n",
    "    results = random.choices([0,1],k=50)\n",
    "    total_heads = np.sum(results)\n",
    "    if int(total_heads)>= test_statistics:\n",
    "        count +=1\n",
    "pval = count/num_sim\n",
    "print(\"the p-value: \",  pval)\n",
    "if pval <= 0.05:\n",
    "    print(\"reject the null hypothesis\")\n",
    "else:\n",
    "    print(\"fail to reject the null hypothesis\")"
   ]
  }
 ],
 "metadata": {
  "kernelspec": {
   "display_name": "Python 3 (ipykernel)",
   "language": "python",
   "name": "python3"
  },
  "language_info": {
   "codemirror_mode": {
    "name": "ipython",
    "version": 3
   },
   "file_extension": ".py",
   "mimetype": "text/x-python",
   "name": "python",
   "nbconvert_exporter": "python",
   "pygments_lexer": "ipython3",
   "version": "3.9.13"
  }
 },
 "nbformat": 4,
 "nbformat_minor": 5
}
